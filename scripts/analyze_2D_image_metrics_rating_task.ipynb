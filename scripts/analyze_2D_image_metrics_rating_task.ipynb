{
 "cells": [
  {
   "cell_type": "markdown",
   "metadata": {},
   "source": [
    "<a id=\"top\"></a>\n",
    "\n",
    "# Analyze 2D image metrics (rating task)\n",
    "\n",
    "Analyzes quality metrics. As input images, we use the 2D sliced images that are used in the human experiment (not the 3D images).\n",
    "\n",
    "- [Load and preprocess Psytoolkit images](#preprocess)\n",
    "- [Correlation](#correlation)\n",
    "- [Metrics](#metrics)\n",
    "  - [Inception Score (IS)](#inception)\n",
    "  - [Modified Inception Score (m-IS)](#modified_inception)   \n",
    "  - [Frechet Inception Distance (FID)](#frechet)\n",
    "  - [Maximum Mean Discrepancy (MMD)](#mmd)\n",
    "  - [VMAF/PSNR/SSIM](#vmaf)\n",
    "  - [NIQE/BRISQUE](#niqe)\n",
    "  - [Load/save metrics](#load_save)\n",
    "- [Deep QA model](#deepqa)\n",
    "- [PCA](#pca)\n",
    " "
   ]
  },
  {
   "cell_type": "code",
   "execution_count": 1,
   "metadata": {
    "scrolled": true
   },
   "outputs": [],
   "source": [
    "import pandas as pd\n",
    "import numpy as np\n",
    "import scipy, pickle\n",
    "from scipy import stats\n",
    "# import numpy.ma as ma\n",
    "#import nibabel\n",
    "# import os, sys, re, pickle, math, PIL\n",
    "from glob import glob\n",
    "\n",
    "import matplotlib.pyplot as plt\n",
    "import seaborn as sns\n",
    "\n",
    "# from scipy import stats\n",
    "# from mri_gan_tools import check_for_batch_folders, load_numpy_images"
   ]
  },
  {
   "cell_type": "code",
   "execution_count": 2,
   "metadata": {},
   "outputs": [
    {
     "data": {
      "text/plain": [
       "'2.7.0'"
      ]
     },
     "execution_count": 2,
     "metadata": {},
     "output_type": "execute_result"
    }
   ],
   "source": [
    "import tensorflow as tf\n",
    "from tensorflow.keras.applications.inception_v3 import InceptionV3\n",
    "tf.__version__"
   ]
  },
  {
   "cell_type": "code",
   "execution_count": 3,
   "metadata": {},
   "outputs": [],
   "source": [
    "# This code fixes the error \"The kernel appears to have died. It will restart automatically\"\n",
    "# that occurs when using a TF model's predict function\n",
    "# see: https://moonbooks.org/Articles/How-to-fix-the-error-The-kernel-appears-to-have-died-It-will-restart-automatically-with-Tensorflow-on-Mac-/\n",
    "import os\n",
    "os.environ['KMP_DUPLICATE_LIB_OK']='True'"
   ]
  },
  {
   "cell_type": "code",
   "execution_count": 4,
   "metadata": {},
   "outputs": [
    {
     "name": "stdout",
     "output_type": "stream",
     "text": [
      "/Users/matthiastreder\n"
     ]
    }
   ],
   "source": [
    "from pathlib import Path\n",
    "home = str(Path.home())\n",
    "print(home)\n",
    "\n",
    "basedir = os.path.join(home, 'git/MRI-GAN-QA/')\n",
    "datadir = basedir + 'experiment/'\n",
    "imagedir = basedir + 'experiment/Psytoolkit/'\n",
    "figdir = basedir + 'figures/'\n",
    "resultdir = basedir + 'results/'"
   ]
  },
  {
   "cell_type": "code",
   "execution_count": 5,
   "metadata": {},
   "outputs": [
    {
     "name": "stdout",
     "output_type": "stream",
     "text": [
      "5\n"
     ]
    }
   ],
   "source": [
    "# batch numbers for which we have images\n",
    "# batches = [2,3,4,5,6,7,8,9,10,11,12,13,15,19,24,30,37,46,57,72,90,\n",
    "#            112,140,175,219,275,344,430,538,673,843,\n",
    "#            1055,1320,1652,2068,2589,3240,4056,5076,6354,7954,9956,\n",
    "#            12462,15599,19525,24440,30593,38294,47934,60000]\n",
    "\n",
    "# alternative way: directly read the batches from the folder:\n",
    "input_dir = basedir + 'camcan_data/'\n",
    "iterations = [os.path.split(file)[1] for file in glob(input_dir + 'batch*')]\n",
    "\n",
    "print(len(iterations))"
   ]
  },
  {
   "cell_type": "code",
   "execution_count": 6,
   "metadata": {},
   "outputs": [],
   "source": [
    "# dictionary to map between condition number and batch number\n",
    "iterations = ['batch_344', 'batch_1055', 'batch_7954', 'batch_24440', 'batch_60000']\n",
    "iterations = [344, 1055, 7954, 24440, 60000]\n",
    "#, 'real']"
   ]
  },
  {
   "cell_type": "code",
   "execution_count": 7,
   "metadata": {},
   "outputs": [],
   "source": [
    "def bootstrap1(ims, fun, n_bootstrap = 100):\n",
    "    '''Applies function `fun` `n_bootstrap` times \n",
    "    on bootstrapped versions of ims. Returns \n",
    "    a list of results.\n",
    "    \n",
    "    Useful for getting bootstrapped error bars for metrics.\n",
    "    '''\n",
    "    bootstraps = []\n",
    "    n = ims.shape[0]\n",
    "    for _ in range(n_bootstrap): \n",
    "        ix = np.random.choice(n, replace=True, size=n)\n",
    "        bootstraps.append(fun(ims[ix,...]))\n",
    "    return bootstraps"
   ]
  },
  {
   "cell_type": "code",
   "execution_count": 8,
   "metadata": {},
   "outputs": [],
   "source": [
    "def bootstrap2(ims1, ims2, fun, n_bootstrap = 100):\n",
    "    '''Like bootstrap1 but assumes that two sets of images (e.g. target and reference image)\n",
    "       are used as input to `fun`.\n",
    "    '''\n",
    "    bootstraps = []\n",
    "    n1, n2 = ims1.shape[0], ims2.shape[0]\n",
    "    for _ in range(n_bootstrap): \n",
    "        ix1 = np.random.choice(n1, replace=True, size=n1)\n",
    "        ix2 = np.random.choice(n2, replace=True, size=n2)\n",
    "        bootstraps.append(fun(ims1[ix1,...], ims2[ix2,...]))\n",
    "    return bootstraps\n",
    "    "
   ]
  },
  {
   "cell_type": "code",
   "execution_count": 9,
   "metadata": {},
   "outputs": [],
   "source": [
    "def wilcoxon_ranksum(df, col, stat=None, appendix = '', do_print=False, do_remove=True):\n",
    "    '''Performs Wilcoxon ranksum tests on df[col] for all iterations\n",
    "    Args:\n",
    "        appendix: string added to the name of the metric\n",
    "        do_remove: if True and `col` is already present in stat, it is removed first\n",
    "    '''\n",
    "    if do_print: print(col)\n",
    "    if 'real' in list(df.iteration.unique()): \n",
    "        stat_iteration = iterations + ['real']\n",
    "    else:\n",
    "        stat_iteration = iterations\n",
    "\n",
    "    if (stat is not None) and (col in list(stat['metric'].unique()) and do_remove):\n",
    "        print(col, 'is already present, replacing')\n",
    "        stat = stat[stat.metric != col]\n",
    "        \n",
    "    # compare iteration\n",
    "    for ix in range(len(stat_iteration)-1):\n",
    "        df1 = df[df.iteration == stat_iteration[ix]]\n",
    "        df2 = df[df.iteration == stat_iteration[ix+1]]\n",
    "        s = stats.ranksums(df1[col], df2[col])\n",
    "        if do_print: print(f'iteration {stat_iteration[ix]} vs {stat_iteration[ix+1]}:', s)\n",
    "        if stat is not None:\n",
    "            stat = stat.append(pd.Series({'metric':col + appendix, 'iteration':stat_iteration[ix], \\\n",
    "                                   'iteration2':stat_iteration[ix+1],\\\n",
    "                                 'p':s.pvalue, 'z':s.statistic}, name = col), ignore_index=True)\n",
    "    return stat"
   ]
  },
  {
   "cell_type": "code",
   "execution_count": 10,
   "metadata": {},
   "outputs": [],
   "source": [
    "def ordinal_regression(target, predictors):\n",
    "    '''Performs ordinal regression using a Logit model'''\n",
    "    from statsmodels.miscmodels.ordinal_model import OrderedModel\n",
    "    fitted = OrderedModel(target, predictors, distr='probit').fit()\n",
    "    return fitted"
   ]
  },
  {
   "cell_type": "code",
   "execution_count": 11,
   "metadata": {},
   "outputs": [],
   "source": [
    "def convert_iteration_to_ordinal(df):\n",
    "    '''Converts the `iteration` column to ordered categorical type'''\n",
    "    categories = [344, 1055,  7954, 24440, 60000]\n",
    "    if 'real' in df['iteration'].unique(): categories.append('real')\n",
    "    cat_type = pd.api.types.CategoricalDtype(\\\n",
    "                                categories=categories,\\\n",
    "                                ordered=True)\n",
    "    df['iteration'] = df['iteration'].astype(cat_type)"
   ]
  },
  {
   "cell_type": "code",
   "execution_count": 12,
   "metadata": {},
   "outputs": [],
   "source": [
    "def linear_regression(y, x):\n",
    "    # regress y on log x\n",
    "    import statsmodels.api as sm\n",
    "    x = np.log(x.astype('str').astype('float'))\n",
    "    xi = np.stack((x, np.ones(x.shape)), axis=1) # add intercept\n",
    "    fit = sm.OLS(y, xi).fit()\n",
    "    print(fit.summary2())"
   ]
  },
  {
   "cell_type": "code",
   "execution_count": 13,
   "metadata": {},
   "outputs": [
    {
     "data": {
      "text/html": [
       "<div>\n",
       "<style scoped>\n",
       "    .dataframe tbody tr th:only-of-type {\n",
       "        vertical-align: middle;\n",
       "    }\n",
       "\n",
       "    .dataframe tbody tr th {\n",
       "        vertical-align: top;\n",
       "    }\n",
       "\n",
       "    .dataframe thead th {\n",
       "        text-align: right;\n",
       "    }\n",
       "</style>\n",
       "<table border=\"1\" class=\"dataframe\">\n",
       "  <thead>\n",
       "    <tr style=\"text-align: right;\">\n",
       "      <th></th>\n",
       "      <th>metric</th>\n",
       "      <th>iteration</th>\n",
       "      <th>iteration2</th>\n",
       "      <th>p</th>\n",
       "      <th>z</th>\n",
       "    </tr>\n",
       "  </thead>\n",
       "  <tbody>\n",
       "  </tbody>\n",
       "</table>\n",
       "</div>"
      ],
      "text/plain": [
       "Empty DataFrame\n",
       "Columns: [metric, iteration, iteration2, p, z]\n",
       "Index: []"
      ]
     },
     "execution_count": 13,
     "metadata": {},
     "output_type": "execute_result"
    }
   ],
   "source": [
    "# empty dataframe that will be filled with stats\n",
    "stat = pd.DataFrame({'metric':[], 'iteration':[], 'iteration2':[],'p':[], 'z':[]})\n",
    "stat"
   ]
  },
  {
   "cell_type": "code",
   "execution_count": 14,
   "metadata": {},
   "outputs": [],
   "source": [
    "n_bootstrap = 100"
   ]
  },
  {
   "cell_type": "markdown",
   "metadata": {},
   "source": [
    "<a id=\"preprocess\"></a>\n",
    "# Load and preprocess Psytoolkit images\n",
    "[back to top](#top)\n",
    "\n",
    "We can load either of three different sets of images:\n",
    "- `task = 'detection'` - images used in detection task\n",
    "- `task = 'rating'` - images used in rating task\n",
    "- `task = 'notask'` - simply the first 100 images for each iteration number"
   ]
  },
  {
   "cell_type": "code",
   "execution_count": 15,
   "metadata": {},
   "outputs": [],
   "source": [
    "# task = 'detection'\n",
    "task = 'rating'\n",
    "# task = 'notask'"
   ]
  },
  {
   "cell_type": "code",
   "execution_count": 16,
   "metadata": {},
   "outputs": [
    {
     "name": "stdout",
     "output_type": "stream",
     "text": [
      "(30, 3)\n"
     ]
    },
    {
     "data": {
      "text/html": [
       "<div>\n",
       "<style scoped>\n",
       "    .dataframe tbody tr th:only-of-type {\n",
       "        vertical-align: middle;\n",
       "    }\n",
       "\n",
       "    .dataframe tbody tr th {\n",
       "        vertical-align: top;\n",
       "    }\n",
       "\n",
       "    .dataframe thead th {\n",
       "        text-align: right;\n",
       "    }\n",
       "</style>\n",
       "<table border=\"1\" class=\"dataframe\">\n",
       "  <thead>\n",
       "    <tr style=\"text-align: right;\">\n",
       "      <th></th>\n",
       "      <th>index</th>\n",
       "      <th>image</th>\n",
       "      <th>iteration</th>\n",
       "    </tr>\n",
       "  </thead>\n",
       "  <tbody>\n",
       "    <tr>\n",
       "      <th>0</th>\n",
       "      <td>4</td>\n",
       "      <td>batch_344_im_205</td>\n",
       "      <td>344</td>\n",
       "    </tr>\n",
       "  </tbody>\n",
       "</table>\n",
       "</div>"
      ],
      "text/plain": [
       "   index             image iteration\n",
       "0      4  batch_344_im_205       344"
      ]
     },
     "execution_count": 16,
     "metadata": {},
     "output_type": "execute_result"
    }
   ],
   "source": [
    "# load images associated with either detection or rating task. Alternatively, \n",
    "# simply load 100 images for notask\n",
    "n_max = 100 # max number of images\n",
    "\n",
    "if task == 'notask':\n",
    "    dfs = []\n",
    "    for iteration in ('real','344','1055', '7954', '24440', '60000'):\n",
    "        tmp = pd.DataFrame({'image':range(1,n_max+1)})\n",
    "        if iteration != 'real':\n",
    "            tmp['image'] = tmp['image'].map(lambda x: f'batch_{iteration}_im_{x}')\n",
    "        else:\n",
    "            tmp['image'] = tmp['image'].map(lambda x: f'{iteration}_im_{x}')\n",
    "        tmp['iteration'] = iteration\n",
    "        dfs.append(tmp)\n",
    "    df_images = pd.concat(dfs, axis=0).reset_index()\n",
    "else:\n",
    "    if task == 'detection':\n",
    "        df_images = pd.read_csv(datadir + 'Psytoolkit/main_experiment_table.txt', sep=' ', header=None, names=['image','button','batch']).sort_values(by='batch').reset_index()\n",
    "    elif task == 'rating':\n",
    "        df_images = pd.read_csv(datadir + 'Psytoolkit/rating_table.txt', sep=' ', header=None, names=['image','batch']).sort_values(by='batch').reset_index()\n",
    "    df_images['iteration'] = df_images.batch.astype('category')\n",
    "    df_images['iteration'] = df_images.iteration.cat.reorder_categories([1,2,3,4,5,0]).cat.rename_categories({0:'real', 1:'344', 2:'1055', 3:'7954', 4:'24440', 5:'60000'})\n",
    "    df_images = df_images.sort_values('iteration').reset_index(drop=True)\n",
    "    del df_images['batch']\n",
    "\n",
    "\n",
    "n_images = df_images.shape[0]\n",
    "\n",
    "print(df_images.shape)\n",
    "df_images.iloc[::30,:]"
   ]
  },
  {
   "cell_type": "code",
   "execution_count": 18,
   "metadata": {},
   "outputs": [],
   "source": [
    "# Load images\n",
    "import PIL, PIL.ImageOps\n",
    "\n",
    "images = np.zeros((n_images, 135, 355, 3))\n",
    "\n",
    "for index, row in df_images.iterrows():\n",
    "    if task != 'notask':\n",
    "        im = np.array(PIL.Image.open(imagedir + 'images/' + row['image'] + '.png'))[:,:,:3]\n",
    "    else:\n",
    "        subfolder = 'real' if row['iteration']=='real' else f'batch_{row[\"iteration\"]}'\n",
    "        im = np.array(PIL.Image.open(datadir + subfolder + '/' + row['image'] + '.png'))[:,:,:3]\n",
    "    im = im[75:210,45:400]  # cut away the empty area around the MRI\n",
    "    images[index, :, :, :] = im\n",
    "\n",
    "# for Inception Score and VGG features, images need to be padded to (299,299)\n",
    "images_tf = tf.image.resize_with_pad(images, target_height=299, target_width=299)\n",
    "\n",
    "# scale to the range [-1, 1]\n",
    "images_tf /= 127.5\n",
    "images_tf -= 1\n",
    "# del images"
   ]
  },
  {
   "cell_type": "code",
   "execution_count": 19,
   "metadata": {},
   "outputs": [
    {
     "name": "stdout",
     "output_type": "stream",
     "text": [
      "(299, 299, 3)\n"
     ]
    },
    {
     "data": {
      "text/plain": [
       "<matplotlib.image.AxesImage at 0x7f9498e0f5e0>"
      ]
     },
     "execution_count": 19,
     "metadata": {},
     "output_type": "execute_result"
    },
    {
     "data": {
      "image/png": "[encoded data removed]",
      "text/plain": [
       "<Figure size 432x288 with 1 Axes>"
      ]
     },
     "metadata": {
      "needs_background": "light"
     },
     "output_type": "display_data"
    }
   ],
   "source": [
    "ix = 20\n",
    "print(images_tf[ix].shape)\n",
    "plt.imshow(images_tf[ix]*0.5+0.5)"
   ]
  },
  {
   "cell_type": "code",
   "execution_count": 20,
   "metadata": {},
   "outputs": [],
   "source": [
    "# create 2D mask so we can extract brain pixels\n",
    "av = images_tf[:,:,:,0].numpy().mean(axis=0)\n",
    "mask_2d = (av>-0.8)"
   ]
  },
  {
   "cell_type": "code",
   "execution_count": 21,
   "metadata": {},
   "outputs": [
    {
     "data": {
      "text/plain": [
       "<matplotlib.image.AxesImage at 0x7f9498b9c850>"
      ]
     },
     "execution_count": 21,
     "metadata": {},
     "output_type": "execute_result"
    },
    {
     "data": {
      "image/png": "[encoded data removed]",
      "text/plain": [
       "<Figure size 432x288 with 1 Axes>"
      ]
     },
     "metadata": {
      "needs_background": "light"
     },
     "output_type": "display_data"
    }
   ],
   "source": [
    "plt.imshow(mask_2d)"
   ]
  },
  {
   "cell_type": "markdown",
   "metadata": {},
   "source": [
    "<a id=\"correlation\"></a>\n",
    "# Correlation\n",
    "[back to top](#top)\n",
    "\n",
    "Calculate within-iteration correlation and correlation between iteration and real data."
   ]
  },
  {
   "cell_type": "code",
   "execution_count": null,
   "metadata": {},
   "outputs": [],
   "source": [
    "images = images_tf.numpy()\n",
    "\n",
    "im=images[:,:,:,0].reshape((240, -1))\n",
    "im1=im[:100,:]\n",
    "im2=im[100:,:]\n",
    "im1.shape, im2.shape"
   ]
  },
  {
   "cell_type": "code",
   "execution_count": null,
   "metadata": {},
   "outputs": [],
   "source": [
    "plt.imshow(np.corrcoef(im1, im2))"
   ]
  },
  {
   "cell_type": "code",
   "execution_count": null,
   "metadata": {},
   "outputs": [],
   "source": [
    "C = np.zeros((n_images, mask_2d.sum()))\n",
    "C.shape\n",
    "\n",
    "# vectorize images\n",
    "for ix in range(n_images):\n",
    "    C[ix,:] = images[ix, :, :, 0][mask_2d]\n",
    "    \n",
    "# covariance matrix\n",
    "C = np.corrcoef(C, rowvar=True)\n",
    "\n",
    "# extract lower triangular part of the matrix\n",
    "mask = np.triu(np.ones_like(C, dtype=np.bool), -1)\n",
    "C[mask] = np.nan"
   ]
  },
  {
   "cell_type": "code",
   "execution_count": null,
   "metadata": {},
   "outputs": [],
   "source": [
    "plt.rcParams['figure.figsize']=(10,6)\n",
    "with sns.plotting_context(\"paper\", font_scale=2):  # notebook paper slides\n",
    "#     plt.Figure(figsize=(12,12))\n",
    "    sns.set_style(\"whitegrid\")\n",
    "    heatmap = sns.heatmap(C, cmap='coolwarm', robust=True, \\\n",
    "               cbar_kws={'orientation': 'vertical'})\n",
    "    ticks = [0, 32, 64, 96, 128, 160, 240]\n",
    "    heatmap.set_yticks(ticks)\n",
    "    heatmap.set_xticks(ticks)\n",
    "\n",
    "plt.savefig(figdir + 'gan_correlation_matrix.png', dpi=200, bbox_inches='tight')"
   ]
  },
  {
   "cell_type": "code",
   "execution_count": null,
   "metadata": {},
   "outputs": [],
   "source": [
    "# within-iteration correlations\n",
    "df_within = []\n",
    "for t in range(len(ticks)-1):\n",
    "    vals = C[ticks[t]:ticks[t+1], ticks[t]:ticks[t+1]]\n",
    "    vals = vals[~np.isnan(vals)]\n",
    "    tmp = pd.DataFrame({'correlation':vals})\n",
    "    tmp['iteration'] = t\n",
    "    df_within.append(tmp)\n",
    "\n",
    "df_within = pd.concat(df_within, axis=0)\n",
    "df_within['iteration'] = df_within.iteration.astype('category')\n",
    "df_within['iteration'] = df_within.iteration.cat.reorder_categories([1,2,3,4,5,0]).cat.rename_categories({0:'real', 1:344, 2:1055, 3:7954, 4:24440, 5:60000})"
   ]
  },
  {
   "cell_type": "code",
   "execution_count": null,
   "metadata": {},
   "outputs": [],
   "source": [
    "plt.rcParams['figure.figsize']=(3,6)\n",
    "with sns.plotting_context(\"paper\", font_scale=2):  # notebook paper slides\n",
    "#     plt.Figure(figsize=(12,12))\n",
    "    sns.set_style(\"whitegrid\")\n",
    "    ax = sns.barplot(y='iteration', x='correlation', palette=\"magma\", \\\n",
    "                     orient='h', data=df_within)\n",
    "    plt.xlim([0.7, 0.9])\n",
    "    plt.title('Within-iteration correlation')\n",
    "    sns.despine(ax=ax, offset=3)\n",
    "    plt.savefig(figdir + 'gan_within-iteration_correlation.png', dpi=200, bbox_inches='tight')\n",
    "\n",
    "# ranksum tests\n",
    "wilcoxon_ranksum(df_within, 'correlation')\n",
    "print('24440 vs 60000:', stats.ranksums(df_within[df_within.iteration == 24440].correlation, \\\n",
    "                        df_within[df_within.iteration == 60000].correlation))\n",
    "print('60000 vs real:', stats.ranksums(df_within[df_within.iteration == 60000].correlation, \\\n",
    "                        df_within[df_within.iteration == 'real'].correlation))\n",
    "print('MEAN:', df_within.groupby('iteration')['correlation'].mean())\n",
    "print('STD:', df_within.groupby('iteration')['correlation'].std())"
   ]
  },
  {
   "cell_type": "code",
   "execution_count": null,
   "metadata": {},
   "outputs": [],
   "source": [
    "stat = wilcoxon_ranksum(df_within, 'correlation', stat=stat, do_print=True)\n",
    "stat"
   ]
  },
  {
   "cell_type": "code",
   "execution_count": null,
   "metadata": {},
   "outputs": [],
   "source": [
    "# iteration vs real correlations\n",
    "df_between = []\n",
    "for t in range(1, len(ticks)-1):\n",
    "    vals = C[ticks[t]:ticks[t+1], 0:80]\n",
    "    vals = vals[~np.isnan(vals)]\n",
    "    tmp = pd.DataFrame({'correlation':vals})\n",
    "    tmp['iteration'] = t\n",
    "    df_between.append(tmp)\n",
    "\n",
    "df_between = pd.concat(df_between, axis=0)\n",
    "df_between['iteration'] = df_between.iteration.astype('category')\n",
    "df_between['iteration'] = df_between.iteration.cat.rename_categories({1:344, 2:1055, 3:7954, 4:24440, 5:60000})\n",
    "\n",
    "df_between.head()  "
   ]
  },
  {
   "cell_type": "code",
   "execution_count": null,
   "metadata": {},
   "outputs": [],
   "source": [
    "plt.rcParams['figure.figsize']=(7,3)\n",
    "with sns.plotting_context(\"paper\", font_scale=2):  # notebook paper slides\n",
    "    sns.set_style(\"whitegrid\")\n",
    "    ax = sns.barplot(x='iteration', y='correlation', palette=\"magma\", data=df_between)\n",
    "    plt.ylim([0.6, 0.9]); ax.set_yticks([0.6, 0.7, 0.8])\n",
    "    plt.title('Real-vs-iteration correlation')\n",
    "#     plt.ylim([0.75, 0.8])\n",
    "    sns.despine(ax=ax, offset=3)\n",
    "    plt.savefig(figdir + 'gan_real-vs-iteration_correlation.png', dpi=200, bbox_inches='tight')    \n",
    "\n",
    "    \n",
    "print('24440 vs 60000:', stats.ranksums(df_between[df_between.iteration == 24440].correlation, \\\n",
    "                        df_between[df_between.iteration == 60000].correlation))\n",
    "print('MEAN:', df_between.groupby('iteration')['correlation'].mean())\n",
    "print('STD:', df_between.groupby('iteration')['correlation'].std())"
   ]
  },
  {
   "cell_type": "markdown",
   "metadata": {},
   "source": [
    "----\n",
    "\n",
    "<a id=\"metrics\"></a>\n",
    "# Metrics"
   ]
  },
  {
   "cell_type": "markdown",
   "metadata": {},
   "source": [
    "----\n",
    "\n",
    "<a id=\"inception\"></a>\n",
    "# Inception score\n",
    "[back to top](#top)"
   ]
  },
  {
   "cell_type": "code",
   "execution_count": 63,
   "metadata": {},
   "outputs": [],
   "source": [
    "def calculate_inception_score(pred_softmax, do_average=True, do_exp=True, eps=1E-16):\n",
    "    '''\n",
    "    Args:\n",
    "        pred_softmax - softmax predictions\n",
    "    '''\n",
    "    p_yx = pred_softmax\n",
    "    \n",
    "    # calculate p(y)\n",
    "    p_y = np.expand_dims(p_yx.mean(axis=0), axis=0)\n",
    "    \n",
    "    # kl divergence for each image\n",
    "    kl_d = p_yx * (np.log(p_yx + eps) - np.log(p_y + eps))\n",
    "    \n",
    "    # sum over classes\n",
    "    sum_kl_d = kl_d.sum(axis=1)\n",
    "  \n",
    "    if do_average: sum_kl_d = sum_kl_d.mean()\n",
    "    \n",
    "    is_score = np.exp(sum_kl_d) if do_exp else sum_kl_d\n",
    "    return is_score"
   ]
  },
  {
   "cell_type": "code",
   "execution_count": 64,
   "metadata": {},
   "outputs": [],
   "source": [
    "# load inception model\n",
    "inception_model = tf.keras.applications.InceptionV3(\n",
    "    include_top=True, weights='imagenet', input_tensor=None,\n",
    "    input_shape=None, pooling=None, classes=1000,\n",
    "    classifier_activation='softmax'\n",
    ")"
   ]
  },
  {
   "cell_type": "code",
   "execution_count": 65,
   "metadata": {},
   "outputs": [
    {
     "data": {
      "text/plain": [
       "(30, 1000)"
      ]
     },
     "execution_count": 65,
     "metadata": {},
     "output_type": "execute_result"
    }
   ],
   "source": [
    "# calculate predictions for all images\n",
    "pred_softmax = inception_model.predict(images_tf, batch_size=16)\n",
    "pred_softmax.shape"
   ]
  },
  {
   "cell_type": "code",
   "execution_count": 66,
   "metadata": {},
   "outputs": [
    {
     "name": "stdout",
     "output_type": "stream",
     "text": [
      "processing iteration 344\n",
      "processing iteration 1055\n",
      "processing iteration 7954\n",
      "processing iteration 24440\n",
      "processing iteration 60000\n"
     ]
    },
    {
     "data": {
      "text/plain": [
       "IS            float32\n",
       "iteration    category\n",
       "dtype: object"
      ]
     },
     "execution_count": 66,
     "metadata": {},
     "output_type": "execute_result"
    }
   ],
   "source": [
    "real_ix = (df_images['iteration'] == 'real').to_numpy().nonzero()[0][[0,-1]]\n",
    "real_pred = pred_softmax[real_ix[0]:real_ix[1]+1,:]\n",
    "df_is = []\n",
    "\n",
    "for it in iterations:\n",
    "    print('processing iteration', it)\n",
    "    # find start and end index of images corresponding to this iteration\n",
    "    gan_ix = (df_images['iteration'] == str(it)).to_numpy().nonzero()[0][[0,-1]]\n",
    "    gan_pred = pred_softmax[gan_ix[0]:gan_ix[1]+1,:]\n",
    "    IS = calculate_inception_score(gan_pred, do_average=False)\n",
    "    tmp = pd.DataFrame({'IS':IS, 'iteration':it})\n",
    "#     IS = bootstrap1(gan_pred, calculate_inception_score, n_bootstrap=n_bootstrap)\n",
    "#     tmp = pd.DataFrame({'bootstrap':range(n_bootstrap), 'IS':IS, 'iteration':it})\n",
    "    df_is.append(tmp)\n",
    "\n",
    "# IS for real images\n",
    "df_is.append(pd.DataFrame({'IS':calculate_inception_score(real_pred,False),'iteration':'real'}))\n",
    "# df_is.append(pd.DataFrame({'bootstrap':range(n_bootstrap),'IS':bootstrap1(real_pred, calculate_inception_score, n_bootstrap=n_bootstrap),'iteration':'real'}))\n",
    "\n",
    "df_is = pd.concat(df_is, axis=0)\n",
    "df_is['iteration'] = df_is['iteration'].astype('category')\n",
    "df_is.dtypes"
   ]
  },
  {
   "cell_type": "code",
   "execution_count": 70,
   "metadata": {},
   "outputs": [
    {
     "data": {
      "text/plain": [
       "(30, 2)"
      ]
     },
     "execution_count": 70,
     "metadata": {},
     "output_type": "execute_result"
    }
   ],
   "source": [
    "df_is.shape"
   ]
  },
  {
   "cell_type": "code",
   "execution_count": 71,
   "metadata": {
    "scrolled": true
   },
   "outputs": [
    {
     "data": {
      "image/png": "[encoded data removed]",
      "text/plain": [
       "<Figure size 432x288 with 1 Axes>"
      ]
     },
     "metadata": {},
     "output_type": "display_data"
    }
   ],
   "source": [
    "with sns.plotting_context(\"paper\", font_scale=2):  # notebook paper slides\n",
    "    sns.set_style(\"whitegrid\")\n",
    "    ax = sns.barplot(x='iteration', y='IS', palette=\"magma\", data=df_is)\n",
    "#     plt.ylabel('IS')\n",
    "    plt.title('Inception Score')\n",
    "    if task=='detection': plt.ylim([1.05, 1.6])\n",
    "    if task=='rating': plt.ylim([1.05, 1.3])\n",
    "    sns.despine(ax=ax, offset=3)\n",
    "    plt.savefig(figdir + f'{task}_metrics_IS.png', dpi=200, bbox_inches='tight')"
   ]
  },
  {
   "cell_type": "code",
   "execution_count": 72,
   "metadata": {
    "scrolled": true
   },
   "outputs": [
    {
     "name": "stdout",
     "output_type": "stream",
     "text": [
      "IS is already present, replacing\n"
     ]
    },
    {
     "data": {
      "text/html": [
       "<div>\n",
       "<style scoped>\n",
       "    .dataframe tbody tr th:only-of-type {\n",
       "        vertical-align: middle;\n",
       "    }\n",
       "\n",
       "    .dataframe tbody tr th {\n",
       "        vertical-align: top;\n",
       "    }\n",
       "\n",
       "    .dataframe thead th {\n",
       "        text-align: right;\n",
       "    }\n",
       "</style>\n",
       "<table border=\"1\" class=\"dataframe\">\n",
       "  <thead>\n",
       "    <tr style=\"text-align: right;\">\n",
       "      <th></th>\n",
       "      <th>metric</th>\n",
       "      <th>iteration</th>\n",
       "      <th>iteration2</th>\n",
       "      <th>p</th>\n",
       "      <th>z</th>\n",
       "    </tr>\n",
       "  </thead>\n",
       "  <tbody>\n",
       "    <tr>\n",
       "      <th>0</th>\n",
       "      <td>IS</td>\n",
       "      <td>344.0</td>\n",
       "      <td>1055</td>\n",
       "      <td>0.347208</td>\n",
       "      <td>0.940019</td>\n",
       "    </tr>\n",
       "    <tr>\n",
       "      <th>1</th>\n",
       "      <td>IS</td>\n",
       "      <td>1055.0</td>\n",
       "      <td>7954</td>\n",
       "      <td>0.601508</td>\n",
       "      <td>-0.522233</td>\n",
       "    </tr>\n",
       "    <tr>\n",
       "      <th>2</th>\n",
       "      <td>IS</td>\n",
       "      <td>7954.0</td>\n",
       "      <td>24440</td>\n",
       "      <td>0.754023</td>\n",
       "      <td>0.313340</td>\n",
       "    </tr>\n",
       "    <tr>\n",
       "      <th>3</th>\n",
       "      <td>IS</td>\n",
       "      <td>24440.0</td>\n",
       "      <td>60000</td>\n",
       "      <td>0.464702</td>\n",
       "      <td>0.731126</td>\n",
       "    </tr>\n",
       "    <tr>\n",
       "      <th>4</th>\n",
       "      <td>IS</td>\n",
       "      <td>60000.0</td>\n",
       "      <td>real</td>\n",
       "      <td>0.250592</td>\n",
       "      <td>-1.148913</td>\n",
       "    </tr>\n",
       "  </tbody>\n",
       "</table>\n",
       "</div>"
      ],
      "text/plain": [
       "  metric  iteration iteration2         p         z\n",
       "0     IS      344.0       1055  0.347208  0.940019\n",
       "1     IS     1055.0       7954  0.601508 -0.522233\n",
       "2     IS     7954.0      24440  0.754023  0.313340\n",
       "3     IS    24440.0      60000  0.464702  0.731126\n",
       "4     IS    60000.0       real  0.250592 -1.148913"
      ]
     },
     "execution_count": 72,
     "metadata": {},
     "output_type": "execute_result"
    }
   ],
   "source": [
    "stat = wilcoxon_ranksum(df_is, 'IS', stat, do_print=False)\n",
    "stat"
   ]
  },
  {
   "cell_type": "code",
   "execution_count": 73,
   "metadata": {},
   "outputs": [
    {
     "name": "stdout",
     "output_type": "stream",
     "text": [
      "iteration-metric rank correlation: SpearmanrResult(correlation=-0.14904826270501986, pvalue=0.4770377864859081)\n",
      "iteration 60000 vs real: RanksumsResult(statistic=-1.1489125293076057, pvalue=0.25059205068568424)\n"
     ]
    }
   ],
   "source": [
    "# rank correlation: iteration vs metric\n",
    "tmp = df_is[df_is.iteration != 'real']\n",
    "print('iteration-metric rank correlation:', stats.spearmanr(tmp['iteration'], tmp['IS']))\n",
    "print('iteration 60000 vs real:', stats.ranksums(df_is[df_is.iteration==60000].IS, df_is[df_is.iteration=='real'].IS))"
   ]
  },
  {
   "cell_type": "code",
   "execution_count": 74,
   "metadata": {},
   "outputs": [
    {
     "name": "stdout",
     "output_type": "stream",
     "text": [
      "                 Results: Ordinary least squares\n",
      "==================================================================\n",
      "Model:              OLS              Adj. R-squared:     -0.016   \n",
      "Dependent Variable: IS               AIC:                -49.0883 \n",
      "Date:               2022-01-29 19:42 BIC:                -46.6506 \n",
      "No. Observations:   25               Log-Likelihood:     26.544   \n",
      "Df Model:           1                F-statistic:        0.6110   \n",
      "Df Residuals:       23               Prob (F-statistic): 0.442    \n",
      "R-squared:          0.026            Scale:              0.0076120\n",
      "--------------------------------------------------------------------\n",
      "             Coef.    Std.Err.      t      P>|t|     [0.025   0.975]\n",
      "--------------------------------------------------------------------\n",
      "x1          -0.0071     0.0091   -0.7817   0.4424   -0.0259   0.0117\n",
      "const        1.2091     0.0798   15.1522   0.0000    1.0441   1.3742\n",
      "------------------------------------------------------------------\n",
      "Omnibus:               2.155        Durbin-Watson:           2.367\n",
      "Prob(Omnibus):         0.341        Jarque-Bera (JB):        1.883\n",
      "Skew:                  0.610        Prob(JB):                0.390\n",
      "Kurtosis:              2.437        Condition No.:           41   \n",
      "==================================================================\n",
      "\n"
     ]
    }
   ],
   "source": [
    "tmp = df_is[df_is.iteration != 'real']\n",
    "linear_regression(tmp['IS'], tmp['iteration'])"
   ]
  },
  {
   "cell_type": "markdown",
   "metadata": {},
   "source": [
    "----\n",
    "\n",
    "<a id=\"modified_inception\"></a>\n",
    "# Modified Inception score\n",
    "[back to top](#top)"
   ]
  },
  {
   "cell_type": "code",
   "execution_count": 75,
   "metadata": {},
   "outputs": [],
   "source": [
    "def calculate_modified_inception_score(pred_softmax, do_exp=True, eps=1E-16):\n",
    "    p_yx = pred_softmax\n",
    "    \n",
    "    # predicted classes\n",
    "    class_labels = pred_softmax.argmax(axis=1)\n",
    "\n",
    "    # calculate modified score per class\n",
    "    kl_d = []\n",
    "#     print('classes:', np.unique(class_labels))\n",
    "    for c in np.unique(class_labels): # -- per class -- \n",
    "        p_yx_c = p_yx[class_labels == c,:]\n",
    "#         print('class c:', p_yx_c.shape)\n",
    "        kls = []\n",
    "        for ix1 in range(p_yx_c.shape[0]):\n",
    "            kl2 = []\n",
    "            for ix2 in range(p_yx_c.shape[0]):\n",
    "                if ix1==ix2: continue\n",
    "                kl = p_yx_c[ix1,:] * ( np.log(p_yx_c[ix1,:] + eps) - np.log(p_yx_c[ix2,:] + eps) )\n",
    "                kl2.append(kl.sum())\n",
    "            if len(kl2)>0: kls.append(sum(kl2)/len(kl2))\n",
    "    \n",
    "        # append within-class mean\n",
    "        if len(kls)>1: kl_d.append(sum(kls)/len(kls))\n",
    "\n",
    "#     print('kl_d:', len(kl_d))\n",
    "    kl_d = sum(kl_d)/len(kl_d)\n",
    "#     kl_d = sum(kl_d)\n",
    "    \n",
    "    mis_score = np.exp(kl_d) if do_exp else kl_d\n",
    "    return mis_score #, class_labels"
   ]
  },
  {
   "cell_type": "code",
   "execution_count": 76,
   "metadata": {},
   "outputs": [],
   "source": [
    "# load inception model\n",
    "inception_model = tf.keras.applications.InceptionV3(\n",
    "    include_top=True, weights='imagenet', input_tensor=None,\n",
    "    input_shape=None, pooling=None, classes=1000,\n",
    "    classifier_activation='softmax'\n",
    ")"
   ]
  },
  {
   "cell_type": "code",
   "execution_count": 77,
   "metadata": {},
   "outputs": [
    {
     "name": "stdout",
     "output_type": "stream",
     "text": [
      "WARNING:tensorflow:5 out of the last 9 calls to <function Model.make_predict_function.<locals>.predict_function at 0x7fb84ae0a280> triggered tf.function retracing. Tracing is expensive and the excessive number of tracings could be due to (1) creating @tf.function repeatedly in a loop, (2) passing tensors with different shapes, (3) passing Python objects instead of tensors. For (1), please define your @tf.function outside of the loop. For (2), @tf.function has experimental_relax_shapes=True option that relaxes argument shapes that can avoid unnecessary retracing. For (3), please refer to https://www.tensorflow.org/guide/function#controlling_retracing and https://www.tensorflow.org/api_docs/python/tf/function for  more details.\n"
     ]
    }
   ],
   "source": [
    "# calculate predictions for all images\n",
    "pred_softmax = inception_model.predict(images_tf, batch_size=16)"
   ]
  },
  {
   "cell_type": "code",
   "execution_count": 78,
   "metadata": {},
   "outputs": [
    {
     "name": "stdout",
     "output_type": "stream",
     "text": [
      "processing iteration 344\n",
      "processing iteration 1055\n",
      "processing iteration 7954\n",
      "processing iteration 24440\n",
      "processing iteration 60000\n",
      "processing iteration real\n"
     ]
    }
   ],
   "source": [
    "df_mis = []\n",
    "\n",
    "for it in iterations + ['real'] :\n",
    "    print('processing iteration', it)\n",
    "    # find start and end index of images corresponding to this iteration\n",
    "    im_ix = (df_images['iteration'] == str(it)).to_numpy().nonzero()[0][[0,-1]]\n",
    "    mis = bootstrap1(pred_softmax[im_ix[0]:im_ix[1]+1,:], calculate_modified_inception_score, n_bootstrap)\n",
    "    tmp = pd.DataFrame({'bootstrap':range(n_bootstrap), 'MIS':mis})\n",
    "    tmp['iteration'] = it\n",
    "    df_mis.append(tmp)\n",
    "    \n",
    "df_mis = pd.concat(df_mis, axis=0)"
   ]
  },
  {
   "cell_type": "code",
   "execution_count": 80,
   "metadata": {
    "scrolled": true
   },
   "outputs": [
    {
     "name": "stdout",
     "output_type": "stream",
     "text": [
      "iteration 60000 vs Real: RanksumsResult(statistic=2.6119827203378057, pvalue=0.00900188038949093)\n"
     ]
    },
    {
     "data": {
      "image/png": "[encoded data removed]",
      "text/plain": [
       "<Figure size 432x288 with 1 Axes>"
      ]
     },
     "metadata": {},
     "output_type": "display_data"
    }
   ],
   "source": [
    "with sns.plotting_context(\"paper\", font_scale=2):  # notebook paper slides\n",
    "    sns.set_style(\"whitegrid\")\n",
    "    ax = sns.barplot(x='iteration', y='MIS', palette=\"magma\", data=df_mis)\n",
    "    plt.title('Modified Inception Score')\n",
    "    if task=='detection': plt.ylim((1.05, 1.55))\n",
    "    if task=='rating': plt.ylim((1.05, 1.34))\n",
    "    sns.despine(ax=ax, offset=3)\n",
    "    plt.savefig(figdir + f'{task}_metrics_MIS.png', dpi=200, bbox_inches='tight')\n",
    "    \n",
    "print('iteration 60000 vs Real:', stats.ranksums(df_mis[df_mis.iteration == 60000]['MIS'],df_mis[df_mis.iteration == 'real']['MIS']))"
   ]
  },
  {
   "cell_type": "code",
   "execution_count": 81,
   "metadata": {},
   "outputs": [
    {
     "name": "stdout",
     "output_type": "stream",
     "text": [
      "iteration-metric rank correlation: SpearmanrResult(correlation=0.2690219226408602, pvalue=9.745781907281526e-10)\n",
      "iteration 60000 vs real: RanksumsResult(statistic=2.6119827203378057, pvalue=0.00900188038949093)\n"
     ]
    }
   ],
   "source": [
    "# rank correlation: iteration vs metric\n",
    "tmp = df_mis[df_mis.iteration != 'real']\n",
    "print('iteration-metric rank correlation:', stats.spearmanr(tmp['iteration'], tmp['MIS']))\n",
    "print('iteration 60000 vs real:', stats.ranksums(df_mis[df_mis.iteration==60000].MIS, df_mis[df_mis.iteration=='real'].MIS))"
   ]
  },
  {
   "cell_type": "code",
   "execution_count": 82,
   "metadata": {},
   "outputs": [
    {
     "name": "stdout",
     "output_type": "stream",
     "text": [
      "                 Results: Ordinary least squares\n",
      "==================================================================\n",
      "Model:              OLS              Adj. R-squared:     0.063    \n",
      "Dependent Variable: MIS              AIC:                -732.4782\n",
      "Date:               2022-01-29 19:44 BIC:                -724.0490\n",
      "No. Observations:   500              Log-Likelihood:     368.24   \n",
      "Df Model:           1                F-statistic:        34.64    \n",
      "Df Residuals:       498              Prob (F-statistic): 7.28e-09 \n",
      "R-squared:          0.065            Scale:              0.013476 \n",
      "---------------------------------------------------------------------\n",
      "          Coef.     Std.Err.       t       P>|t|     [0.025    0.975]\n",
      "---------------------------------------------------------------------\n",
      "x1        0.0159      0.0027     5.8858    0.0000    0.0106    0.0212\n",
      "const     1.0829      0.0237    45.6126    0.0000    1.0363    1.1296\n",
      "------------------------------------------------------------------\n",
      "Omnibus:               77.682       Durbin-Watson:          1.739 \n",
      "Prob(Omnibus):         0.000        Jarque-Bera (JB):       21.284\n",
      "Skew:                  -0.185       Prob(JB):               0.000 \n",
      "Kurtosis:              2.060        Condition No.:          41    \n",
      "==================================================================\n",
      "\n"
     ]
    }
   ],
   "source": [
    "tmp = df_mis[df_mis.iteration != 'real']\n",
    "linear_regression(tmp['MIS'], tmp['iteration'])"
   ]
  },
  {
   "cell_type": "markdown",
   "metadata": {},
   "source": [
    "---\n",
    "\n",
    "\n",
    "<a id=\"frechet\"></a>\n",
    "# Frechet Inception Distance\n",
    "[back to top](#top)\n",
    "\n",
    "based on https://github.com/bioinf-jku/TTUR/blob/master/fid.py\n"
   ]
  },
  {
   "cell_type": "code",
   "execution_count": 83,
   "metadata": {},
   "outputs": [],
   "source": [
    "# based on: https://machinelearningmastery.com/how-to-implement-the-frechet-inception-distance-fid-from-scratch/\n",
    "def calculate_fid(act1, act2):\n",
    "    # calculate mean and covariance statistics\n",
    "    mu1, sigma1 = act1.mean(axis=0), np.cov(act1, rowvar=False)\n",
    "    mu2, sigma2 = act2.mean(axis=0), np.cov(act2, rowvar=False)\n",
    "    \n",
    "    # calculate sum squared difference between means\n",
    "    ssdiff = np.sum((mu1 - mu2)**2.0)\n",
    "    \n",
    "    # calculate sqrt of product between cov\n",
    "    covmean = scipy.linalg.sqrtm(sigma1.dot(sigma2))\n",
    "    \n",
    "    # check and correct imaginary numbers from sqrt\n",
    "    if np.iscomplexobj(covmean):\n",
    "        covmean = covmean.real\n",
    "        \n",
    "    # calculate score\n",
    "    fid = ssdiff + np.trace(sigma1 + sigma2 - 2.0 * covmean)\n",
    "    return fid"
   ]
  },
  {
   "cell_type": "code",
   "execution_count": 84,
   "metadata": {},
   "outputs": [],
   "source": [
    "# load inception model without last layer\n",
    "inception_model = tf.keras.applications.InceptionV3(\n",
    "    include_top=False, weights='imagenet', input_tensor=None,\n",
    "    input_shape=None, pooling='avg', classes=1000\n",
    ")"
   ]
  },
  {
   "cell_type": "code",
   "execution_count": 85,
   "metadata": {},
   "outputs": [
    {
     "name": "stdout",
     "output_type": "stream",
     "text": [
      "WARNING:tensorflow:6 out of the last 11 calls to <function Model.make_predict_function.<locals>.predict_function at 0x7fb7f7c6c0d0> triggered tf.function retracing. Tracing is expensive and the excessive number of tracings could be due to (1) creating @tf.function repeatedly in a loop, (2) passing tensors with different shapes, (3) passing Python objects instead of tensors. For (1), please define your @tf.function outside of the loop. For (2), @tf.function has experimental_relax_shapes=True option that relaxes argument shapes that can avoid unnecessary retracing. For (3), please refer to https://www.tensorflow.org/guide/function#controlling_retracing and https://www.tensorflow.org/api_docs/python/tf/function for  more details.\n"
     ]
    },
    {
     "data": {
      "text/plain": [
       "(30, 2048)"
      ]
     },
     "execution_count": 85,
     "metadata": {},
     "output_type": "execute_result"
    }
   ],
   "source": [
    "# calculate predictions for all images\n",
    "pred = inception_model.predict(images_tf, batch_size=16)\n",
    "pred.shape"
   ]
  },
  {
   "cell_type": "code",
   "execution_count": 86,
   "metadata": {},
   "outputs": [
    {
     "name": "stdout",
     "output_type": "stream",
     "text": [
      "processing iteration 344\n",
      "processing iteration 1055\n",
      "processing iteration 7954\n",
      "processing iteration 24440\n",
      "processing iteration 60000\n"
     ]
    }
   ],
   "source": [
    "real_ix = (df_images['iteration'] == 'real').to_numpy().nonzero()[0][[0,-1]]\n",
    "act1 = pred[real_ix[0]:real_ix[1]+1,:]\n",
    "df_fid = []\n",
    "\n",
    "for it in iterations:\n",
    "    print('processing iteration', it)\n",
    "    # find start and end index of images corresponding to this iteration\n",
    "    gan_ix = (df_images['iteration'] == str(it)).to_numpy().nonzero()[0][[0,-1]]\n",
    "    act2 = pred[gan_ix[0]:gan_ix[1]+1,:]\n",
    "    fid = bootstrap2(act1, act2, calculate_fid, n_bootstrap)\n",
    "    tmp = pd.DataFrame({'bootstrap':range(n_bootstrap), 'FID':fid})\n",
    "    tmp['iteration'] = it\n",
    "    df_fid.append(tmp)\n",
    "    \n",
    "df_fid = pd.concat(df_fid, axis=0)"
   ]
  },
  {
   "cell_type": "code",
   "execution_count": 87,
   "metadata": {
    "scrolled": true
   },
   "outputs": [
    {
     "data": {
      "image/png": "[encoded data removed]",
      "text/plain": [
       "<Figure size 432x288 with 1 Axes>"
      ]
     },
     "metadata": {},
     "output_type": "display_data"
    }
   ],
   "source": [
    "with sns.plotting_context(\"paper\", font_scale=2):  # notebook paper slides\n",
    "    sns.set_style(\"whitegrid\")\n",
    "    ax = sns.barplot(x='iteration', y='FID', palette=\"magma\", data=df_fid)\n",
    "#     plt.ylim([20, 160]); ax.set_yticks(range(20, 160, 20))\n",
    "    plt.title('Frechet Inception Distance')\n",
    "    sns.despine(ax=ax, offset=3)\n",
    "    plt.savefig(figdir + f'{task}_metrics_FID.png', dpi=200, bbox_inches='tight')"
   ]
  },
  {
   "cell_type": "code",
   "execution_count": 88,
   "metadata": {},
   "outputs": [
    {
     "name": "stdout",
     "output_type": "stream",
     "text": [
      "iteration-metric rank correlation: SpearmanrResult(correlation=-0.4621706490105525, pvalue=7.946236754662873e-28)\n",
      "iteration 60000 vs 24440: RanksumsResult(statistic=12.209614268969144, pvalue=2.7619548486352597e-34)\n"
     ]
    }
   ],
   "source": [
    "# rank correlation: iteration vs metric\n",
    "tmp = df_fid[df_fid.iteration != 'real']\n",
    "print('iteration-metric rank correlation:', stats.spearmanr(tmp['iteration'], tmp['FID']))\n",
    "print('iteration 60000 vs 24440:', stats.ranksums(df_fid[df_fid.iteration==60000].FID, df_fid[df_fid.iteration==24440].FID))"
   ]
  },
  {
   "cell_type": "code",
   "execution_count": 89,
   "metadata": {},
   "outputs": [
    {
     "name": "stdout",
     "output_type": "stream",
     "text": [
      "                 Results: Ordinary least squares\n",
      "==================================================================\n",
      "Model:              OLS              Adj. R-squared:     0.474    \n",
      "Dependent Variable: FID              AIC:                4833.7880\n",
      "Date:               2022-01-29 20:47 BIC:                4842.2172\n",
      "No. Observations:   500              Log-Likelihood:     -2414.9  \n",
      "Df Model:           1                F-statistic:        450.1    \n",
      "Df Residuals:       498              Prob (F-statistic): 1.21e-71 \n",
      "R-squared:          0.475            Scale:              921.23   \n",
      "-------------------------------------------------------------------\n",
      "            Coef.    Std.Err.     t      P>|t|    [0.025    0.975] \n",
      "-------------------------------------------------------------------\n",
      "x1         -14.9819    0.7062  -21.2163  0.0000  -16.3693  -13.5945\n",
      "const      226.0073    6.2075   36.4087  0.0000  213.8112  238.2034\n",
      "------------------------------------------------------------------\n",
      "Omnibus:             9032.172       Durbin-Watson:          0.187 \n",
      "Prob(Omnibus):       0.000          Jarque-Bera (JB):       47.388\n",
      "Skew:                0.252          Prob(JB):               0.000 \n",
      "Kurtosis:            1.578          Condition No.:          41    \n",
      "==================================================================\n",
      "\n"
     ]
    }
   ],
   "source": [
    "# linear regression\n",
    "tmp = df_fid[df_fid.iteration != 'real']\n",
    "linear_regression(tmp['FID'], tmp['iteration'])"
   ]
  },
  {
   "cell_type": "markdown",
   "metadata": {},
   "source": [
    "---\n",
    "\n",
    "\n",
    "<a id=\"mmd\"></a>\n",
    "# Maximum Mean Discrepancy (MMD)\n",
    "[back to top](#top)"
   ]
  },
  {
   "cell_type": "code",
   "execution_count": 90,
   "metadata": {},
   "outputs": [],
   "source": [
    "def calculate_mmd(im1, im2):\n",
    "    '''\n",
    "    im1, im2: (n_samples, n_features) matrices of images\n",
    "    '''\n",
    "    from sklearn.metrics.pairwise import rbf_kernel\n",
    "    n1 = im1.shape[0]\n",
    "    mmd = rbf_kernel(im1,im1).sum() + rbf_kernel(im2,im2).sum() - 2*rbf_kernel(im1,im2).sum()\n",
    "    \n",
    "    return mmd"
   ]
  },
  {
   "cell_type": "code",
   "execution_count": 91,
   "metadata": {},
   "outputs": [],
   "source": [
    "# load inception model without last layer\n",
    "inception_model = tf.keras.applications.InceptionV3(\n",
    "    include_top=False, weights='imagenet', input_tensor=None,\n",
    "    input_shape=None, pooling='avg', classes=1000\n",
    ")"
   ]
  },
  {
   "cell_type": "code",
   "execution_count": 92,
   "metadata": {},
   "outputs": [],
   "source": [
    "# calculate VGG predictions for all images\n",
    "pred = inception_model.predict(images_tf, batch_size=16)"
   ]
  },
  {
   "cell_type": "code",
   "execution_count": 93,
   "metadata": {},
   "outputs": [],
   "source": [
    "# alternatively, extract pixels directly using a brain mask\n",
    "# im_pixels = np.zeros((n_images, mask_2d.sum()))\n",
    "\n",
    "# for n in range(n_images):\n",
    "#     im_pixels[n, :] = images_tf.numpy()[n, :, :, 0][mask_2d]"
   ]
  },
  {
   "cell_type": "code",
   "execution_count": 94,
   "metadata": {},
   "outputs": [
    {
     "name": "stdout",
     "output_type": "stream",
     "text": [
      "processing iteration 344\n",
      "processing iteration 1055\n",
      "processing iteration 7954\n",
      "processing iteration 24440\n",
      "processing iteration 60000\n"
     ]
    }
   ],
   "source": [
    "real_ix = (df_images['iteration'] == 'real').to_numpy().nonzero()[0][[0,-1]]\n",
    "real_pred = pred[real_ix[0]:real_ix[1]+1,:]\n",
    "df_mmd = []\n",
    "\n",
    "for it in iterations:\n",
    "    print('processing iteration', it)\n",
    "    # find start and end index of images corresponding to this iteration\n",
    "    gan_ix = (df_images['iteration'] == str(it)).to_numpy().nonzero()[0][[0,-1]]\n",
    "    gan_pred = pred[gan_ix[0]:gan_ix[1]+1,:]\n",
    "#     gan_pixels = im_pixels[gan_ix[0]:gan_ix[1]+1,:]\n",
    "    mmd_pred = bootstrap2(real_pred, gan_pred, calculate_mmd, n_bootstrap=n_bootstrap)\n",
    "    tmp  = pd.DataFrame({'bootstrap':range(n_bootstrap), 'MMD':mmd_pred, 'iteration':it, 'features':'VGG'})\n",
    "    df_mmd.append(tmp)\n",
    "#     mmd_pixels = bootstrap2(im_pixels[real_ix[0]:real_ix[1]+1,:], gan_pixels, calculate_mmd, n_bootstrap=n_bootstrap)\n",
    "#     tmp2 = pd.DataFrame({'bootstrap':range(n_bootstrap), 'MMD':mmd_pixels, 'iteration':it, 'features':'pixels'})\n",
    "#     df_mmd.extend([tmp,tmp2])\n",
    "    \n",
    "df_mmd = pd.concat(df_mmd, axis=0)"
   ]
  },
  {
   "cell_type": "code",
   "execution_count": 95,
   "metadata": {
    "scrolled": true
   },
   "outputs": [
    {
     "data": {
      "image/png": "[encoded data removed]",
      "text/plain": [
       "<Figure size 432x288 with 1 Axes>"
      ]
     },
     "metadata": {},
     "output_type": "display_data"
    }
   ],
   "source": [
    "with sns.plotting_context(\"paper\", font_scale=2):  # notebook paper slides\n",
    "    sns.set_style(\"whitegrid\")\n",
    "    ax = sns.barplot(x='iteration', y='MMD', palette=\"magma\", data=df_mmd)\n",
    "#     ax = sns.barplot(x='iteration', y='MMD', palette=\"magma\", hue='features', data=df_mmd)\n",
    "    plt.title('Maximum Mean Discrepancy')\n",
    "    sns.despine(ax=ax, offset=3)\n",
    "#     ax.set_yticks([2200, 2300, 2400, 2500, 2600])\n",
    "    if task=='detection': plt.ylim([2220, 2530])\n",
    "    plt.savefig(figdir + f'{task}_metrics_MMD.png', dpi=200, bbox_inches='tight')\n",
    "\n",
    "# print('VGG features:')\n",
    "# df = df_mmd[df_mmd.features == 'VGG']\n",
    "# print('iteration 344 vs 1055:', stats.ranksums(df[df.iteration == 344]['MMD'],df[df.iteration == 1055]['MMD']))    \n",
    "# print('iteration 7954 vs 24440:', stats.ranksums(df[df.iteration == 7954]['MMD'],df[df.iteration == 24440]['MMD']))    \n",
    "# print('iteration 24440 vs 60000:', stats.ranksums(df[df.iteration == 24440]['MMD'],df[df.iteration == 60000]['MMD']))    \n",
    "\n",
    "# print('pixels features:')\n",
    "# df = df_mmd[df_mmd.features == 'pixels']\n",
    "# print('Batch 344 vs 1055:', stats.ranksums(df[df.batch == 344]['MMD'],df[df.batch == 1055]['MMD']))    \n",
    "# print('Batch 7954 vs 24440:', stats.ranksums(df[df.batch == 7954]['MMD'],df[df.batch == 24440]['MMD']))    \n",
    "# print('Batch 24440 vs 60000:', stats.ranksums(df[df.batch == 24440]['MMD'],df[df.batch == 60000]['MMD']))    "
   ]
  },
  {
   "cell_type": "code",
   "execution_count": 96,
   "metadata": {},
   "outputs": [],
   "source": [
    "# stat = wilcoxon_ranksum(df_mmd[df_mmd.features=='VGG'], 'MMD', stat, appendix='_VGG', do_print=False)\n",
    "# stat = wilcoxon_ranksum(df_mmd[df_mmd.features=='pixels'], 'MMD', stat, appendix='_pixels', do_print=False, do_remove=False)\n",
    "# stat.tail(10)"
   ]
  },
  {
   "cell_type": "code",
   "execution_count": 97,
   "metadata": {},
   "outputs": [
    {
     "name": "stdout",
     "output_type": "stream",
     "text": [
      "iteration 60000 vs 24440: RanksumsResult(statistic=12.001926213563426, pvalue=3.471224731335013e-33)\n",
      "iteration-metric rank correlation: SpearmanrResult(correlation=-0.5145212484946182, pvalue=3.839527710002258e-35)\n"
     ]
    }
   ],
   "source": [
    "# rank correlation: batch vs metric\n",
    "# rank correlation: iteration vs metric\n",
    "print('iteration 60000 vs 24440:', stats.ranksums(df_mmd[df_mmd.iteration==60000].MMD, df_mmd[df_mmd.iteration==24440].MMD))\n",
    "print('iteration-metric rank correlation:', stats.spearmanr(df_mmd['iteration'], df_mmd['MMD']))"
   ]
  },
  {
   "cell_type": "code",
   "execution_count": 98,
   "metadata": {},
   "outputs": [
    {
     "name": "stdout",
     "output_type": "stream",
     "text": [
      "                 Results: Ordinary least squares\n",
      "=================================================================\n",
      "Model:              OLS              Adj. R-squared:     0.485   \n",
      "Dependent Variable: MMD              AIC:                868.3188\n",
      "Date:               2022-01-29 20:48 BIC:                876.7480\n",
      "No. Observations:   500              Log-Likelihood:     -432.16 \n",
      "Df Model:           1                F-statistic:        470.8   \n",
      "Df Residuals:       498              Prob (F-statistic): 5.63e-74\n",
      "R-squared:          0.486            Scale:              0.33113 \n",
      "-------------------------------------------------------------------\n",
      "          Coef.    Std.Err.      t       P>|t|     [0.025    0.975]\n",
      "-------------------------------------------------------------------\n",
      "x1       -0.2905     0.0134   -21.6971   0.0000   -0.3168   -0.2642\n",
      "const     3.9378     0.1177    33.4597   0.0000    3.7066    4.1691\n",
      "-----------------------------------------------------------------\n",
      "Omnibus:             366.589       Durbin-Watson:          0.270 \n",
      "Prob(Omnibus):       0.000         Jarque-Bera (JB):       45.966\n",
      "Skew:                0.427         Prob(JB):               0.000 \n",
      "Kurtosis:            1.785         Condition No.:          41    \n",
      "=================================================================\n",
      "\n"
     ]
    }
   ],
   "source": [
    "# linear regression\n",
    "tmp = df_mmd[df_mmd.iteration != 'real']\n",
    "linear_regression(tmp['MMD'], tmp['iteration'])"
   ]
  },
  {
   "cell_type": "markdown",
   "metadata": {},
   "source": [
    "---\n",
    "\n",
    "<a id=\"vmaf\"></a>\n",
    "# VMAF\n",
    "[back to top](#top)\n",
    "\n",
    "For VMAF, images need to be converted. We pad the images to 480 x 360 (360p) and save them as `.yuv` format."
   ]
  },
  {
   "cell_type": "code",
   "execution_count": null,
   "metadata": {},
   "outputs": [],
   "source": [
    "# Load images\n",
    "images = np.zeros((n_images, 135, 355, 3))\n",
    "\n",
    "for index, row in df_images.iterrows():\n",
    "    im = np.array(PIL.Image.open(imagedir + row['image'] + '.png'))[:,:,:3]\n",
    "    im = im[75:210,45:400]  # cut away the empty area around the MRI\n",
    "    images[index, :, :, :] = im\n",
    "    \n",
    "im_h, im_w = im.shape[:2]\n",
    "print('Image:', im_w, 'x', im_h)"
   ]
  },
  {
   "cell_type": "code",
   "execution_count": null,
   "metadata": {},
   "outputs": [],
   "source": [
    "# Pad images\n",
    "w, h = 480, 360 # 360p\n",
    "images_tf = tf.image.pad_to_bounding_box(images, offset_width=(w - im_w)//2, \\\n",
    "                             offset_height=(h - im_h)//2, \n",
    "                            target_height=h, target_width=w)"
   ]
  },
  {
   "cell_type": "code",
   "execution_count": null,
   "metadata": {},
   "outputs": [],
   "source": [
    "# Save padded images in 360p folder\n",
    "for index, row in df_images.iterrows():\n",
    "    filename = imagedir + 'images_vmaf_360p/' + row['image'] + '.png'\n",
    "    tf.keras.preprocessing.image.save_img(filename, images_tf[index,:,:,:])"
   ]
  },
  {
   "cell_type": "code",
   "execution_count": null,
   "metadata": {},
   "outputs": [],
   "source": [
    "# -- Requires the FFMEG command line tool --\n",
    "# Convert PNG to YUV (yuv420p = 8-bit encoding)\n",
    "# https://sh-tsang.medium.com/tutorial-converting-png-to-yuv-using-ffmpeg-or-opencv-c-api-a65f387609ad\n",
    "# In the BASH run this:\n",
    "# for f in `ls *png`; do echo \"$f -> ${f%.png}.yuv\"; ffmpeg -i $f -pix_fmt yuv420p ../images_vmaf_yuv/${f%.png}.yuv; done"
   ]
  },
  {
   "cell_type": "code",
   "execution_count": null,
   "metadata": {},
   "outputs": [],
   "source": [
    "# -- Requires the VMAF command line tool --\n",
    "# https://github.com/Netflix/vmaf/blob/master/libvmaf/tools/README.md\n",
    "# We run a double loop in the bash, looping across all combinations of real and generated images\n",
    "# The first loop is for real images, the second loop for generated ones\n",
    "# Each time the VMAF and other metrics (psnr, ssim, ms-ssim) are stored in a csv file\n",
    "# In the BASH run this:\n"
   ]
  },
  {
   "cell_type": "code",
   "execution_count": 99,
   "metadata": {},
   "outputs": [
    {
     "name": "stdout",
     "output_type": "stream",
     "text": [
      "25 csv files found in iteration 344\n",
      "25 csv files found in iteration 1055\n",
      "25 csv files found in iteration 7954\n",
      "25 csv files found in iteration 24440\n",
      "25 csv files found in iteration 60000\n"
     ]
    }
   ],
   "source": [
    "# -- LOADING RESULTS --\n",
    "# load VMAF from CSV files and store in single dataframe\n",
    "df_vmaf = []\n",
    "for it in iterations:\n",
    "    if task == 'detection':\n",
    "        files = glob(imagedir + f'images_vmaf_yuv/real*_batch_{it}_im*.csv')\n",
    "    elif task == 'rating':\n",
    "        files = glob(imagedir + f'images_vmaf_yuv_rating/real*_batch_{it}_im*.csv')\n",
    "    print(f'{len(files)} csv files found in iteration {it}')\n",
    "    for file in files:\n",
    "        df = pd.read_csv(file)\n",
    "        df = df[['psnr_y', 'float_ssim', 'float_ms_ssim', 'vmaf']]\n",
    "        df['iteration'] = it\n",
    "        df_vmaf.append(df)\n",
    "\n",
    "df_vmaf = pd.concat(df_vmaf, axis=0)"
   ]
  },
  {
   "cell_type": "code",
   "execution_count": 100,
   "metadata": {},
   "outputs": [],
   "source": [
    "df_vmaf = df_vmaf.rename(columns={'psnr_y':'PSNR', 'float_ssim':'SSIM','float_ms_ssim':'MS-SSIM', \n",
    "                       'vmaf':'VMAF'})"
   ]
  },
  {
   "cell_type": "code",
   "execution_count": null,
   "metadata": {},
   "outputs": [],
   "source": [
    "metric = 'PSNR'\n",
    "metric = 'MS-SSIM'\n",
    "metric = 'SSIM'\n",
    "metric = 'VMAF'\n",
    "with sns.plotting_context(\"paper\", font_scale=2):  # notebook paper slides\n",
    "    sns.set_style(\"whitegrid\")\n",
    "    ax = sns.barplot(x='iteration', y=metric, palette=\"magma\", data=df_vmaf)\n",
    "#     plt.ylim([2200, 2600]); ax.set_yticks([2200, 2300, 2400, 2500, 2600])\n",
    "    plt.title(metric)\n",
    "#     ax.add_line(Line2D([3.1,3.1,3.9,3.9], [30,35,35,30], color='k'))\n",
    "#     yl = plt.ylim()\n",
    "#     plt.ylim((yl[0], yl[1]+5))\n",
    "    if metric == 'PSNR': plt.ylim((22.1, 25.55))\n",
    "    elif metric == 'MS-SSIM': plt.ylim((0.925, 0.967))\n",
    "    elif metric == 'SSIM': plt.ylim((0.9, 0.949))\n",
    "    elif metric == 'VMAF': plt.ylim((6, 33.5))\n",
    "    sns.despine(ax=ax, offset=3)\n",
    "    plt.savefig(figdir + f'{task}_metrics_{metric}.png', dpi=200, bbox_inches='tight')"
   ]
  },
  {
   "cell_type": "code",
   "execution_count": 85,
   "metadata": {},
   "outputs": [
    {
     "data": {
      "text/html": [
       "<div>\n",
       "<style scoped>\n",
       "    .dataframe tbody tr th:only-of-type {\n",
       "        vertical-align: middle;\n",
       "    }\n",
       "\n",
       "    .dataframe tbody tr th {\n",
       "        vertical-align: top;\n",
       "    }\n",
       "\n",
       "    .dataframe thead th {\n",
       "        text-align: right;\n",
       "    }\n",
       "</style>\n",
       "<table border=\"1\" class=\"dataframe\">\n",
       "  <thead>\n",
       "    <tr style=\"text-align: right;\">\n",
       "      <th></th>\n",
       "      <th>PSNR</th>\n",
       "      <th>SSIM</th>\n",
       "      <th>MS-SSIM</th>\n",
       "      <th>VMAF</th>\n",
       "      <th>iteration</th>\n",
       "    </tr>\n",
       "  </thead>\n",
       "  <tbody>\n",
       "    <tr>\n",
       "      <th>0</th>\n",
       "      <td>22.939062</td>\n",
       "      <td>0.898402</td>\n",
       "      <td>0.927079</td>\n",
       "      <td>8.313706</td>\n",
       "      <td>344</td>\n",
       "    </tr>\n",
       "    <tr>\n",
       "      <th>0</th>\n",
       "      <td>22.826765</td>\n",
       "      <td>0.897073</td>\n",
       "      <td>0.925639</td>\n",
       "      <td>4.179038</td>\n",
       "      <td>344</td>\n",
       "    </tr>\n",
       "    <tr>\n",
       "      <th>0</th>\n",
       "      <td>22.878671</td>\n",
       "      <td>0.901677</td>\n",
       "      <td>0.929180</td>\n",
       "      <td>8.539895</td>\n",
       "      <td>344</td>\n",
       "    </tr>\n",
       "    <tr>\n",
       "      <th>0</th>\n",
       "      <td>23.115397</td>\n",
       "      <td>0.901604</td>\n",
       "      <td>0.931775</td>\n",
       "      <td>4.534668</td>\n",
       "      <td>344</td>\n",
       "    </tr>\n",
       "    <tr>\n",
       "      <th>0</th>\n",
       "      <td>23.174731</td>\n",
       "      <td>0.905555</td>\n",
       "      <td>0.935566</td>\n",
       "      <td>6.029225</td>\n",
       "      <td>344</td>\n",
       "    </tr>\n",
       "    <tr>\n",
       "      <th>...</th>\n",
       "      <td>...</td>\n",
       "      <td>...</td>\n",
       "      <td>...</td>\n",
       "      <td>...</td>\n",
       "      <td>...</td>\n",
       "    </tr>\n",
       "    <tr>\n",
       "      <th>0</th>\n",
       "      <td>24.599063</td>\n",
       "      <td>0.948164</td>\n",
       "      <td>0.964188</td>\n",
       "      <td>39.973807</td>\n",
       "      <td>60000</td>\n",
       "    </tr>\n",
       "    <tr>\n",
       "      <th>0</th>\n",
       "      <td>24.315822</td>\n",
       "      <td>0.942176</td>\n",
       "      <td>0.958450</td>\n",
       "      <td>31.586167</td>\n",
       "      <td>60000</td>\n",
       "    </tr>\n",
       "    <tr>\n",
       "      <th>0</th>\n",
       "      <td>25.344360</td>\n",
       "      <td>0.949060</td>\n",
       "      <td>0.967620</td>\n",
       "      <td>37.412873</td>\n",
       "      <td>60000</td>\n",
       "    </tr>\n",
       "    <tr>\n",
       "      <th>0</th>\n",
       "      <td>26.004700</td>\n",
       "      <td>0.949302</td>\n",
       "      <td>0.971863</td>\n",
       "      <td>32.252959</td>\n",
       "      <td>60000</td>\n",
       "    </tr>\n",
       "    <tr>\n",
       "      <th>0</th>\n",
       "      <td>23.414410</td>\n",
       "      <td>0.939853</td>\n",
       "      <td>0.952681</td>\n",
       "      <td>32.523402</td>\n",
       "      <td>60000</td>\n",
       "    </tr>\n",
       "  </tbody>\n",
       "</table>\n",
       "<p>125 rows × 5 columns</p>\n",
       "</div>"
      ],
      "text/plain": [
       "         PSNR      SSIM   MS-SSIM       VMAF  iteration\n",
       "0   22.939062  0.898402  0.927079   8.313706        344\n",
       "0   22.826765  0.897073  0.925639   4.179038        344\n",
       "0   22.878671  0.901677  0.929180   8.539895        344\n",
       "0   23.115397  0.901604  0.931775   4.534668        344\n",
       "0   23.174731  0.905555  0.935566   6.029225        344\n",
       "..        ...       ...       ...        ...        ...\n",
       "0   24.599063  0.948164  0.964188  39.973807      60000\n",
       "0   24.315822  0.942176  0.958450  31.586167      60000\n",
       "0   25.344360  0.949060  0.967620  37.412873      60000\n",
       "0   26.004700  0.949302  0.971863  32.252959      60000\n",
       "0   23.414410  0.939853  0.952681  32.523402      60000\n",
       "\n",
       "[125 rows x 5 columns]"
      ]
     },
     "execution_count": 85,
     "metadata": {},
     "output_type": "execute_result"
    }
   ],
   "source": [
    "df_vmaf"
   ]
  },
  {
   "cell_type": "code",
   "execution_count": 101,
   "metadata": {},
   "outputs": [
    {
     "name": "stdout",
     "output_type": "stream",
     "text": [
      "--- PSNR ---\n",
      "                 Results: Ordinary least squares\n",
      "=================================================================\n",
      "Model:              OLS              Adj. R-squared:     0.315   \n",
      "Dependent Variable: PSNR             AIC:                330.0642\n",
      "Date:               2022-01-29 20:48 BIC:                335.7208\n",
      "No. Observations:   125              Log-Likelihood:     -163.03 \n",
      "Df Model:           1                F-statistic:        58.15   \n",
      "Df Residuals:       123              Prob (F-statistic): 5.70e-12\n",
      "R-squared:          0.321            Scale:              0.80797 \n",
      "-------------------------------------------------------------------\n",
      "           Coef.    Std.Err.      t      P>|t|     [0.025    0.975]\n",
      "-------------------------------------------------------------------\n",
      "x1         0.3189     0.0418    7.6255   0.0000    0.2361    0.4017\n",
      "const     21.8330     0.3677   59.3817   0.0000   21.1052   22.5608\n",
      "-----------------------------------------------------------------\n",
      "Omnibus:               0.534        Durbin-Watson:          1.776\n",
      "Prob(Omnibus):         0.766        Jarque-Bera (JB):       0.672\n",
      "Skew:                  -0.070       Prob(JB):               0.715\n",
      "Kurtosis:              2.669        Condition No.:          41   \n",
      "=================================================================\n",
      "\n",
      "--- MS-SSIM ---\n",
      "                  Results: Ordinary least squares\n",
      "===================================================================\n",
      "Model:              OLS              Adj. R-squared:     0.466     \n",
      "Dependent Variable: MS-SSIM          AIC:                -782.7984 \n",
      "Date:               2022-01-29 20:48 BIC:                -777.1418 \n",
      "No. Observations:   125              Log-Likelihood:     393.40    \n",
      "Df Model:           1                F-statistic:        109.4     \n",
      "Df Residuals:       123              Prob (F-statistic): 1.05e-18  \n",
      "R-squared:          0.471            Scale:              0.00010988\n",
      "----------------------------------------------------------------------\n",
      "          Coef.     Std.Err.       t        P>|t|     [0.025    0.975]\n",
      "----------------------------------------------------------------------\n",
      "x1        0.0051      0.0005     10.4596    0.0000    0.0041    0.0061\n",
      "const     0.9136      0.0043    213.0879    0.0000    0.9052    0.9221\n",
      "-------------------------------------------------------------------\n",
      "Omnibus:               12.292        Durbin-Watson:           0.601\n",
      "Prob(Omnibus):         0.002         Jarque-Bera (JB):        4.440\n",
      "Skew:                  0.106         Prob(JB):                0.109\n",
      "Kurtosis:              2.101         Condition No.:           41   \n",
      "===================================================================\n",
      "\n",
      "--- SSIM ---\n",
      "                  Results: Ordinary least squares\n",
      "===================================================================\n",
      "Model:              OLS              Adj. R-squared:     0.621     \n",
      "Dependent Variable: SSIM             AIC:                -787.3980 \n",
      "Date:               2022-01-29 20:48 BIC:                -781.7414 \n",
      "No. Observations:   125              Log-Likelihood:     395.70    \n",
      "Df Model:           1                F-statistic:        204.4     \n",
      "Df Residuals:       123              Prob (F-statistic): 6.39e-28  \n",
      "R-squared:          0.624            Scale:              0.00010591\n",
      "----------------------------------------------------------------------\n",
      "          Coef.     Std.Err.       t        P>|t|     [0.025    0.975]\n",
      "----------------------------------------------------------------------\n",
      "x1        0.0068      0.0005     14.2980    0.0000    0.0059    0.0078\n",
      "const     0.8762      0.0042    208.1572    0.0000    0.8679    0.8846\n",
      "-------------------------------------------------------------------\n",
      "Omnibus:               17.306        Durbin-Watson:           0.237\n",
      "Prob(Omnibus):         0.000         Jarque-Bera (JB):        5.183\n",
      "Skew:                  0.096         Prob(JB):                0.075\n",
      "Kurtosis:              2.021         Condition No.:           41   \n",
      "===================================================================\n",
      "\n",
      "--- VMAF ---\n",
      "                 Results: Ordinary least squares\n",
      "=================================================================\n",
      "Model:              OLS              Adj. R-squared:     0.495   \n",
      "Dependent Variable: VMAF             AIC:                849.8496\n",
      "Date:               2022-01-29 20:48 BIC:                855.5062\n",
      "No. Observations:   125              Log-Likelihood:     -422.92 \n",
      "Df Model:           1                F-statistic:        122.8   \n",
      "Df Residuals:       123              Prob (F-statistic): 3.26e-20\n",
      "R-squared:          0.500            Scale:              51.679  \n",
      "-------------------------------------------------------------------\n",
      "          Coef.    Std.Err.      t      P>|t|     [0.025     0.975]\n",
      "-------------------------------------------------------------------\n",
      "x1        3.7066     0.3345   11.0809   0.0000     3.0445    4.3687\n",
      "const    -6.2862     2.9405   -2.1378   0.0345   -12.1067   -0.4656\n",
      "-----------------------------------------------------------------\n",
      "Omnibus:              9.459        Durbin-Watson:           0.576\n",
      "Prob(Omnibus):        0.009        Jarque-Bera (JB):        4.200\n",
      "Skew:                 0.175        Prob(JB):                0.122\n",
      "Kurtosis:             2.173        Condition No.:           41   \n",
      "=================================================================\n",
      "\n"
     ]
    }
   ],
   "source": [
    "# linear regression\n",
    "for m in ('PSNR', 'MS-SSIM', 'SSIM', 'VMAF'):\n",
    "    print('---', m, '---')\n",
    "    linear_regression(df_vmaf[m], df_vmaf['iteration'])"
   ]
  },
  {
   "cell_type": "code",
   "execution_count": 102,
   "metadata": {},
   "outputs": [
    {
     "name": "stdout",
     "output_type": "stream",
     "text": [
      "--- PSNR ---\n",
      "iteration 60000 vs 24440: RanksumsResult(statistic=0.1455213750217998, pvalue=0.8842992405514215)\n",
      "--- MS-SSIM ---\n",
      "iteration 60000 vs 24440: RanksumsResult(statistic=-0.41716127506249273, pvalue=0.6765604481507999)\n",
      "--- SSIM ---\n",
      "iteration 60000 vs 24440: RanksumsResult(statistic=-0.669398325100279, pvalue=0.5032414197587344)\n",
      "--- VMAF ---\n",
      "iteration 60000 vs 24440: RanksumsResult(statistic=1.096261025164225, pvalue=0.2729645604132478)\n"
     ]
    }
   ],
   "source": [
    "# Wilcoxon rank-sum\n",
    "for m in ('PSNR', 'MS-SSIM', 'SSIM', 'VMAF'):\n",
    "    print('---', m, '---')\n",
    "    print('iteration 60000 vs 24440:', stats.ranksums(df_vmaf[df_vmaf.iteration==60000][m], df_vmaf[df_vmaf.iteration==24440][m]))"
   ]
  },
  {
   "cell_type": "markdown",
   "metadata": {},
   "source": [
    "---\n",
    "\n",
    "<a id=\"niqe\"></a>\n",
    "# NIQE/BRISQUE\n",
    "[back to top](#top)\n",
    "\n",
    "Load results created with Matlab script `analyze_2D_image_NIQE_BRISQUE.m`"
   ]
  },
  {
   "cell_type": "code",
   "execution_count": 103,
   "metadata": {},
   "outputs": [
    {
     "data": {
      "text/html": [
       "<div>\n",
       "<style scoped>\n",
       "    .dataframe tbody tr th:only-of-type {\n",
       "        vertical-align: middle;\n",
       "    }\n",
       "\n",
       "    .dataframe tbody tr th {\n",
       "        vertical-align: top;\n",
       "    }\n",
       "\n",
       "    .dataframe thead th {\n",
       "        text-align: right;\n",
       "    }\n",
       "</style>\n",
       "<table border=\"1\" class=\"dataframe\">\n",
       "  <thead>\n",
       "    <tr style=\"text-align: right;\">\n",
       "      <th></th>\n",
       "      <th>image</th>\n",
       "      <th>batch</th>\n",
       "      <th>niqe</th>\n",
       "      <th>brisque</th>\n",
       "      <th>niqe-mri</th>\n",
       "      <th>brisque-mri</th>\n",
       "      <th>iteration</th>\n",
       "    </tr>\n",
       "  </thead>\n",
       "  <tbody>\n",
       "    <tr>\n",
       "      <th>0</th>\n",
       "      <td>batch_344_im_201</td>\n",
       "      <td>1</td>\n",
       "      <td>17.043516</td>\n",
       "      <td>38.901735</td>\n",
       "      <td>19.627273</td>\n",
       "      <td>3.617705</td>\n",
       "      <td>344</td>\n",
       "    </tr>\n",
       "    <tr>\n",
       "      <th>1</th>\n",
       "      <td>batch_344_im_202</td>\n",
       "      <td>1</td>\n",
       "      <td>17.188457</td>\n",
       "      <td>36.958013</td>\n",
       "      <td>18.486816</td>\n",
       "      <td>3.815763</td>\n",
       "      <td>344</td>\n",
       "    </tr>\n",
       "    <tr>\n",
       "      <th>2</th>\n",
       "      <td>batch_344_im_203</td>\n",
       "      <td>1</td>\n",
       "      <td>14.409123</td>\n",
       "      <td>39.830189</td>\n",
       "      <td>17.892989</td>\n",
       "      <td>4.055648</td>\n",
       "      <td>344</td>\n",
       "    </tr>\n",
       "    <tr>\n",
       "      <th>3</th>\n",
       "      <td>batch_344_im_204</td>\n",
       "      <td>1</td>\n",
       "      <td>17.471897</td>\n",
       "      <td>37.539808</td>\n",
       "      <td>20.224067</td>\n",
       "      <td>3.469986</td>\n",
       "      <td>344</td>\n",
       "    </tr>\n",
       "    <tr>\n",
       "      <th>4</th>\n",
       "      <td>batch_344_im_205</td>\n",
       "      <td>1</td>\n",
       "      <td>16.490783</td>\n",
       "      <td>37.615966</td>\n",
       "      <td>20.083859</td>\n",
       "      <td>3.616220</td>\n",
       "      <td>344</td>\n",
       "    </tr>\n",
       "  </tbody>\n",
       "</table>\n",
       "</div>"
      ],
      "text/plain": [
       "              image  batch       niqe    brisque   niqe-mri  brisque-mri  \\\n",
       "0  batch_344_im_201      1  17.043516  38.901735  19.627273     3.617705   \n",
       "1  batch_344_im_202      1  17.188457  36.958013  18.486816     3.815763   \n",
       "2  batch_344_im_203      1  14.409123  39.830189  17.892989     4.055648   \n",
       "3  batch_344_im_204      1  17.471897  37.539808  20.224067     3.469986   \n",
       "4  batch_344_im_205      1  16.490783  37.615966  20.083859     3.616220   \n",
       "\n",
       "  iteration  \n",
       "0       344  \n",
       "1       344  \n",
       "2       344  \n",
       "3       344  \n",
       "4       344  "
      ]
     },
     "execution_count": 103,
     "metadata": {},
     "output_type": "execute_result"
    }
   ],
   "source": [
    "nb_detection = pd.read_csv(resultdir + 'analyze_2D_image_NIQE_BRISQUE_detection.csv')\n",
    "nb_rating = pd.read_csv(resultdir + 'analyze_2D_image_NIQE_BRISQUE_rating.csv')\n",
    "\n",
    "nb_detection['iteration'] = nb_detection.batch.astype('category')\n",
    "nb_detection['iteration'] = nb_detection.iteration.cat.reorder_categories([1,2,3,4,5,0]).cat.rename_categories({0:'real', 1:'344', 2:'1055', 3:'7954', 4:'24440', 5:'60000'})\n",
    "nb_rating['iteration'] = nb_rating.batch.astype('category')\n",
    "nb_rating['iteration'] = nb_rating.iteration.cat.reorder_categories([1,2,3,4,5,0]).cat.rename_categories({0:'real', 1:'344', 2:'1055', 3:'7954', 4:'24440', 5:'60000'})\n",
    "\n",
    "nb_rating.head()"
   ]
  },
  {
   "cell_type": "code",
   "execution_count": 104,
   "metadata": {},
   "outputs": [
    {
     "data": {
      "image/png": "[encoded data removed]",
      "text/plain": [
       "<Figure size 432x288 with 1 Axes>"
      ]
     },
     "metadata": {},
     "output_type": "display_data"
    }
   ],
   "source": [
    "m = 'niqe'\n",
    "# m = 'brisque'\n",
    "# m = 'niqe-mri'\n",
    "m = 'brisque-mri'\n",
    "with sns.plotting_context(\"paper\", font_scale=2):  # notebook paper slides\n",
    "    sns.set_style(\"whitegrid\")\n",
    "    if task == 'detection':\n",
    "        ax = sns.barplot(x='iteration', y=m, palette=\"magma\", data=nb_detection)\n",
    "    else:\n",
    "        ax = sns.barplot(x='iteration', y=m, palette=\"magma\", data=nb_rating)\n",
    "    plt.title(m.upper())\n",
    "    sns.despine(ax=ax, offset=3)\n",
    "#     ax.set_yticks([2200, 2300, 2400, 2500, 2600])\n",
    "    if task=='detection':\n",
    "        if m=='niqe': plt.ylim([12, 17.1]) # nique - detection\n",
    "        if m=='brisque': plt.ylim([1.81, 2.22]) # brisque - detection\n",
    "        if m=='niqe-mri': plt.ylim([12.1, 19.8]) # nique-mri - detection\n",
    "        if m=='brisque-mri': plt.ylim([1.1, 3.7]) # brisque-mri - detection\n",
    "    elif task=='rating':\n",
    "        if m=='niqe': plt.ylim([12, 17.2]) # nique - detection\n",
    "        if m=='brisque': plt.ylim([1.81, 2.19]) # brisque - detection\n",
    "        if m=='niqe-mri': plt.ylim([12.1, 19.99]) # nique-mri - detection\n",
    "        if m=='brisque-mri': \n",
    "            plt.ylim([1.3, 3.99]) # brisque-mri - detection\n",
    "            plt.title('BRISQUE-MRI (cross-validated)')\n",
    "    if 'brisque' in m: plt.ylabel('MOS')\n",
    "    plt.savefig(figdir + f'{task}_metrics_{m}.png', dpi=200, bbox_inches='tight')\n"
   ]
  },
  {
   "cell_type": "code",
   "execution_count": 105,
   "metadata": {},
   "outputs": [
    {
     "name": "stdout",
     "output_type": "stream",
     "text": [
      "--- niqe ---\n",
      "                 Results: Ordinary least squares\n",
      "=================================================================\n",
      "Model:              OLS              Adj. R-squared:     0.780   \n",
      "Dependent Variable: niqe             AIC:                67.1205 \n",
      "Date:               2022-01-29 20:48 BIC:                69.5583 \n",
      "No. Observations:   25               Log-Likelihood:     -31.560 \n",
      "Df Model:           1                F-statistic:        86.26   \n",
      "Df Residuals:       23               Prob (F-statistic): 3.03e-09\n",
      "R-squared:          0.789            Scale:              0.79479 \n",
      "-------------------------------------------------------------------\n",
      "           Coef.    Std.Err.      t      P>|t|     [0.025    0.975]\n",
      "-------------------------------------------------------------------\n",
      "x1        -0.8615     0.0928   -9.2875   0.0000   -1.0534   -0.6696\n",
      "const     21.7678     0.8154   26.6956   0.0000   20.0810   23.4546\n",
      "-----------------------------------------------------------------\n",
      "Omnibus:               1.803        Durbin-Watson:          1.572\n",
      "Prob(Omnibus):         0.406        Jarque-Bera (JB):       0.723\n",
      "Skew:                  -0.362       Prob(JB):               0.697\n",
      "Kurtosis:              3.410        Condition No.:          41   \n",
      "=================================================================\n",
      "\n",
      "--- niqe-mri ---\n",
      "                 Results: Ordinary least squares\n",
      "=================================================================\n",
      "Model:              OLS              Adj. R-squared:     0.551   \n",
      "Dependent Variable: niqe-mri         AIC:                85.8009 \n",
      "Date:               2022-01-29 20:48 BIC:                88.2386 \n",
      "No. Observations:   25               Log-Likelihood:     -40.900 \n",
      "Df Model:           1                F-statistic:        30.46   \n",
      "Df Residuals:       23               Prob (F-statistic): 1.30e-05\n",
      "R-squared:          0.570            Scale:              1.6779  \n",
      "-------------------------------------------------------------------\n",
      "           Coef.    Std.Err.      t      P>|t|     [0.025    0.975]\n",
      "-------------------------------------------------------------------\n",
      "x1        -0.7438     0.1348   -5.5188   0.0000   -1.0226   -0.4650\n",
      "const     23.2677     1.1848   19.6392   0.0000   20.8168   25.7186\n",
      "-----------------------------------------------------------------\n",
      "Omnibus:              0.429        Durbin-Watson:           1.467\n",
      "Prob(Omnibus):        0.807        Jarque-Bera (JB):        0.555\n",
      "Skew:                 0.101        Prob(JB):                0.758\n",
      "Kurtosis:             2.298        Condition No.:           41   \n",
      "=================================================================\n",
      "\n",
      "--- brisque ---\n",
      "                 Results: Ordinary least squares\n",
      "=================================================================\n",
      "Model:              OLS              Adj. R-squared:     0.444   \n",
      "Dependent Variable: brisque          AIC:                96.1821 \n",
      "Date:               2022-01-29 20:48 BIC:                98.6198 \n",
      "No. Observations:   25               Log-Likelihood:     -46.091 \n",
      "Df Model:           1                F-statistic:        20.13   \n",
      "Df Residuals:       23               Prob (F-statistic): 0.000167\n",
      "R-squared:          0.467            Scale:              2.5416  \n",
      "-------------------------------------------------------------------\n",
      "           Coef.    Std.Err.      t      P>|t|     [0.025    0.975]\n",
      "-------------------------------------------------------------------\n",
      "x1         0.7443     0.1659    4.4869   0.0002    0.4011    1.0874\n",
      "const     35.6169     1.4581   24.4262   0.0000   32.6005   38.6333\n",
      "-----------------------------------------------------------------\n",
      "Omnibus:               1.556        Durbin-Watson:          1.028\n",
      "Prob(Omnibus):         0.459        Jarque-Bera (JB):       1.146\n",
      "Skew:                  -0.277       Prob(JB):               0.564\n",
      "Kurtosis:              2.110        Condition No.:          41   \n",
      "=================================================================\n",
      "\n",
      "--- brisque-mri ---\n",
      "                 Results: Ordinary least squares\n",
      "=================================================================\n",
      "Model:              OLS              Adj. R-squared:     0.788   \n",
      "Dependent Variable: brisque-mri      AIC:                14.7039 \n",
      "Date:               2022-01-29 20:48 BIC:                17.1417 \n",
      "No. Observations:   25               Log-Likelihood:     -5.3519 \n",
      "Df Model:           1                F-statistic:        90.24   \n",
      "Df Residuals:       23               Prob (F-statistic): 2.00e-09\n",
      "R-squared:          0.797            Scale:              0.097653\n",
      "-------------------------------------------------------------------\n",
      "           Coef.    Std.Err.      t      P>|t|     [0.025    0.975]\n",
      "-------------------------------------------------------------------\n",
      "x1        -0.3089     0.0325   -9.4997   0.0000   -0.3761   -0.2416\n",
      "const      5.5713     0.2858   19.4925   0.0000    4.9801    6.1626\n",
      "-----------------------------------------------------------------\n",
      "Omnibus:              4.833        Durbin-Watson:           2.992\n",
      "Prob(Omnibus):        0.089        Jarque-Bera (JB):        2.925\n",
      "Skew:                 0.687        Prob(JB):                0.232\n",
      "Kurtosis:             3.958        Condition No.:           41   \n",
      "=================================================================\n",
      "\n"
     ]
    }
   ],
   "source": [
    "df = nb_rating[nb_rating.iteration!='real'] if task == 'rating' else nb_detection[nb_detection.iteration!='real']\n",
    "\n",
    "# linear regression\n",
    "for m in ('niqe', 'niqe-mri', 'brisque', 'brisque-mri'):\n",
    "    print('---', m, '---')\n",
    "    linear_regression(df[m], df['iteration'])"
   ]
  },
  {
   "cell_type": "code",
   "execution_count": 106,
   "metadata": {},
   "outputs": [
    {
     "name": "stdout",
     "output_type": "stream",
     "text": [
      "--- niqe ---\n",
      "iteration 60000 vs real: RanksumsResult(statistic=-1.3578057164544433, pvalue=0.17452534056858338)\n",
      "--- niqe-mri ---\n",
      "iteration 60000 vs real: RanksumsResult(statistic=2.40227165218863, pvalue=0.016293603621028527)\n",
      "--- brisque ---\n",
      "iteration 60000 vs real: RanksumsResult(statistic=0.5222329678670935, pvalue=0.6015081344405899)\n",
      "--- brisque-mri ---\n",
      "iteration 60000 vs real: RanksumsResult(statistic=1.5666989036012806, pvalue=0.11718508719813801)\n"
     ]
    }
   ],
   "source": [
    "df = nb_rating if task == 'rating' else nb_detection\n",
    "\n",
    "# Wilcoxon rank-sum\n",
    "for m in ('niqe', 'niqe-mri', 'brisque', 'brisque-mri'):\n",
    "    print('---', m, '---')    \n",
    "    print('iteration 60000 vs real:', stats.ranksums(df[df.iteration=='60000'][m], df[df.iteration=='real'][m]))"
   ]
  },
  {
   "cell_type": "markdown",
   "metadata": {},
   "source": [
    "---\n",
    "\n",
    "<a id=\"load_save\"></a>\n",
    "# Load/save metrics\n",
    "[back to top](#top)"
   ]
  },
  {
   "cell_type": "code",
   "execution_count": null,
   "metadata": {},
   "outputs": [],
   "source": [
    "# Load data\n",
    "with open(resultdir + f'analyze_gan_2D_all_metrics_{task}.pickle', 'rb') as f:\n",
    "    (df_is, df_mis, df_fid, df_mmd, df_vmaf, stat) = pickle.load(f)"
   ]
  },
  {
   "cell_type": "code",
   "execution_count": 107,
   "metadata": {},
   "outputs": [],
   "source": [
    "# Save data\n",
    "with open(resultdir + f'analyze_gan_2D_all_metrics_{task}.pickle', 'wb') as f:\n",
    "    pickle.dump((df_is, df_mis, df_fid, df_mmd, df_vmaf, stat), f, protocol=pickle.HIGHEST_PROTOCOL)"
   ]
  },
  {
   "cell_type": "markdown",
   "metadata": {},
   "source": [
    "<a id=\"deepqa\"></a>\n",
    "# Deep QA model\n",
    "[back to top](#top)"
   ]
  },
  {
   "cell_type": "code",
   "execution_count": null,
   "metadata": {},
   "outputs": [],
   "source": [
    "def clean_RT_data(df, RT_col, low_RT, high_RT, n_timeouts = None):\n",
    "    '''Cleans RT data by removing too short RTs and removing participants with\n",
    "    too many timeouts'''\n",
    "    # time outs\n",
    "    if n_timeouts is not None:\n",
    "        timeout = df.groupby('participant')['timeout'].sum()\n",
    "        timeout = timeout[timeout > n_timeouts]\n",
    "        if timeout.shape[0] > 0:\n",
    "            print(f'{timeout.shape[0]} participants have >{n_timeouts} timeouts, removing them')\n",
    "            for ix in timeout.index:\n",
    "                df = df[df['participant'] != ix]\n",
    "\n",
    "    # check lower RT bound\n",
    "    df_low = df[df[RT_col] <= low_RT]\n",
    "    if df_low.shape[0] > 0:\n",
    "        print(f'Removing {df_low.shape[0]} trials with RT <= {low_RT}')\n",
    "        df = df[df[RT_col] > low_RT]\n",
    "\n",
    "    # check high RT bound\n",
    "    df_high = df[df[RT_col] >= high_RT]\n",
    "    if df_high.shape[0] > 0:\n",
    "        print(f'Removing {df_high.shape[0]} trials with RT >= {high_RT}')\n",
    "        df = df[df[RT_col] < high_RT]\n",
    "\n",
    "    return df"
   ]
  },
  {
   "cell_type": "code",
   "execution_count": null,
   "metadata": {},
   "outputs": [],
   "source": [
    "# Empirical distribution \n",
    "with open(resultdir + f'psytoolkit_all_participants26.pickle', 'rb') as f:\n",
    "    df_rating = pickle.load(f)\n",
    "\n",
    "# select only rating task\n",
    "df_rating = df_rating[df_rating.task == 'RATING_TASK']\n",
    "\n",
    "# clean RTs like in analyze_toolkit_data\n",
    "df_rating = clean_RT_data(df_rating, 'rate_RT', low_RT=150, high_RT=10000)\n",
    "\n",
    "# dummy code rating\n",
    "df_rating = pd.concat((df_rating, pd.get_dummies(df_rating.rate, prefix='rate')), axis=1)\n",
    "df_rating['batch'] = df_rating['batch'].replace({344:0, 1055:1, 7954:2, 24440:3, 60000:4, 'real':5}).astype('int')\n",
    "\n",
    "# calculate empirical posterior pobabilities for each of the 30 images by averaging each rate across participants\n",
    "p_yx = df_rating.groupby('tablerow').apply(lambda x:\n",
    "                pd.Series({'batch':np.unique(x.batch)[0], 'rate':x.rate.mean(),\n",
    "                          'rate_1':x['rate_1'].mean(),'rate_2':x['rate_2'].mean(),'rate_3':x['rate_3'].mean(),\n",
    "                          'rate_4':x['rate_4'].mean(),'rate_5':x['rate_5'].mean()})).reset_index().copy()\n",
    "print(p_yx.shape)\n",
    "p_yx.batch = p_yx.batch.astype('int')\n",
    "p_yx.groupby('batch').mean().loc[:,'rate_1':]"
   ]
  },
  {
   "cell_type": "code",
   "execution_count": null,
   "metadata": {},
   "outputs": [],
   "source": [
    "p_yx.groupby('batch').mean().loc[:,'rate_1':].plot(kind='bar')\n",
    "plt.title('Empirical distribution of rate')"
   ]
  },
  {
   "cell_type": "code",
   "execution_count": null,
   "metadata": {},
   "outputs": [],
   "source": [
    "pretrained = 'none'\n",
    "# pretrained = 'densenet201'\n",
    "# pretrained = 'resnet101'\n",
    "pretrained = 'inceptionv3'\n",
    "\n",
    "detection_task = 'multiclass'\n",
    "\n",
    "with open(resultdir + f'results_DeepQA_{pretrained}_{detection_task}_rating_hist.pickle', 'rb') as f:\n",
    "    rating_hist, bayes_accuracy = pickle.load(f)\n",
    "\n",
    "print('Bayes accuracy:', bayes_accuracy)\n",
    "sh = rating_hist.shape"
   ]
  },
  {
   "cell_type": "code",
   "execution_count": null,
   "metadata": {},
   "outputs": [],
   "source": [
    "# RATING HIST: to convert numpy array to Pandas dataframe, define the dimensions and create multi-index\n",
    "iterables=[range(sh[0]), range(sh[1]), range(sh[2]), ('loss','train acc','test acc')]\n",
    "index = pd.MultiIndex.from_product(iterables, names=['run','fold','epoch','metric'])\n",
    "\n",
    "rating_hist = pd.DataFrame(rating_hist.reshape(-1,1), index, columns=['value']).reset_index()\n",
    "print(rating_hist.shape)\n",
    "rating_hist.head()"
   ]
  },
  {
   "cell_type": "code",
   "execution_count": null,
   "metadata": {},
   "outputs": [],
   "source": [
    "detection_hist = pd.read_csv(resultdir + f'results_DeepQA_{pretrained}_{detection_task}_detection_hist.csv')\n",
    "rating_pred = pd.read_csv(resultdir + f'results_DeepQA_{pretrained}_{detection_task}_rating_pred.csv')\n",
    "\n",
    "# convert batch to category and rename values\n",
    "rating_pred['batch'] = rating_pred['batch'].astype('category').cat.rename_categories({5:'real', 0:344, 1:1055, 2:7954, 3:24440, 4:60000})"
   ]
  },
  {
   "cell_type": "code",
   "execution_count": null,
   "metadata": {},
   "outputs": [],
   "source": [
    "with sns.plotting_context(\"paper\", font_scale=2):  # notebook paper slides\n",
    "    sns.set_style(\"whitegrid\")\n",
    "\n",
    "    # Loss\n",
    "    ax = sns.lineplot(x='index', y='loss', palette=\"magma\", data=detection_hist)\n",
    "    ax = sns.lineplot(x='index', y='val_loss', palette=\"magma\", data=detection_hist)\n",
    "    plt.title(f'DeepQA detection loss ({pretrained})')\n",
    "    sns.despine(ax=ax, offset=3)\n",
    "#     plt.show()\n",
    "\n",
    "#     # Accuracy\n",
    "#     plt.Figure()\n",
    "#     sns.lineplot(x='epoch', y='value', hue='metric', palette=\"magma\", \\\n",
    "#                      data=df_rating_hist[df_rating_hist.metric != 'loss'])\n",
    "#     plt.title('DeepQA detection accuracy')\n",
    "#     sns.despine(ax=ax, offset=3)\n",
    "#     plt.show()\n",
    "\n",
    "    #     plt.savefig(figdir + 'metrics_FID.png', dpi=200, bbox_inches='tight')"
   ]
  },
  {
   "cell_type": "code",
   "execution_count": null,
   "metadata": {},
   "outputs": [],
   "source": [
    "with sns.plotting_context(\"paper\", font_scale=2):  # notebook paper slides\n",
    "    sns.set_style(\"whitegrid\")\n",
    "\n",
    "    # Loss\n",
    "    ax = sns.lineplot(x='index', y='accuracy', palette=\"magma\", data=detection_hist)\n",
    "    ax = sns.lineplot(x='index', y='val_accuracy', palette=\"magma\", data=detection_hist)\n",
    "    plt.legend(['train', 'test'])\n",
    "    plt.title(f'DeepQA detection accuracy ({pretrained.capitalize()})')\n",
    "    sns.despine(ax=ax, offset=3)\n",
    "    plt.ylim((0.5,1.0))\n",
    "    #     plt.savefig(figdir + 'metrics_FID.png', dpi=200, bbox_inches='tight')"
   ]
  },
  {
   "cell_type": "code",
   "execution_count": null,
   "metadata": {},
   "outputs": [],
   "source": [
    "with sns.plotting_context(\"paper\", font_scale=2):  # notebook paper slides\n",
    "    sns.set_style(\"whitegrid\")\n",
    "\n",
    "    # Loss\n",
    "    ax = sns.lineplot(x='epoch', y='value', \\\n",
    "                     data=rating_hist[rating_hist.metric == 'loss'])\n",
    "    plt.title(f'DeepQA rating loss ({pretrained.capitalize()})')\n",
    "    sns.despine(ax=ax, offset=3)\n",
    "    #     plt.savefig(figdir + 'metrics_FID.png', dpi=200, bbox_inches='tight')"
   ]
  },
  {
   "cell_type": "code",
   "execution_count": null,
   "metadata": {},
   "outputs": [],
   "source": [
    "with sns.plotting_context(\"paper\", font_scale=2):  # notebook paper slides\n",
    "    sns.set_style(\"whitegrid\")\n",
    "    ax = sns.lineplot(x='epoch', y='value', hue='metric', palette=\"magma\", \\\n",
    "                     data=rating_hist[rating_hist.metric != 'loss'])\n",
    "#     plt.ylim([0.15, 0.45]); # ax.set_yticks(range(20, 160, 20))\n",
    "    plt.title(f'DeepQA on rating data ({pretrained.capitalize()})')\n",
    "    sns.despine(ax=ax, offset=3)\n",
    "#     plt.savefig(figdir + 'metrics_FID.png', dpi=200, bbox_inches='tight')"
   ]
  },
  {
   "cell_type": "code",
   "execution_count": null,
   "metadata": {},
   "outputs": [],
   "source": [
    "rating_pred.groupby('batch').mean()"
   ]
  },
  {
   "cell_type": "code",
   "execution_count": null,
   "metadata": {},
   "outputs": [],
   "source": [
    "# average across images within each batch / run\n",
    "rating_pred = rating_pred.groupby(['batch','run']).mean().reset_index()"
   ]
  },
  {
   "cell_type": "code",
   "execution_count": null,
   "metadata": {},
   "outputs": [],
   "source": [
    "\n",
    "with sns.plotting_context(\"paper\", font_scale=2):  # notebook paper slides\n",
    "    sns.set_style(\"whitegrid\")\n",
    "    ax = sns.barplot(x='batch', y='pred', palette=\"magma\", data=rating_pred)\n",
    "#     plt.ylim([2200, 2600]); ax.set_yticks([2200, 2300, 2400, 2500, 2600])\n",
    "    plt.title(f'Deep QA model ({pretrained.capitalize()})')\n",
    "#     ax.add_line(Line2D([3.1,3.1,3.9,3.9], [30,35,35,30], color='k'))\n",
    "    yl = plt.ylim()\n",
    "#     plt.ylim((yl[0], yl[1]+5))\n",
    "#     plt.ylim((0.8, 0.97))\n",
    "    sns.despine(ax=ax, offset=3)\n",
    "    plt.savefig(figdir + f'Deep_QA_MOS_{pretrained}.png', dpi=200, bbox_inches='tight')\n",
    "\n",
    "df = rating_pred[['batch', 'pred']]\n",
    "print('Batch 344 vs 1055:', stats.ranksums(df[df.batch == 344].iloc[:,1],df[df.batch == 1055].iloc[:,1]))    \n",
    "print('Batch 7954 vs 24440:', stats.ranksums(df[df.batch == 7954].iloc[:,1],df[df.batch == 24440].iloc[:,1]))    \n",
    "print('Batch 24440 vs 60000:', stats.ranksums(df[df.batch == 24440].iloc[:,1],df[df.batch == 60000].iloc[:,1]))    \n",
    "print('Batch 60000 vs real:', stats.ranksums(df[df.batch == 60000].iloc[:,1],df[df.batch == 'real'].iloc[:,1]))    \n"
   ]
  },
  {
   "cell_type": "markdown",
   "metadata": {},
   "source": [
    "<a id=\"pca\"></a>\n",
    "# PCA\n",
    "[back to top](#top)"
   ]
  },
  {
   "cell_type": "code",
   "execution_count": 38,
   "metadata": {},
   "outputs": [],
   "source": [
    "from sklearn.decomposition import PCA\n",
    "keys = np.array(df_images.iteration.unique())"
   ]
  },
  {
   "cell_type": "code",
   "execution_count": 39,
   "metadata": {},
   "outputs": [],
   "source": [
    "# Load images\n",
    "import PIL, PIL.ImageOps\n",
    "\n",
    "images = {}\n",
    "for key in keys:    \n",
    "    tmp = df_images[df_images.iteration == key]\n",
    "    ims = np.zeros((tmp.shape[0], 135, 355, 3))\n",
    "    \n",
    "    for index, row in tmp.reset_index().iterrows():\n",
    "\n",
    "        if task != 'notask':\n",
    "            im = np.array(PIL.Image.open(imagedir + 'images/' + row['image'] + '.png'))[:,:,:3]\n",
    "        else:\n",
    "            subfolder = 'real' if row['iteration']=='real' else f'batch_{row[\"iteration\"]}'\n",
    "            im = np.array(PIL.Image.open(datadir + subfolder + '/' + row['image'] + '.png'))[:,:,:3]\n",
    "        im = im[75:210,45:400]  # cut away the empty area around the MRI\n",
    "        ims[index, :, :, :] = im\n",
    "        \n",
    "    images[key] = ims[...,0]/255.\n"
   ]
  },
  {
   "cell_type": "code",
   "execution_count": 40,
   "metadata": {},
   "outputs": [],
   "source": [
    "total_variance = []\n",
    "pc1 = []  # relative variance explained by PC1\n",
    "pc2 = []  # relative variance explained by PC2\n",
    "pc3 = []  # relative variance explained by PC3\n",
    "for key in keys:\n",
    "    im = images[key].reshape((images[key].shape[0],-1))\n",
    "    pca = PCA().fit(im)\n",
    "    total_variance.append(sum(pca.explained_variance_))\n",
    "    pc1.append(pca.explained_variance_ratio_[0])\n",
    "    pc2.append(pca.explained_variance_ratio_[1])\n",
    "    pc3.append(pca.explained_variance_ratio_[2])"
   ]
  },
  {
   "cell_type": "code",
   "execution_count": 41,
   "metadata": {},
   "outputs": [],
   "source": [
    "df_pca = pd.DataFrame({'iteration':keys, 'total_variance':total_variance, 'pc1':pc1, 'pc2':pc2, 'pc3':pc3})\n",
    "df_pca['pc123'] = df_pca.pc1 + df_pca.pc2 + df_pca.pc3"
   ]
  },
  {
   "cell_type": "code",
   "execution_count": 42,
   "metadata": {},
   "outputs": [
    {
     "data": {
      "image/png": "[encoded data removed]",
      "text/plain": [
       "<Figure size 432x288 with 1 Axes>"
      ]
     },
     "metadata": {},
     "output_type": "display_data"
    }
   ],
   "source": [
    "with sns.plotting_context(\"paper\", font_scale=2):  # notebook paper slides\n",
    "    sns.set_style(\"whitegrid\")\n",
    "    ax = sns.barplot(x='iteration', y='total_variance', palette=\"magma\", data=df_pca)\n",
    "    ax.tick_params(axis='x', rotation=45)\n",
    "    plt.title(f'Total variance ({task} task)')\n",
    "    sns.despine(ax=ax, offset=3)\n",
    "    plt.savefig(figdir + f'{task}_PCA_pca_total_variance.png', dpi=200, bbox_inches='tight')"
   ]
  },
  {
   "cell_type": "code",
   "execution_count": 43,
   "metadata": {},
   "outputs": [
    {
     "data": {
      "image/png": "[encoded data removed]",
      "text/plain": [
       "<Figure size 432x288 with 1 Axes>"
      ]
     },
     "metadata": {},
     "output_type": "display_data"
    }
   ],
   "source": [
    "with sns.plotting_context(\"paper\", font_scale=2):  # notebook paper slides\n",
    "    sns.set_style(\"whitegrid\")\n",
    "\n",
    "    ax = sns.barplot(x='iteration', y='pc1', palette=\"magma\", data=df_pca)\n",
    "    plt.title(f'Variance explained by PC1 ({task} task)')\n",
    "    sns.despine(ax=ax, offset=3)\n",
    "    plt.savefig(figdir + f'{task}_PCA_pc1.png', dpi=200, bbox_inches='tight')"
   ]
  },
  {
   "cell_type": "code",
   "execution_count": 44,
   "metadata": {},
   "outputs": [
    {
     "data": {
      "image/png": "[encoded data removed]",
      "text/plain": [
       "<Figure size 432x288 with 1 Axes>"
      ]
     },
     "metadata": {},
     "output_type": "display_data"
    }
   ],
   "source": [
    "with sns.plotting_context(\"paper\", font_scale=2):  # notebook paper slides\n",
    "    sns.set_style(\"whitegrid\")\n",
    "#     plt.figure(figsize=(11,4))\n",
    "    ax = sns.barplot(x='iteration', y='pc123', palette=\"magma\", data=df_pca)\n",
    "    plt.ylabel('sum(pc1, pc2, pc3)')\n",
    "    plt.title(f'Variance explained by PCs 1+2+3 ({task} task)')\n",
    "    sns.despine(ax=ax, offset=3)\n",
    "    plt.savefig(figdir + f'{task}_PCA_pc123.png', dpi=200, bbox_inches='tight')"
   ]
  },
  {
   "cell_type": "markdown",
   "metadata": {},
   "source": [
    "### Plot eigenvalue spectrum"
   ]
  },
  {
   "cell_type": "code",
   "execution_count": 45,
   "metadata": {},
   "outputs": [],
   "source": [
    "dfs = []\n",
    "for key in keys:\n",
    "    im = images[key].reshape((images[key].shape[0],-1))\n",
    "    pca = PCA().fit(im)\n",
    "    dfs.append(pd.DataFrame({'iteration':key, 'EV_number':range(len(pca.explained_variance_ratio_)), 'EV':pca.explained_variance_ratio_}))\n",
    "\n",
    "df_ev = pd.concat(dfs, axis=0).reset_index()"
   ]
  },
  {
   "cell_type": "code",
   "execution_count": 46,
   "metadata": {},
   "outputs": [
    {
     "data": {
      "image/png": "[encoded data removed]",
      "text/plain": [
       "<Figure size 720x288 with 1 Axes>"
      ]
     },
     "metadata": {},
     "output_type": "display_data"
    }
   ],
   "source": [
    "with sns.plotting_context(\"paper\", font_scale=2):  # notebook paper slides\n",
    "    sns.set_style(\"whitegrid\")\n",
    "    plt.figure(figsize=(10,4))\n",
    "    plt.title(f'Eigenvalue spectrum ({task} task)')\n",
    "    ax = sns.lineplot(x='EV_number', y='EV', hue='iteration',style='iteration', palette=\"magma\", \n",
    "                      linewidth=3,\n",
    "                      data=df_ev)\n",
    "    sns.despine(ax=ax, offset=3)\n",
    "#     plt.ylim(0,0.1)\n",
    "    plt.savefig(figdir + f'{task}_PCA_normalized_EV_spectrum.png', dpi=200, bbox_inches='tight')"
   ]
  },
  {
   "cell_type": "code",
   "execution_count": null,
   "metadata": {},
   "outputs": [],
   "source": []
  }
 ],
 "metadata": {
  "kernelspec": {
   "display_name": "Python 3 (ipykernel)",
   "language": "python",
   "name": "python3"
  },
  "language_info": {
   "codemirror_mode": {
    "name": "ipython",
    "version": 3
   },
   "file_extension": ".py",
   "mimetype": "text/x-python",
   "name": "python",
   "nbconvert_exporter": "python",
   "pygments_lexer": "ipython3",
   "version": "3.8.12"
  }
 },
 "nbformat": 4,
 "nbformat_minor": 2
}
