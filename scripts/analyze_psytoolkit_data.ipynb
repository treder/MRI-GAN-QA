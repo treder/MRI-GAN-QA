{
 "cells": [
  {
   "cell_type": "markdown",
   "metadata": {},
   "source": [
    "<a id=\"top\"></a>\n",
    "\n",
    "# Analyze PsyToolkit data\n",
    "\n",
    "Behavioural data obtained from the PsyToolbox experiment.\n",
    "\n",
    "- [Questionnaire](#quest)\n",
    "- [Combine experiment data](#experiment)\n",
    "- [Detection task](#detection_task)\n",
    "    - [Statistical analysis](#detection_task_stats)\n",
    "    - [Subgroup analysis](#detection_task_subgroup)\n",
    "- [Rating task](#rating_task)\n",
    "    - [Statistical analysis](#rating_task_stats)\n"
   ]
  },
  {
   "cell_type": "code",
   "execution_count": 11,
   "metadata": {},
   "outputs": [
    {
     "data": {
      "text/plain": [
       "'0.13.0'"
      ]
     },
     "execution_count": 11,
     "metadata": {},
     "output_type": "execute_result"
    }
   ],
   "source": [
    "from glob import glob\n",
    "from scipy import stats\n",
    "import re, pickle, os\n",
    "\n",
    "import numpy as np\n",
    "import pandas as pd\n",
    "import seaborn as sns\n",
    "import matplotlib.pyplot as plt\n",
    "import statsmodels.api as sm\n",
    "import statsmodels.formula.api as smf\n",
    "import statsmodels.miscmodels.ordinal_model\n",
    "\n",
    "statsmodels.__version__"
   ]
  },
  {
   "cell_type": "code",
   "execution_count": 12,
   "metadata": {},
   "outputs": [
    {
     "name": "stdout",
     "output_type": "stream",
     "text": [
      "/Users/matthiastreder\n"
     ]
    }
   ],
   "source": [
    "from pathlib import Path\n",
    "home = str(Path.home())\n",
    "print(home)\n",
    "\n",
    "basedir = os.path.join(home, 'git/MRI-GAN-QA/')\n",
    "datadir = basedir + 'experiment/'\n",
    "imagedir = basedir + 'experiment/Psytoolkit/'\n",
    "figdir = basedir + 'figures/'\n",
    "results_dir = basedir + 'results/'\n",
    "\n",
    "# data_dir = '/Users/matthiastreder/Downloads/fake_mri_data/'\n",
    "data_dir = '/Users/matthiastreder/Downloads/psytoolkit_data/'\n"
   ]
  },
  {
   "cell_type": "code",
   "execution_count": 13,
   "metadata": {},
   "outputs": [],
   "source": [
    "# exclude data from the authors\n",
    "exclude_authors = [\n",
    "    '2eb9e6be-e025-46c9-a8a7-fe0034d32dfe',\n",
    "    '3341a4ce-466b-4c1a-8af7-d6d1b0db930c'\n",
    "#     's.2eb9e6be-e025-46c9-a8a7-fe0034d32dfe.txt',\n",
    "#     's.3341a4ce-466b-4c1a-8af7-d6d1b0db930c.txt'\n",
    "]"
   ]
  },
  {
   "cell_type": "code",
   "execution_count": 14,
   "metadata": {},
   "outputs": [
    {
     "name": "stdout",
     "output_type": "stream",
     "text": [
      "0 participants complete\n"
     ]
    }
   ],
   "source": [
    "# find completed files and remove authors' files\n",
    "files = np.array(glob(data_dir + 'Fake_MRIs*.txt'))\n",
    "files = [f for f in files if not ((exclude_authors[0] in f) or (exclude_authors[1] in f))]\n",
    "\n",
    "# extract corresponding participant codes\n",
    "participants_completed = [re.findall(r'Fake_MRIs\\.\\d{4}-\\d{2}-\\d{2}-\\d{4}\\.data\\.([\\w-]+)', file)[0] \\\n",
    "                for file in files]\n",
    "print(len(participants_completed), 'participants complete')"
   ]
  },
  {
   "cell_type": "code",
   "execution_count": 15,
   "metadata": {},
   "outputs": [],
   "source": [
    "def clean_RT_data(df, RT_col, low_RT, high_RT, n_timeouts = None):\n",
    "    '''Cleans RT data by removing too short RTs and removing participants with\n",
    "    too many timeouts'''\n",
    "    # time outs\n",
    "    if n_timeouts is not None:\n",
    "        timeout = df.groupby('participant')['timeout'].sum()\n",
    "        timeout = timeout[timeout > n_timeouts]\n",
    "        if timeout.shape[0] > 0:\n",
    "            print(f'{timeout.shape[0]} participants have >{n_timeouts} timeouts, removing them')\n",
    "            for ix in timeout.index:\n",
    "                df = df[df['participant'] != ix] \n",
    "            \n",
    "    # check lower RT bound\n",
    "    df_low = df[df[RT_col] <= low_RT]\n",
    "    if df_low.shape[0] > 0:\n",
    "        print(f'Removing {df_low.shape[0]} trials with RT <= {low_RT}')\n",
    "        df = df[df[RT_col] > low_RT]\n",
    "    \n",
    "    # check high RT bound\n",
    "    df_high = df[df[RT_col] >= high_RT]\n",
    "    if df_high.shape[0] > 0:\n",
    "        print(f'Removing {df_high.shape[0]} trials with RT >= {high_RT}')\n",
    "        df = df[df[RT_col] < high_RT]\n",
    "\n",
    "    return df"
   ]
  },
  {
   "cell_type": "code",
   "execution_count": 16,
   "metadata": {},
   "outputs": [],
   "source": [
    "def trim_mean_upper(x, prop=0.1):\n",
    "    '''Calculates trimmed mean but trims only upper tail'''\n",
    "    return x[x <= x.quantile(1-prop)].mean()"
   ]
  },
  {
   "cell_type": "code",
   "execution_count": 17,
   "metadata": {},
   "outputs": [],
   "source": [
    "def wilcoxon_ranksum(target_col, group_col, subgroup_col = None):\n",
    "    '''Wilcoxon ranksum tests (for different subgroups)\n",
    "    target_col    - column with target values (eg RT, correct)\n",
    "    group_col     - binary column that differentiates two groups (eg experience)\n",
    "    subgroup_col  - column that defines subgroups for separate Wilcoxon tests'''\n",
    "    if subgroup_col is None:\n",
    "        g = group_col.unique()\n",
    "        print(f'Test {target_col.name} for {group_col.name}={g}')\n",
    "        result = stats.ranksums(target_col[group_col==g[0]], \\\n",
    "                                      target_col[group_col==g[1]])\n",
    "#         print(result)\n",
    "        print(f'p={result.pvalue:2.6f}')\n",
    "    else: \n",
    "        # run multiple tests for different subgroups\n",
    "        levels = subgroup_col.unique()\n",
    "        g = group_col.unique()\n",
    "        print(f'Test {target_col.name} for {group_col.name}={g}')\n",
    "        for level in levels:\n",
    "            result = stats.ranksums(target_col[(group_col==g[0])&(subgroup_col==level)], \\\n",
    "                                          target_col[(group_col==g[1])&(subgroup_col==level)])\n",
    "            print(f'{subgroup_col.name}={level}: p={result.pvalue:2.5f}')"
   ]
  },
  {
   "cell_type": "markdown",
   "metadata": {},
   "source": [
    "<a id=\"quest\"></a>\n",
    "# Questionnaire\n",
    "[back to top](#top)"
   ]
  },
  {
   "cell_type": "code",
   "execution_count": 30,
   "metadata": {},
   "outputs": [
    {
     "data": {
      "text/plain": [
       "['l: age\\n',\n",
       " 't: range\\n',\n",
       " 'q: What is your age?\\n',\n",
       " '- {min=18,max=80} Select your age\\n',\n",
       " '\\n',\n",
       " 'l: gender\\n',\n",
       " 't: radio\\n',\n",
       " 'q: What is your gender?\\n',\n",
       " '- Female\\n',\n",
       " '- Male\\n',\n",
       " '- Prefer not to say\\n',\n",
       " '\\n',\n",
       " 'l: experience\\n',\n",
       " 't: radio\\n',\n",
       " 'q: What is your type of experience with MRIs?\\n',\n",
       " '- Experience with reliability of diagnostic imaging (e.g. MR physicist or radiographer)\\n',\n",
       " '- Clinical experience with diagnostic imaging (e.g. radiologist or neurologist)\\n',\n",
       " '- Experience with MRI for research purposes, ie. without diagnostic purposes (e.g. postdoc in neuroimaging)\\n',\n",
       " '- Limited experience with MRI (e.g. undergrad or early PhD student)\\n',\n",
       " '\\n',\n",
       " 'l: years\\n',\n",
       " 't: range\\n',\n",
       " 'q: How many years of experience with MRIs do you have?\\n',\n",
       " '- {min=1,max=40} Select number of years\\n',\n",
       " '\\n',\n",
       " 'l: number\\n',\n",
       " 't: radio\\n',\n",
       " 'q: How many individual MRI brains do you roughly see every year?\\n',\n",
       " '- less than 10 images\\n',\n",
       " '- 10-100\\n',\n",
       " '- 100-500\\n',\n",
       " '- 500-1000\\n',\n",
       " '- >1000\\n',\n",
       " '\\n',\n",
       " 'l: fake_mris\\n',\n",
       " 't: experiment\\n',\n",
       " 'q: Please follow the instructions...\\n',\n",
       " '- Fake_MRIs\\n',\n",
       " '\\n',\n",
       " 'l: comment\\n',\n",
       " 't: textbox\\n',\n",
       " 'q: (optional) do you want to leave any feedback? Comments, improvements for future studies or anything else?\\n',\n",
       " '- {w=100,h=5} Enter your comment\\n']"
      ]
     },
     "execution_count": 30,
     "metadata": {},
     "output_type": "execute_result"
    }
   ],
   "source": [
    "with open(data_dir + 'survey.txt') as f:\n",
    "    s = f.readlines()\n",
    "s"
   ]
  },
  {
   "cell_type": "code",
   "execution_count": 31,
   "metadata": {},
   "outputs": [
    {
     "name": "stdout",
     "output_type": "stream",
     "text": [
      "(26, 11)\n"
     ]
    }
   ],
   "source": [
    "survey = pd.read_excel(data_dir + 'data.xlsx', engine='openpyxl')\n",
    "\n",
    "# remove leading \"s.\" and trailing \".txt\"\n",
    "survey['participant'] = survey['participant'].apply(lambda x : x[2:-4]) \n",
    "survey = survey.set_index(keys='participant')\n",
    "\n",
    "# only keep those participants with completed datasets\n",
    "survey = survey.loc[participants_completed,:]\n",
    "print(survey.shape)\n",
    "\n",
    "# add participant number\n",
    "survey['participant_nr'] = np.arange(len(participants_completed))+1"
   ]
  },
  {
   "cell_type": "code",
   "execution_count": 32,
   "metadata": {},
   "outputs": [],
   "source": [
    "# rename cols\n",
    "survey = survey.rename(columns={'age:1':'age','gender:1':'gender','experience:1':'experience',\\\n",
    "                   'years:1':'years','number:1':'number','fake_mris:1':'fake_mris',\\\n",
    "                   'comment:1':'comment'})"
   ]
  },
  {
   "cell_type": "code",
   "execution_count": 33,
   "metadata": {},
   "outputs": [],
   "source": [
    "# create categorical variables and rename codes\n",
    "survey.gender = survey.gender.astype('category')\n",
    "survey.gender = survey.gender.cat.rename_categories({-1:np.nan,1:'female',2:'male',3:'NA'})\n",
    "\n",
    "survey.experience = survey.experience.astype('category').cat.rename_categories({1.0:1, 2.0:2, 3.0:3, 4.0:4})\n",
    "survey.number     =     survey.number.astype('category').cat.rename_categories({1.0:1, 2.0:2, 3.0:3, 4.0:4, 5.0:5})"
   ]
  },
  {
   "cell_type": "code",
   "execution_count": 35,
   "metadata": {},
   "outputs": [
    {
     "data": {
      "text/html": [
       "<div>\n",
       "<style scoped>\n",
       "    .dataframe tbody tr th:only-of-type {\n",
       "        vertical-align: middle;\n",
       "    }\n",
       "\n",
       "    .dataframe tbody tr th {\n",
       "        vertical-align: top;\n",
       "    }\n",
       "\n",
       "    .dataframe thead th {\n",
       "        text-align: right;\n",
       "    }\n",
       "</style>\n",
       "<table border=\"1\" class=\"dataframe\">\n",
       "  <thead>\n",
       "    <tr style=\"text-align: right;\">\n",
       "      <th></th>\n",
       "      <th>age</th>\n",
       "      <th>gender</th>\n",
       "      <th>experience</th>\n",
       "      <th>years</th>\n",
       "      <th>number</th>\n",
       "      <th>fake_mris</th>\n",
       "      <th>comment</th>\n",
       "      <th>endcode</th>\n",
       "      <th>TIME_start</th>\n",
       "      <th>TIME_end</th>\n",
       "      <th>TIME_total</th>\n",
       "      <th>participant_nr</th>\n",
       "    </tr>\n",
       "    <tr>\n",
       "      <th>participant</th>\n",
       "      <th></th>\n",
       "      <th></th>\n",
       "      <th></th>\n",
       "      <th></th>\n",
       "      <th></th>\n",
       "      <th></th>\n",
       "      <th></th>\n",
       "      <th></th>\n",
       "      <th></th>\n",
       "      <th></th>\n",
       "      <th></th>\n",
       "      <th></th>\n",
       "    </tr>\n",
       "  </thead>\n",
       "  <tbody>\n",
       "    <tr>\n",
       "      <th>a0a68f29-b156-4c32-b7cd-ad00da8aa828</th>\n",
       "      <td>30.0</td>\n",
       "      <td>male</td>\n",
       "      <td>3</td>\n",
       "      <td>1.0</td>\n",
       "      <td>2</td>\n",
       "      <td>Fake_MRIs.2021-01-25-1231.data.a0a68f29-b156-4...</td>\n",
       "      <td>NaN</td>\n",
       "      <td>jskOWKVu</td>\n",
       "      <td>2021-01-25-12-10</td>\n",
       "      <td>2021-01-25-12-31</td>\n",
       "      <td>21.0</td>\n",
       "      <td>1</td>\n",
       "    </tr>\n",
       "    <tr>\n",
       "      <th>7dc9bac4-68c7-43cf-a0b2-07574317cdf2</th>\n",
       "      <td>18.0</td>\n",
       "      <td>male</td>\n",
       "      <td>3</td>\n",
       "      <td>9.0</td>\n",
       "      <td>2</td>\n",
       "      <td>Fake_MRIs.2020-11-27-1628.data.7dc9bac4-68c7-4...</td>\n",
       "      <td>I did this experiment in MacBook with a high-r...</td>\n",
       "      <td>dBLnBkPe</td>\n",
       "      <td>2020-11-27-16-09</td>\n",
       "      <td>2020-11-27-16-30</td>\n",
       "      <td>21.0</td>\n",
       "      <td>2</td>\n",
       "    </tr>\n",
       "    <tr>\n",
       "      <th>f8a33b1f-a088-4ee0-8106-7a5107fd26a9</th>\n",
       "      <td>31.0</td>\n",
       "      <td>male</td>\n",
       "      <td>3</td>\n",
       "      <td>9.0</td>\n",
       "      <td>2</td>\n",
       "      <td>Fake_MRIs.2020-11-27-1700.data.f8a33b1f-a088-4...</td>\n",
       "      <td>Are there a few real images that are deliberat...</td>\n",
       "      <td>6nKNQmUJ</td>\n",
       "      <td>2020-11-27-16-38</td>\n",
       "      <td>2020-11-27-17-03</td>\n",
       "      <td>25.0</td>\n",
       "      <td>3</td>\n",
       "    </tr>\n",
       "    <tr>\n",
       "      <th>307c86b7-d890-426a-8040-8968f929240d</th>\n",
       "      <td>38.0</td>\n",
       "      <td>male</td>\n",
       "      <td>3</td>\n",
       "      <td>8.0</td>\n",
       "      <td>2</td>\n",
       "      <td>Fake_MRIs.2020-12-15-1252.data.307c86b7-d890-4...</td>\n",
       "      <td>The training set did not seem to have real pic...</td>\n",
       "      <td>Jv6RrGpC</td>\n",
       "      <td>2020-12-15-12-32</td>\n",
       "      <td>2020-12-15-12-53</td>\n",
       "      <td>21.0</td>\n",
       "      <td>4</td>\n",
       "    </tr>\n",
       "    <tr>\n",
       "      <th>13fef1d4-d971-4fbb-b820-73cb947ccb96</th>\n",
       "      <td>36.0</td>\n",
       "      <td>male</td>\n",
       "      <td>3</td>\n",
       "      <td>6.0</td>\n",
       "      <td>2</td>\n",
       "      <td>Fake_MRIs.2020-10-31-1608.data.13fef1d4-d971-4...</td>\n",
       "      <td>NaN</td>\n",
       "      <td>uNN5nt2D</td>\n",
       "      <td>2020-10-31-15-52</td>\n",
       "      <td>2020-10-31-16-08</td>\n",
       "      <td>16.0</td>\n",
       "      <td>5</td>\n",
       "    </tr>\n",
       "  </tbody>\n",
       "</table>\n",
       "</div>"
      ],
      "text/plain": [
       "                                       age gender experience  years number  \\\n",
       "participant                                                                  \n",
       "a0a68f29-b156-4c32-b7cd-ad00da8aa828  30.0   male          3    1.0      2   \n",
       "7dc9bac4-68c7-43cf-a0b2-07574317cdf2  18.0   male          3    9.0      2   \n",
       "f8a33b1f-a088-4ee0-8106-7a5107fd26a9  31.0   male          3    9.0      2   \n",
       "307c86b7-d890-426a-8040-8968f929240d  38.0   male          3    8.0      2   \n",
       "13fef1d4-d971-4fbb-b820-73cb947ccb96  36.0   male          3    6.0      2   \n",
       "\n",
       "                                                                              fake_mris  \\\n",
       "participant                                                                               \n",
       "a0a68f29-b156-4c32-b7cd-ad00da8aa828  Fake_MRIs.2021-01-25-1231.data.a0a68f29-b156-4...   \n",
       "7dc9bac4-68c7-43cf-a0b2-07574317cdf2  Fake_MRIs.2020-11-27-1628.data.7dc9bac4-68c7-4...   \n",
       "f8a33b1f-a088-4ee0-8106-7a5107fd26a9  Fake_MRIs.2020-11-27-1700.data.f8a33b1f-a088-4...   \n",
       "307c86b7-d890-426a-8040-8968f929240d  Fake_MRIs.2020-12-15-1252.data.307c86b7-d890-4...   \n",
       "13fef1d4-d971-4fbb-b820-73cb947ccb96  Fake_MRIs.2020-10-31-1608.data.13fef1d4-d971-4...   \n",
       "\n",
       "                                                                                comment  \\\n",
       "participant                                                                               \n",
       "a0a68f29-b156-4c32-b7cd-ad00da8aa828                                                NaN   \n",
       "7dc9bac4-68c7-43cf-a0b2-07574317cdf2  I did this experiment in MacBook with a high-r...   \n",
       "f8a33b1f-a088-4ee0-8106-7a5107fd26a9  Are there a few real images that are deliberat...   \n",
       "307c86b7-d890-426a-8040-8968f929240d  The training set did not seem to have real pic...   \n",
       "13fef1d4-d971-4fbb-b820-73cb947ccb96                                                NaN   \n",
       "\n",
       "                                       endcode        TIME_start  \\\n",
       "participant                                                        \n",
       "a0a68f29-b156-4c32-b7cd-ad00da8aa828  jskOWKVu  2021-01-25-12-10   \n",
       "7dc9bac4-68c7-43cf-a0b2-07574317cdf2  dBLnBkPe  2020-11-27-16-09   \n",
       "f8a33b1f-a088-4ee0-8106-7a5107fd26a9  6nKNQmUJ  2020-11-27-16-38   \n",
       "307c86b7-d890-426a-8040-8968f929240d  Jv6RrGpC  2020-12-15-12-32   \n",
       "13fef1d4-d971-4fbb-b820-73cb947ccb96  uNN5nt2D  2020-10-31-15-52   \n",
       "\n",
       "                                              TIME_end  TIME_total  \\\n",
       "participant                                                          \n",
       "a0a68f29-b156-4c32-b7cd-ad00da8aa828  2021-01-25-12-31        21.0   \n",
       "7dc9bac4-68c7-43cf-a0b2-07574317cdf2  2020-11-27-16-30        21.0   \n",
       "f8a33b1f-a088-4ee0-8106-7a5107fd26a9  2020-11-27-17-03        25.0   \n",
       "307c86b7-d890-426a-8040-8968f929240d  2020-12-15-12-53        21.0   \n",
       "13fef1d4-d971-4fbb-b820-73cb947ccb96  2020-10-31-16-08        16.0   \n",
       "\n",
       "                                      participant_nr  \n",
       "participant                                           \n",
       "a0a68f29-b156-4c32-b7cd-ad00da8aa828               1  \n",
       "7dc9bac4-68c7-43cf-a0b2-07574317cdf2               2  \n",
       "f8a33b1f-a088-4ee0-8106-7a5107fd26a9               3  \n",
       "307c86b7-d890-426a-8040-8968f929240d               4  \n",
       "13fef1d4-d971-4fbb-b820-73cb947ccb96               5  "
      ]
     },
     "execution_count": 35,
     "metadata": {},
     "output_type": "execute_result"
    }
   ],
   "source": [
    "survey.head(5)"
   ]
  },
  {
   "cell_type": "code",
   "execution_count": 36,
   "metadata": {},
   "outputs": [
    {
     "name": "stderr",
     "output_type": "stream",
     "text": [
      "/Users/matthiastreder/anaconda3/envs/tensorflow/lib/python3.6/site-packages/seaborn/distributions.py:2056: FutureWarning: The `axis` variable is no longer used and will be removed. Instead, assign variables directly to `x` or `y`.\n",
      "  warnings.warn(msg, FutureWarning)\n"
     ]
    },
    {
     "data": {
      "text/plain": [
       "count    26.000000\n",
       "mean     33.115385\n",
       "std       8.482108\n",
       "min      18.000000\n",
       "25%      28.250000\n",
       "50%      33.500000\n",
       "75%      36.000000\n",
       "max      62.000000\n",
       "Name: age, dtype: float64"
      ]
     },
     "execution_count": 36,
     "metadata": {},
     "output_type": "execute_result"
    },
    {
     "data": {
      "image/png": "[encoded data removed]",
      "text/plain": [
       "<Figure size 432x288 with 1 Axes>"
      ]
     },
     "metadata": {
      "needs_background": "light"
     },
     "output_type": "display_data"
    }
   ],
   "source": [
    "# AGE\n",
    "ax = sns.distplot(survey['age'], rug=True)\n",
    "plt.title('Age distribution')\n",
    "survey['age'].describe()"
   ]
  },
  {
   "cell_type": "code",
   "execution_count": 37,
   "metadata": {},
   "outputs": [
    {
     "name": "stdout",
     "output_type": "stream",
     "text": [
      "Number participants in their 30s: 16\n"
     ]
    }
   ],
   "source": [
    "print('Number participants in their 30s:', survey[(survey['age']>=30) & (survey['age']<40)].shape[0])"
   ]
  },
  {
   "cell_type": "code",
   "execution_count": 38,
   "metadata": {},
   "outputs": [
    {
     "name": "stdout",
     "output_type": "stream",
     "text": [
      "female = 10 \n",
      "male = 16\n"
     ]
    },
    {
     "data": {
      "image/png": "[encoded data removed]",
      "text/plain": [
       "<Figure size 432x288 with 1 Axes>"
      ]
     },
     "metadata": {
      "needs_background": "light"
     },
     "output_type": "display_data"
    }
   ],
   "source": [
    "# GENDER\n",
    "ax = sns.countplot(x=\"gender\", data=survey)\n",
    "plt.title('Gender')\n",
    "print('female =', sum(survey['gender']=='female'), '\\nmale =', sum(survey['gender']=='male'))"
   ]
  },
  {
   "cell_type": "code",
   "execution_count": 39,
   "metadata": {},
   "outputs": [
    {
     "name": "stdout",
     "output_type": "stream",
     "text": [
      "Count\n",
      " experience\n",
      "1     1\n",
      "2     3\n",
      "3    13\n",
      "4     9\n",
      "dtype: int64\n",
      "\n",
      "Percentage\n",
      " experience\n",
      "1     3.846154\n",
      "2    11.538462\n",
      "3    50.000000\n",
      "4    34.615385\n",
      "dtype: float64\n"
     ]
    }
   ],
   "source": [
    "# EXPERIENCE\n",
    "print('Count\\n', survey.groupby('experience').size())\n",
    "print('\\nPercentage\\n', 100*survey.groupby('experience').size()/survey.shape[0])\n"
   ]
  },
  {
   "cell_type": "code",
   "execution_count": 40,
   "metadata": {},
   "outputs": [
    {
     "name": "stdout",
     "output_type": "stream",
     "text": [
      "median: 3.0\n"
     ]
    },
    {
     "name": "stderr",
     "output_type": "stream",
     "text": [
      "/Users/matthiastreder/anaconda3/envs/tensorflow/lib/python3.6/site-packages/seaborn/distributions.py:2557: FutureWarning: `distplot` is a deprecated function and will be removed in a future version. Please adapt your code to use either `displot` (a figure-level function with similar flexibility) or `histplot` (an axes-level function for histograms).\n",
      "  warnings.warn(msg, FutureWarning)\n",
      "/Users/matthiastreder/anaconda3/envs/tensorflow/lib/python3.6/site-packages/seaborn/distributions.py:2056: FutureWarning: The `axis` variable is no longer used and will be removed. Instead, assign variables directly to `x` or `y`.\n",
      "  warnings.warn(msg, FutureWarning)\n"
     ]
    },
    {
     "data": {
      "text/plain": [
       "count    26.000000\n",
       "mean      6.115385\n",
       "std       5.339115\n",
       "min       1.000000\n",
       "25%       2.000000\n",
       "50%       3.000000\n",
       "75%      10.500000\n",
       "max      17.000000\n",
       "Name: years, dtype: float64"
      ]
     },
     "execution_count": 40,
     "metadata": {},
     "output_type": "execute_result"
    },
    {
     "data": {
      "image/png": "[encoded data removed]",
      "text/plain": [
       "<Figure size 432x288 with 1 Axes>"
      ]
     },
     "metadata": {
      "needs_background": "light"
     },
     "output_type": "display_data"
    }
   ],
   "source": [
    "# YEARS\n",
    "sns.distplot(survey['years'], rug=True) #, bins=range(10), kde_kws={'clip': (0.0, 20.0)})\n",
    "plt.title('Years experience')\n",
    "print('median:', survey['years'].median())\n",
    "survey['years'].describe()\n"
   ]
  },
  {
   "cell_type": "code",
   "execution_count": 41,
   "metadata": {},
   "outputs": [
    {
     "data": {
      "text/plain": [
       "number\n",
       "1     3\n",
       "2    20\n",
       "3     2\n",
       "4     1\n",
       "dtype: int64"
      ]
     },
     "execution_count": 41,
     "metadata": {},
     "output_type": "execute_result"
    }
   ],
   "source": [
    "# HOW MANY MRIs\n",
    "survey.groupby('number').size()\n",
    "\n",
    "# ax = sns.countplot(x=\"number\", data=survey)\n",
    "# plt.title('How many MRIs')\n",
    "# plt.grid()"
   ]
  },
  {
   "cell_type": "markdown",
   "metadata": {},
   "source": [
    "------\n",
    "\n",
    "<a id=\"experiment\"></a>\n",
    "# Combine experiment data\n",
    "[back to top](#top)\n",
    "\n",
    "Collects data from all participants and combines into a single dataframe."
   ]
  },
  {
   "cell_type": "code",
   "execution_count": 10,
   "metadata": {},
   "outputs": [
    {
     "name": "stdout",
     "output_type": "stream",
     "text": [
      "Processing 0 data files\n"
     ]
    }
   ],
   "source": [
    "print('Processing', len(files), 'data files')\n",
    "\n",
    "col_names = ['blockorder', 'blockname', 'blocknumber', 'task', 'trialcount', 'tablerow', 'key', 'status', \n",
    "             'RT', 'target_button', 'batch', 'timeout', 'ITI',\n",
    "             'rate', 'rate_RT', 'rate_status']"
   ]
  },
  {
   "cell_type": "code",
   "execution_count": 43,
   "metadata": {},
   "outputs": [],
   "source": [
    "# concatenate data from all participants\n",
    "\n",
    "# df = pd.read_csv(files[0], header=None, names = col_names, delimiter=' ')\n",
    "\n",
    "dfs = []\n",
    "for ix, file in enumerate(files):\n",
    "    df = pd.read_csv(file, header=None, names = col_names, delimiter=' ')\n",
    "    df['participant'] = ix+1\n",
    "    df['correct'] = 2 - df['status']  # correct will code for correct(=1), incorrect(=0) response\n",
    "    df['real'] = 2 - df['key']        # real will code for real(=1), fake(=0) image\n",
    "    df['rate'] = 6 - df['rate']       # subjective rating from 1 (very fake) to 5 (very real)\n",
    "    df['experience'] = survey[survey.participant_nr == ix + 1]['experience'][0] # save experience number for group analysis\n",
    "    \n",
    "    dfs.append(df)\n",
    "#     print(f'Participant {ix+1} RT: {df.RT.median():2.2f}')\n",
    "\n",
    "df = pd.concat(dfs, axis=0)"
   ]
  },
  {
   "cell_type": "code",
   "execution_count": 44,
   "metadata": {},
   "outputs": [],
   "source": [
    "# reorder/rename batch \n",
    "b = df.batch.astype('category')\n",
    "b = b.cat.reorder_categories([1,2,3,4,5,0]).cat.rename_categories({0:'real', 1:344, 2:1055, 3:7954, 4:24440, 5:60000})\n",
    "df.batch = b"
   ]
  },
  {
   "cell_type": "code",
   "execution_count": 50,
   "metadata": {},
   "outputs": [],
   "source": [
    "# save data\n",
    "with open(results_dir + f'psytoolkit_all_participants{len(files)}.pickle', 'wb') as f:\n",
    "    pickle.dump(df, f, protocol=pickle.HIGHEST_PROTOCOL)\n",
    "    \n",
    "# also export as csv\n",
    "df.to_csv(results_dir + f'psytoolkit_all_participants{len(files)}.csv')"
   ]
  },
  {
   "cell_type": "markdown",
   "metadata": {},
   "source": [
    "<a id=\"detection_task\"></a>\n",
    "# Detection task\n",
    "[back to top](#top)"
   ]
  },
  {
   "cell_type": "code",
   "execution_count": 31,
   "metadata": {},
   "outputs": [],
   "source": [
    "# Load data (deserialize)\n",
    "with open(results_dir + f'psytoolkit_all_participants26.pickle', 'rb') as f:\n",
    "    detection_task = pickle.load(f)"
   ]
  },
  {
   "cell_type": "code",
   "execution_count": 32,
   "metadata": {},
   "outputs": [
    {
     "data": {
      "text/html": [
       "<div>\n",
       "<style scoped>\n",
       "    .dataframe tbody tr th:only-of-type {\n",
       "        vertical-align: middle;\n",
       "    }\n",
       "\n",
       "    .dataframe tbody tr th {\n",
       "        vertical-align: top;\n",
       "    }\n",
       "\n",
       "    .dataframe thead th {\n",
       "        text-align: right;\n",
       "    }\n",
       "</style>\n",
       "<table border=\"1\" class=\"dataframe\">\n",
       "  <thead>\n",
       "    <tr style=\"text-align: right;\">\n",
       "      <th></th>\n",
       "      <th>blockorder</th>\n",
       "      <th>blockname</th>\n",
       "      <th>blocknumber</th>\n",
       "      <th>task</th>\n",
       "      <th>trialcount</th>\n",
       "      <th>tablerow</th>\n",
       "      <th>key</th>\n",
       "      <th>status</th>\n",
       "      <th>RT</th>\n",
       "      <th>target_button</th>\n",
       "      <th>batch</th>\n",
       "      <th>timeout</th>\n",
       "      <th>ITI</th>\n",
       "      <th>rate</th>\n",
       "      <th>rate_RT</th>\n",
       "      <th>rate_status</th>\n",
       "      <th>participant</th>\n",
       "      <th>correct</th>\n",
       "      <th>real</th>\n",
       "      <th>experience</th>\n",
       "    </tr>\n",
       "  </thead>\n",
       "  <tbody>\n",
       "    <tr>\n",
       "      <th>30</th>\n",
       "      <td>1</td>\n",
       "      <td>MAIN_EXPERIMENT_BLOCK</td>\n",
       "      <td>3</td>\n",
       "      <td>MAIN_EXPERIMENT_TASK</td>\n",
       "      <td>31</td>\n",
       "      <td>91</td>\n",
       "      <td>2</td>\n",
       "      <td>1</td>\n",
       "      <td>4101</td>\n",
       "      <td>2</td>\n",
       "      <td>7954</td>\n",
       "      <td>0</td>\n",
       "      <td>478</td>\n",
       "      <td>6</td>\n",
       "      <td>0</td>\n",
       "      <td>0</td>\n",
       "      <td>1</td>\n",
       "      <td>1</td>\n",
       "      <td>0</td>\n",
       "      <td>3</td>\n",
       "    </tr>\n",
       "    <tr>\n",
       "      <th>31</th>\n",
       "      <td>1</td>\n",
       "      <td>MAIN_EXPERIMENT_BLOCK</td>\n",
       "      <td>3</td>\n",
       "      <td>MAIN_EXPERIMENT_TASK</td>\n",
       "      <td>32</td>\n",
       "      <td>138</td>\n",
       "      <td>1</td>\n",
       "      <td>2</td>\n",
       "      <td>5098</td>\n",
       "      <td>2</td>\n",
       "      <td>60000</td>\n",
       "      <td>0</td>\n",
       "      <td>432</td>\n",
       "      <td>6</td>\n",
       "      <td>0</td>\n",
       "      <td>0</td>\n",
       "      <td>1</td>\n",
       "      <td>0</td>\n",
       "      <td>1</td>\n",
       "      <td>3</td>\n",
       "    </tr>\n",
       "    <tr>\n",
       "      <th>32</th>\n",
       "      <td>1</td>\n",
       "      <td>MAIN_EXPERIMENT_BLOCK</td>\n",
       "      <td>3</td>\n",
       "      <td>MAIN_EXPERIMENT_TASK</td>\n",
       "      <td>33</td>\n",
       "      <td>77</td>\n",
       "      <td>1</td>\n",
       "      <td>2</td>\n",
       "      <td>2288</td>\n",
       "      <td>2</td>\n",
       "      <td>7954</td>\n",
       "      <td>0</td>\n",
       "      <td>529</td>\n",
       "      <td>6</td>\n",
       "      <td>0</td>\n",
       "      <td>0</td>\n",
       "      <td>1</td>\n",
       "      <td>0</td>\n",
       "      <td>1</td>\n",
       "      <td>3</td>\n",
       "    </tr>\n",
       "  </tbody>\n",
       "</table>\n",
       "</div>"
      ],
      "text/plain": [
       "    blockorder              blockname  blocknumber                  task  \\\n",
       "30           1  MAIN_EXPERIMENT_BLOCK            3  MAIN_EXPERIMENT_TASK   \n",
       "31           1  MAIN_EXPERIMENT_BLOCK            3  MAIN_EXPERIMENT_TASK   \n",
       "32           1  MAIN_EXPERIMENT_BLOCK            3  MAIN_EXPERIMENT_TASK   \n",
       "\n",
       "    trialcount  tablerow  key  status    RT  target_button  batch  timeout  \\\n",
       "30          31        91    2       1  4101              2   7954        0   \n",
       "31          32       138    1       2  5098              2  60000        0   \n",
       "32          33        77    1       2  2288              2   7954        0   \n",
       "\n",
       "    ITI  rate  rate_RT  rate_status  participant  correct  real  experience  \n",
       "30  478     6        0            0            1        1     0           3  \n",
       "31  432     6        0            0            1        0     1           3  \n",
       "32  529     6        0            0            1        0     1           3  "
      ]
     },
     "execution_count": 32,
     "metadata": {},
     "output_type": "execute_result"
    }
   ],
   "source": [
    "# detection_task = pd.read_csv(results_dir + f'all_participants{len(files)}.csv') # , header=None, names = col_names, delimiter=' ')\n",
    "detection_task = detection_task[detection_task['blockname'] == 'MAIN_EXPERIMENT_BLOCK']\n",
    "detection_task.head(3)"
   ]
  },
  {
   "cell_type": "code",
   "execution_count": 22,
   "metadata": {},
   "outputs": [
    {
     "name": "stdout",
     "output_type": "stream",
     "text": [
      "1 participants have >30 timeouts, removing them\n",
      "Removing 16 trials with RT >= 20000\n"
     ]
    },
    {
     "data": {
      "text/plain": [
       "(5984, 20)"
      ]
     },
     "execution_count": 22,
     "metadata": {},
     "output_type": "execute_result"
    }
   ],
   "source": [
    "# clean RTs\n",
    "detection_task = clean_RT_data(detection_task, 'RT', low_RT=150, high_RT=20000, n_timeouts=30)\n",
    "detection_task.shape"
   ]
  },
  {
   "cell_type": "code",
   "execution_count": 23,
   "metadata": {},
   "outputs": [
    {
     "data": {
      "text/html": [
       "<div>\n",
       "<style scoped>\n",
       "    .dataframe tbody tr th:only-of-type {\n",
       "        vertical-align: middle;\n",
       "    }\n",
       "\n",
       "    .dataframe tbody tr th {\n",
       "        vertical-align: top;\n",
       "    }\n",
       "\n",
       "    .dataframe thead th {\n",
       "        text-align: right;\n",
       "    }\n",
       "</style>\n",
       "<table border=\"1\" class=\"dataframe\">\n",
       "  <thead>\n",
       "    <tr style=\"text-align: right;\">\n",
       "      <th></th>\n",
       "      <th>participant</th>\n",
       "      <th>batch</th>\n",
       "      <th>RT</th>\n",
       "      <th>experience</th>\n",
       "    </tr>\n",
       "  </thead>\n",
       "  <tbody>\n",
       "    <tr>\n",
       "      <th>0</th>\n",
       "      <td>1</td>\n",
       "      <td>344</td>\n",
       "      <td>1251.366667</td>\n",
       "      <td>3.0</td>\n",
       "    </tr>\n",
       "    <tr>\n",
       "      <th>1</th>\n",
       "      <td>1</td>\n",
       "      <td>1055</td>\n",
       "      <td>1168.310345</td>\n",
       "      <td>3.0</td>\n",
       "    </tr>\n",
       "    <tr>\n",
       "      <th>2</th>\n",
       "      <td>1</td>\n",
       "      <td>7954</td>\n",
       "      <td>1583.133333</td>\n",
       "      <td>3.0</td>\n",
       "    </tr>\n",
       "  </tbody>\n",
       "</table>\n",
       "</div>"
      ],
      "text/plain": [
       "   participant batch           RT  experience\n",
       "0            1   344  1251.366667         3.0\n",
       "1            1  1055  1168.310345         3.0\n",
       "2            1  7954  1583.133333         3.0"
      ]
     },
     "execution_count": 23,
     "metadata": {},
     "output_type": "execute_result"
    }
   ],
   "source": [
    "# calculate trimmed average\n",
    "RT_av = detection_task.groupby(['participant','batch'])[['RT', 'experience']].\\\n",
    "aggregate(lambda x: trim_mean_upper(x, 0.05)).reset_index()\n",
    "RT_av.head(3)"
   ]
  },
  {
   "cell_type": "code",
   "execution_count": 24,
   "metadata": {},
   "outputs": [
    {
     "data": {
      "text/html": [
       "<div>\n",
       "<style scoped>\n",
       "    .dataframe tbody tr th:only-of-type {\n",
       "        vertical-align: middle;\n",
       "    }\n",
       "\n",
       "    .dataframe tbody tr th {\n",
       "        vertical-align: top;\n",
       "    }\n",
       "\n",
       "    .dataframe thead th {\n",
       "        text-align: right;\n",
       "    }\n",
       "</style>\n",
       "<table border=\"1\" class=\"dataframe\">\n",
       "  <thead>\n",
       "    <tr style=\"text-align: right;\">\n",
       "      <th></th>\n",
       "      <th>participant</th>\n",
       "      <th>batch</th>\n",
       "      <th>real</th>\n",
       "      <th>correct</th>\n",
       "      <th>experience</th>\n",
       "    </tr>\n",
       "  </thead>\n",
       "  <tbody>\n",
       "    <tr>\n",
       "      <th>0</th>\n",
       "      <td>1</td>\n",
       "      <td>344</td>\n",
       "      <td>43.750000</td>\n",
       "      <td>56.250000</td>\n",
       "      <td>3.0</td>\n",
       "    </tr>\n",
       "    <tr>\n",
       "      <th>1</th>\n",
       "      <td>1</td>\n",
       "      <td>1055</td>\n",
       "      <td>25.806452</td>\n",
       "      <td>74.193548</td>\n",
       "      <td>3.0</td>\n",
       "    </tr>\n",
       "    <tr>\n",
       "      <th>2</th>\n",
       "      <td>1</td>\n",
       "      <td>7954</td>\n",
       "      <td>25.000000</td>\n",
       "      <td>75.000000</td>\n",
       "      <td>3.0</td>\n",
       "    </tr>\n",
       "  </tbody>\n",
       "</table>\n",
       "</div>"
      ],
      "text/plain": [
       "   participant batch       real    correct  experience\n",
       "0            1   344  43.750000  56.250000         3.0\n",
       "1            1  1055  25.806452  74.193548         3.0\n",
       "2            1  7954  25.000000  75.000000         3.0"
      ]
     },
     "execution_count": 24,
     "metadata": {},
     "output_type": "execute_result"
    }
   ],
   "source": [
    "# calculate average response\n",
    "button_av = detection_task.groupby(['participant','batch'])[['real', 'correct', 'experience']].mean().reset_index()\n",
    "button_av['real'] *= 100\n",
    "button_av['correct'] *= 100\n",
    "button_av.head(3)"
   ]
  },
  {
   "cell_type": "code",
   "execution_count": 25,
   "metadata": {
    "scrolled": true
   },
   "outputs": [
    {
     "name": "stdout",
     "output_type": "stream",
     "text": [
      "Batch 60000 vs Real: RanksumsResult(statistic=-4.76339967571358, pvalue=1.903582729938158e-06)\n"
     ]
    },
    {
     "data": {
      "image/png": "[encoded data removed]",
      "text/plain": [
       "<Figure size 432x288 with 1 Axes>"
      ]
     },
     "metadata": {},
     "output_type": "display_data"
    }
   ],
   "source": [
    "with sns.plotting_context(\"paper\", font_scale=2):  # notebook paper slides\n",
    "    sns.set_style(\"whitegrid\")\n",
    "    ax = sns.barplot(x='batch', y='real', palette=\"magma\", data=button_av)\n",
    "    plt.ylabel('Real [%]')\n",
    "    plt.title('\\'Real\\' responses')\n",
    "    sns.despine(ax=ax, offset=3)\n",
    "    plt.savefig('behavioural_real.png', dpi=200, bbox_inches='tight')\n",
    "    \n",
    "print('Batch 60000 vs Real:', stats.ranksums(button_av[button_av.batch==60000]['real'],button_av[button_av.batch=='real']['real']))"
   ]
  },
  {
   "cell_type": "code",
   "execution_count": null,
   "metadata": {},
   "outputs": [],
   "source": [
    "with sns.plotting_context(\"paper\", font_scale=2):  # notebook paper slides\n",
    "    sns.set_style(\"whitegrid\")\n",
    "    ax = sns.barplot(x='batch', y='correct', palette=\"magma\", data=button_av)\n",
    "    plt.ylabel('Correct [%]')\n",
    "    plt.title('Correct responses')\n",
    "    sns.despine(ax=ax, offset=3)\n",
    "    plt.savefig('behavioural_correct.png', dpi=200, bbox_inches='tight')\n",
    "    \n",
    "print('Batch 60000 vs Real:', stats.ranksums(button_av[button_av.batch==60000]['correct'],button_av[button_av.batch=='real']['correct']))"
   ]
  },
  {
   "cell_type": "code",
   "execution_count": null,
   "metadata": {
    "scrolled": true
   },
   "outputs": [],
   "source": [
    "# palettes: crest magma rocket rocket_r viridis\n",
    "with sns.plotting_context(\"paper\", font_scale=2):  # notebook paper slides\n",
    "    sns.set_style(\"whitegrid\")\n",
    "    \n",
    "    ax = sns.barplot(x='batch', y='RT', palette=\"viridis\", data=RT_av)\n",
    "    plt.title('Reaction times')\n",
    "    plt.ylabel('Reaction time [ms]')\n",
    "    sns.despine(ax=ax, offset=5)\n",
    "    plt.savefig('behavioural_RT.png', dpi=200, bbox_inches='tight')"
   ]
  },
  {
   "cell_type": "markdown",
   "metadata": {},
   "source": [
    "<a id=\"detection_task_stats\"></a>\n",
    "## Statistical analysis\n",
    "[back to top](#top)"
   ]
  },
  {
   "cell_type": "code",
   "execution_count": null,
   "metadata": {},
   "outputs": [],
   "source": [
    "# restrict to data without 'real' batch\n",
    "stat_button = button_av[button_av['batch']!='real']\n",
    "stat_RT = RT_av[RT_av['batch']!='real']"
   ]
  },
  {
   "cell_type": "code",
   "execution_count": null,
   "metadata": {},
   "outputs": [],
   "source": [
    "stat_button.loc[:,'log_batch'] = np.log(stat_button.batch.astype('float'))\n",
    "stat_RT.loc[:, 'log_batch'] = np.log(stat_RT.batch.astype('float'))"
   ]
  },
  {
   "cell_type": "code",
   "execution_count": null,
   "metadata": {},
   "outputs": [],
   "source": [
    "# [DO NOT USE, USE linear mixed model instead]\n",
    "# linear regression \n",
    "fit_button = sm.OLS.from_formula('real ~ log_batch', data=stat_button).fit()\n",
    "fit_RT = sm.OLS.from_formula('RT ~ log_batch', data=stat_RT).fit()\n",
    "\n",
    "print(fit_button.summary())\n",
    "print(fit_RT.summary())"
   ]
  },
  {
   "cell_type": "code",
   "execution_count": null,
   "metadata": {},
   "outputs": [],
   "source": [
    "# linear mixed model\n",
    "md = smf.mixedlm(\"RT ~ log_batch\", stat_RT, groups=stat_RT[\"participant\"]).fit()\n",
    "print('REACTION TIME:')\n",
    "print(md.summary())\n",
    "\n",
    "md = smf.mixedlm(\"real ~ log_batch\", stat_button, groups=stat_button[\"participant\"]).fit()\n",
    "print('REAL response:')\n",
    "print(md.summary())\n",
    "\n",
    "md = smf.mixedlm(\"correct ~ log_batch\", stat_button, groups=stat_button[\"participant\"]).fit()\n",
    "print('CORRECT response:')\n",
    "print(md.summary())"
   ]
  },
  {
   "cell_type": "code",
   "execution_count": null,
   "metadata": {},
   "outputs": [],
   "source": [
    "# Wilcoxon signed-rank tests for batch 60000 vs real\n",
    "print('RT:', stats.wilcoxon(RT_av[RT_av.batch==60000].RT, RT_av[RT_av.batch=='real'].RT))\n",
    "print('Real:', stats.wilcoxon(button_av[button_av.batch==60000].real, button_av[button_av.batch=='real'].real))\n",
    "print('Correct:', stats.wilcoxon(button_av[button_av.batch==60000].correct, button_av[button_av.batch=='real'].correct))"
   ]
  },
  {
   "cell_type": "markdown",
   "metadata": {},
   "source": [
    "<a id=\"detection_task_subgroup\"></a>\n",
    "## Detection task subgroup analysis\n",
    "[back to top](#top)\n",
    "\n",
    "Analyze the experience = 3 and 4 groups separately. Is there a group difference in RT, correct or real score?\n",
    "\n"
   ]
  },
  {
   "cell_type": "code",
   "execution_count": null,
   "metadata": {
    "scrolled": true
   },
   "outputs": [],
   "source": [
    "# Wilcoxon tests for group difference between the two experience groups (3 and 4)\n",
    "# The test is repeated for every batch separately\n",
    "RT_av2 = RT_av[RT_av.experience>=3]\n",
    "wilcoxon_ranksum(RT_av2['RT'], RT_av2['experience'], RT_av2['batch'])\n",
    "\n",
    "button_av2 = button_av[button_av.experience>=3]\n",
    "wilcoxon_ranksum(button_av2['correct'], button_av2['experience'], button_av2['batch'])\n",
    "\n",
    "button_av2 = button_av[button_av.experience>=3]\n",
    "wilcoxon_ranksum(button_av2['real'], button_av2['experience'], button_av2['batch'])"
   ]
  },
  {
   "cell_type": "code",
   "execution_count": null,
   "metadata": {},
   "outputs": [],
   "source": [
    "with sns.plotting_context(\"paper\", font_scale=2):  # notebook paper slides\n",
    "    sns.set_style(\"whitegrid\")\n",
    "    ax = sns.barplot(x='batch', y='real', hue='experience', palette=\"magma\", data=button_av[button_av.experience>=3])\n",
    "    plt.ylabel('Real [%]')\n",
    "    plt.title('\\'Real\\' responses')\n",
    "    sns.despine(ax=ax, offset=3)"
   ]
  },
  {
   "cell_type": "code",
   "execution_count": null,
   "metadata": {},
   "outputs": [],
   "source": [
    "with sns.plotting_context(\"paper\", font_scale=2):  # notebook paper slides\n",
    "    sns.set_style(\"whitegrid\")\n",
    "    ax = sns.barplot(x='batch', y='correct', hue='experience', palette=\"magma\", data=button_av[button_av.experience>=3])\n",
    "    plt.ylabel('Correct [%]')\n",
    "    plt.title('Correct responses')\n",
    "    sns.despine(ax=ax, offset=3)"
   ]
  },
  {
   "cell_type": "code",
   "execution_count": null,
   "metadata": {},
   "outputs": [],
   "source": [
    "# palettes: crest magma rocket rocket_r viridis\n",
    "with sns.plotting_context(\"paper\", font_scale=2):  # notebook paper slides\n",
    "    sns.set_style(\"whitegrid\")\n",
    "    \n",
    "    ax = sns.barplot(x='batch', y='RT', hue='experience', palette=\"viridis\", data=RT_av[RT_av.experience>=3])\n",
    "    plt.title('Reaction times')\n",
    "    plt.ylabel('Reaction time [ms]')\n",
    "    sns.despine(ax=ax, offset=5)"
   ]
  },
  {
   "cell_type": "markdown",
   "metadata": {},
   "source": [
    "-----\n",
    "\n",
    "<a id=\"rating_task\"></a>\n",
    "# Rating task\n",
    "[back to top](#top)"
   ]
  },
  {
   "cell_type": "code",
   "execution_count": 21,
   "metadata": {},
   "outputs": [],
   "source": [
    "# Load data (deserialize)\n",
    "with open(results_dir + f'psytoolkit_all_participants{len(files)}.pickle', 'rb') as f:\n",
    "    rating_task = pickle.load(f)\n",
    "    \n",
    "rate_labels = ('very\\nfake', 'relatively\\nfake', 'neutral', 'relatively\\nreal', 'very\\nreal')"
   ]
  },
  {
   "cell_type": "code",
   "execution_count": 22,
   "metadata": {},
   "outputs": [
    {
     "data": {
      "text/html": [
       "<div>\n",
       "<style scoped>\n",
       "    .dataframe tbody tr th:only-of-type {\n",
       "        vertical-align: middle;\n",
       "    }\n",
       "\n",
       "    .dataframe tbody tr th {\n",
       "        vertical-align: top;\n",
       "    }\n",
       "\n",
       "    .dataframe thead th {\n",
       "        text-align: right;\n",
       "    }\n",
       "</style>\n",
       "<table border=\"1\" class=\"dataframe\">\n",
       "  <thead>\n",
       "    <tr style=\"text-align: right;\">\n",
       "      <th></th>\n",
       "      <th>blockorder</th>\n",
       "      <th>blockname</th>\n",
       "      <th>blocknumber</th>\n",
       "      <th>task</th>\n",
       "      <th>trialcount</th>\n",
       "      <th>tablerow</th>\n",
       "      <th>key</th>\n",
       "      <th>status</th>\n",
       "      <th>RT</th>\n",
       "      <th>target_button</th>\n",
       "      <th>batch</th>\n",
       "      <th>timeout</th>\n",
       "      <th>ITI</th>\n",
       "      <th>rate</th>\n",
       "      <th>rate_RT</th>\n",
       "      <th>rate_status</th>\n",
       "      <th>participant</th>\n",
       "      <th>correct</th>\n",
       "      <th>real</th>\n",
       "      <th>experience</th>\n",
       "    </tr>\n",
       "  </thead>\n",
       "  <tbody>\n",
       "    <tr>\n",
       "      <th>270</th>\n",
       "      <td>1</td>\n",
       "      <td>RATING_BLOCK</td>\n",
       "      <td>4</td>\n",
       "      <td>RATING_TASK</td>\n",
       "      <td>271</td>\n",
       "      <td>1</td>\n",
       "      <td>0</td>\n",
       "      <td>0</td>\n",
       "      <td>0</td>\n",
       "      <td>0</td>\n",
       "      <td>344</td>\n",
       "      <td>0</td>\n",
       "      <td>0</td>\n",
       "      <td>4</td>\n",
       "      <td>8075</td>\n",
       "      <td>1</td>\n",
       "      <td>1</td>\n",
       "      <td>2</td>\n",
       "      <td>2</td>\n",
       "      <td>3</td>\n",
       "    </tr>\n",
       "    <tr>\n",
       "      <th>271</th>\n",
       "      <td>1</td>\n",
       "      <td>RATING_BLOCK</td>\n",
       "      <td>4</td>\n",
       "      <td>RATING_TASK</td>\n",
       "      <td>272</td>\n",
       "      <td>6</td>\n",
       "      <td>0</td>\n",
       "      <td>0</td>\n",
       "      <td>0</td>\n",
       "      <td>0</td>\n",
       "      <td>1055</td>\n",
       "      <td>0</td>\n",
       "      <td>0</td>\n",
       "      <td>2</td>\n",
       "      <td>4962</td>\n",
       "      <td>1</td>\n",
       "      <td>1</td>\n",
       "      <td>2</td>\n",
       "      <td>2</td>\n",
       "      <td>3</td>\n",
       "    </tr>\n",
       "    <tr>\n",
       "      <th>272</th>\n",
       "      <td>1</td>\n",
       "      <td>RATING_BLOCK</td>\n",
       "      <td>4</td>\n",
       "      <td>RATING_TASK</td>\n",
       "      <td>273</td>\n",
       "      <td>16</td>\n",
       "      <td>0</td>\n",
       "      <td>0</td>\n",
       "      <td>0</td>\n",
       "      <td>0</td>\n",
       "      <td>24440</td>\n",
       "      <td>0</td>\n",
       "      <td>0</td>\n",
       "      <td>2</td>\n",
       "      <td>7500</td>\n",
       "      <td>1</td>\n",
       "      <td>1</td>\n",
       "      <td>2</td>\n",
       "      <td>2</td>\n",
       "      <td>3</td>\n",
       "    </tr>\n",
       "  </tbody>\n",
       "</table>\n",
       "</div>"
      ],
      "text/plain": [
       "     blockorder     blockname  blocknumber         task  trialcount  tablerow  \\\n",
       "270           1  RATING_BLOCK            4  RATING_TASK         271         1   \n",
       "271           1  RATING_BLOCK            4  RATING_TASK         272         6   \n",
       "272           1  RATING_BLOCK            4  RATING_TASK         273        16   \n",
       "\n",
       "     key  status  RT  target_button  batch  timeout  ITI  rate  rate_RT  \\\n",
       "270    0       0   0              0    344        0    0     4     8075   \n",
       "271    0       0   0              0   1055        0    0     2     4962   \n",
       "272    0       0   0              0  24440        0    0     2     7500   \n",
       "\n",
       "     rate_status  participant  correct  real  experience  \n",
       "270            1            1        2     2           3  \n",
       "271            1            1        2     2           3  \n",
       "272            1            1        2     2           3  "
      ]
     },
     "execution_count": 22,
     "metadata": {},
     "output_type": "execute_result"
    }
   ],
   "source": [
    "rating_task = rating_task[rating_task['blockname'] == 'RATING_BLOCK']\n",
    "rating_task.head(3)"
   ]
  },
  {
   "cell_type": "code",
   "execution_count": 23,
   "metadata": {
    "scrolled": true
   },
   "outputs": [
    {
     "name": "stdout",
     "output_type": "stream",
     "text": [
      "Removing 6 trials with RT <= 150\n"
     ]
    },
    {
     "data": {
      "text/plain": [
       "(774, 20)"
      ]
     },
     "execution_count": 23,
     "metadata": {},
     "output_type": "execute_result"
    }
   ],
   "source": [
    "# clean RTs\n",
    "rating_task = clean_RT_data(rating_task, 'rate_RT', low_RT=150, high_RT=10000)\n",
    "rating_task.shape"
   ]
  },
  {
   "cell_type": "code",
   "execution_count": 24,
   "metadata": {},
   "outputs": [
    {
     "data": {
      "text/html": [
       "<div>\n",
       "<style scoped>\n",
       "    .dataframe tbody tr th:only-of-type {\n",
       "        vertical-align: middle;\n",
       "    }\n",
       "\n",
       "    .dataframe tbody tr th {\n",
       "        vertical-align: top;\n",
       "    }\n",
       "\n",
       "    .dataframe thead th {\n",
       "        text-align: right;\n",
       "    }\n",
       "</style>\n",
       "<table border=\"1\" class=\"dataframe\">\n",
       "  <thead>\n",
       "    <tr style=\"text-align: right;\">\n",
       "      <th></th>\n",
       "      <th>participant</th>\n",
       "      <th>batch</th>\n",
       "      <th>rate_RT</th>\n",
       "      <th>experience</th>\n",
       "    </tr>\n",
       "  </thead>\n",
       "  <tbody>\n",
       "    <tr>\n",
       "      <th>0</th>\n",
       "      <td>1</td>\n",
       "      <td>344</td>\n",
       "      <td>1620.25</td>\n",
       "      <td>3</td>\n",
       "    </tr>\n",
       "    <tr>\n",
       "      <th>1</th>\n",
       "      <td>1</td>\n",
       "      <td>1055</td>\n",
       "      <td>1742.50</td>\n",
       "      <td>3</td>\n",
       "    </tr>\n",
       "    <tr>\n",
       "      <th>2</th>\n",
       "      <td>1</td>\n",
       "      <td>7954</td>\n",
       "      <td>2212.50</td>\n",
       "      <td>3</td>\n",
       "    </tr>\n",
       "  </tbody>\n",
       "</table>\n",
       "</div>"
      ],
      "text/plain": [
       "   participant batch  rate_RT  experience\n",
       "0            1   344  1620.25           3\n",
       "1            1  1055  1742.50           3\n",
       "2            1  7954  2212.50           3"
      ]
     },
     "execution_count": 24,
     "metadata": {},
     "output_type": "execute_result"
    }
   ],
   "source": [
    "# calculate trimmed average\n",
    "rate_RT_av = rating_task.groupby(['participant','batch'])[['rate_RT', 'experience']].\\\n",
    "aggregate(lambda x: trim_mean_upper(x, 0.05)).reset_index()\n",
    "rate_RT_av.head(3)"
   ]
  },
  {
   "cell_type": "code",
   "execution_count": 25,
   "metadata": {},
   "outputs": [
    {
     "data": {
      "text/html": [
       "<div>\n",
       "<style scoped>\n",
       "    .dataframe tbody tr th:only-of-type {\n",
       "        vertical-align: middle;\n",
       "    }\n",
       "\n",
       "    .dataframe tbody tr th {\n",
       "        vertical-align: top;\n",
       "    }\n",
       "\n",
       "    .dataframe thead th {\n",
       "        text-align: right;\n",
       "    }\n",
       "</style>\n",
       "<table border=\"1\" class=\"dataframe\">\n",
       "  <thead>\n",
       "    <tr style=\"text-align: right;\">\n",
       "      <th></th>\n",
       "      <th>participant</th>\n",
       "      <th>batch</th>\n",
       "      <th>rate</th>\n",
       "      <th>experience</th>\n",
       "    </tr>\n",
       "  </thead>\n",
       "  <tbody>\n",
       "    <tr>\n",
       "      <th>0</th>\n",
       "      <td>1</td>\n",
       "      <td>344</td>\n",
       "      <td>3.2</td>\n",
       "      <td>3.0</td>\n",
       "    </tr>\n",
       "    <tr>\n",
       "      <th>1</th>\n",
       "      <td>1</td>\n",
       "      <td>1055</td>\n",
       "      <td>2.4</td>\n",
       "      <td>3.0</td>\n",
       "    </tr>\n",
       "    <tr>\n",
       "      <th>2</th>\n",
       "      <td>1</td>\n",
       "      <td>7954</td>\n",
       "      <td>2.6</td>\n",
       "      <td>3.0</td>\n",
       "    </tr>\n",
       "  </tbody>\n",
       "</table>\n",
       "</div>"
      ],
      "text/plain": [
       "   participant batch  rate  experience\n",
       "0            1   344   3.2         3.0\n",
       "1            1  1055   2.4         3.0\n",
       "2            1  7954   2.6         3.0"
      ]
     },
     "execution_count": 25,
     "metadata": {},
     "output_type": "execute_result"
    }
   ],
   "source": [
    "# calculate average rate\n",
    "rate_av = rating_task.groupby(['participant','batch'])[['rate', 'experience']].mean().reset_index()\n",
    "rate_av.head(3)"
   ]
  },
  {
   "cell_type": "code",
   "execution_count": 26,
   "metadata": {
    "scrolled": false
   },
   "outputs": [
    {
     "name": "stdout",
     "output_type": "stream",
     "text": [
      "Batch 60000 vs Real: RanksumsResult(statistic=-4.255026777218504, pvalue=2.0902399884646444e-05)\n"
     ]
    },
    {
     "data": {
      "image/png": "[encoded data removed]",
      "text/plain": [
       "<Figure size 432x288 with 1 Axes>"
      ]
     },
     "metadata": {},
     "output_type": "display_data"
    }
   ],
   "source": [
    "with sns.plotting_context(\"paper\", font_scale=2):  # notebook paper slides\n",
    "    sns.set_style(\"whitegrid\")\n",
    "    ax = sns.barplot(x='batch', y='rate', palette=\"magma\", data=rate_av)\n",
    "    plt.yticks([1,2,3,4,5])\n",
    "    ax.set_yticklabels(rate_labels)\n",
    "    plt.ylabel('Rating')\n",
    "    plt.title('Subjective rating')\n",
    "    sns.despine(ax=ax, offset=3)\n",
    "    plt.savefig('behavioural_subjective_rate.png', dpi=200, bbox_inches='tight')\n",
    "    \n",
    "print('Batch 60000 vs Real:', stats.ranksums(rate_av[rate_av.batch==60000]['rate'],rate_av[rate_av.batch=='real']['rate']))"
   ]
  },
  {
   "cell_type": "code",
   "execution_count": 27,
   "metadata": {
    "scrolled": true
   },
   "outputs": [
    {
     "name": "stdout",
     "output_type": "stream",
     "text": [
      "Batch 60000 vs Real: RanksumsResult(statistic=1.5372999969305563, pvalue=0.12421986224152338)\n"
     ]
    },
    {
     "data": {
      "image/png": "[encoded data removed]",
      "text/plain": [
       "<Figure size 432x288 with 1 Axes>"
      ]
     },
     "metadata": {},
     "output_type": "display_data"
    }
   ],
   "source": [
    "# palettes: crest magma rocket rocket_r viridis\n",
    "with sns.plotting_context(\"paper\", font_scale=2):  # notebook paper slides\n",
    "    sns.set_style(\"whitegrid\")\n",
    "    \n",
    "    ax = sns.barplot(x='batch', y='rate_RT', palette=\"viridis\", data=rate_RT_av)\n",
    "    plt.title('Subjective Rating RT')\n",
    "    plt.ylabel('Reaction time [ms]')\n",
    "    sns.despine(ax=ax, offset=5)\n",
    "    plt.savefig('behavioural_subjective_rate_RT.png', dpi=200, bbox_inches='tight')\n",
    "    \n",
    "print('Batch 60000 vs Real:', stats.ranksums(rate_RT_av[rate_RT_av.batch==60000]['rate_RT'],rate_RT_av[rate_RT_av.batch=='real']['rate_RT']))"
   ]
  },
  {
   "cell_type": "markdown",
   "metadata": {},
   "source": [
    "<a id=\"rating_task_stats\"></a>\n",
    "## Statistical analysis\n",
    "[back to top](#top)"
   ]
  },
  {
   "cell_type": "code",
   "execution_count": 28,
   "metadata": {},
   "outputs": [
    {
     "name": "stderr",
     "output_type": "stream",
     "text": [
      "/Users/matthiastreder/anaconda3/envs/tensorflow/lib/python3.6/site-packages/ipykernel_launcher.py:5: SettingWithCopyWarning: \n",
      "A value is trying to be set on a copy of a slice from a DataFrame.\n",
      "Try using .loc[row_indexer,col_indexer] = value instead\n",
      "\n",
      "See the caveats in the documentation: http://pandas.pydata.org/pandas-docs/stable/user_guide/indexing.html#returning-a-view-versus-a-copy\n",
      "  \"\"\"\n",
      "/Users/matthiastreder/anaconda3/envs/tensorflow/lib/python3.6/site-packages/ipykernel_launcher.py:6: SettingWithCopyWarning: \n",
      "A value is trying to be set on a copy of a slice from a DataFrame.\n",
      "Try using .loc[row_indexer,col_indexer] = value instead\n",
      "\n",
      "See the caveats in the documentation: http://pandas.pydata.org/pandas-docs/stable/user_guide/indexing.html#returning-a-view-versus-a-copy\n",
      "  \n"
     ]
    }
   ],
   "source": [
    "stat_rate_button = rate_av[rate_av['batch']!='real']\n",
    "stat_rate_RT = rate_RT_av[rate_RT_av['batch']!='real']\n",
    "\n",
    "# add log batch\n",
    "stat_rate_button['log_batch'] = np.log(stat_rate_button.batch.astype('float'))\n",
    "stat_rate_RT['log_batch'] = np.log(stat_rate_RT.batch.astype('float'))"
   ]
  },
  {
   "cell_type": "code",
   "execution_count": 53,
   "metadata": {},
   "outputs": [
    {
     "name": "stdout",
     "output_type": "stream",
     "text": [
      "REACTION TIME (ratings):\n",
      "           Mixed Linear Model Regression Results\n",
      "===========================================================\n",
      "Model:              MixedLM Dependent Variable: rate_RT    \n",
      "No. Observations:   130     Method:             REML       \n",
      "No. Groups:         26      Scale:              290663.3862\n",
      "Min. group size:    5       Log-Likelihood:     -1009.0306 \n",
      "Max. group size:    5       Converged:          Yes        \n",
      "Mean group size:    5.0                                    \n",
      "-----------------------------------------------------------\n",
      "            Coef.    Std.Err.   z    P>|z|  [0.025   0.975]\n",
      "-----------------------------------------------------------\n",
      "Intercept   -499.587  230.387 -2.168 0.030 -951.137 -48.037\n",
      "log_batch    279.875   24.599 11.377 0.000  231.661 328.088\n",
      "Group Var 164243.523  130.054                              \n",
      "===========================================================\n",
      "\n"
     ]
    }
   ],
   "source": [
    "# linear mixed model\n",
    "md = smf.mixedlm(\"rate_RT ~ log_batch\", stat_rate_RT, groups=stat_rate_RT[\"participant\"]).fit()\n",
    "print('REACTION TIME (ratings):')\n",
    "print(md.summary())"
   ]
  },
  {
   "cell_type": "code",
   "execution_count": 71,
   "metadata": {},
   "outputs": [],
   "source": [
    "# statsmodel does not feature a multi-level ordinal regression model \n",
    "# with random effect at the time of this analysis, therefore the data is exported\n",
    "# and the analysis is performed in R (refer to the ordinal_regression_rating_task.R script)\n",
    "rating_task_gan.to_csv(results_dir + 'rating_task_gan.csv')\n",
    "rating_task.to_csv(results_dir + 'rating_task.csv')"
   ]
  }
 ],
 "metadata": {
  "kernelspec": {
   "display_name": "Python 3 (ipykernel)",
   "language": "python",
   "name": "python3"
  },
  "language_info": {
   "codemirror_mode": {
    "name": "ipython",
    "version": 3
   },
   "file_extension": ".py",
   "mimetype": "text/x-python",
   "name": "python",
   "nbconvert_exporter": "python",
   "pygments_lexer": "ipython3",
   "version": "3.8.12"
  }
 },
 "nbformat": 4,
 "nbformat_minor": 2
}
