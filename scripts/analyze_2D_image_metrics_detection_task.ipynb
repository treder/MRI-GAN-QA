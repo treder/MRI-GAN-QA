{
 "cells": [
  {
   "cell_type": "markdown",
   "metadata": {},
   "source": [
    "<a id=\"top\"></a>\n",
    "\n",
    "# Analyze 2D image metrics (detection task)\n",
    "\n",
    "Analyzes quality metrics. As input images, we use the 2D sliced images that are used in the human experiment (not the 3D images).\n",
    "\n",
    "- [Load and preprocess Psytoolkit images](#preprocess)\n",
    "- [Correlation](#correlation)\n",
    "- [Metrics](#metrics)\n",
    "  - [Inception Score (IS)](#inception)\n",
    "  - [Modified Inception Score (m-IS)](#modified_inception)   \n",
    "  - [Frechet Inception Distance (FID)](#frechet)\n",
    "  - [Maximum Mean Discrepancy (MMD)](#mmd)\n",
    "  - [VMAF/PSNR/SSIM](#vmaf)\n",
    "  - [NIQE/BRISQUE](#niqe)\n",
    "  - [Load/save metrics](#load_save)\n",
    "- [Deep QA model](#deepqa)\n",
    "- [PCA](#pca)\n",
    " "
   ]
  },
  {
   "cell_type": "code",
   "execution_count": 1,
   "metadata": {
    "scrolled": true
   },
   "outputs": [],
   "source": [
    "import pandas as pd\n",
    "import numpy as np\n",
    "import scipy, pickle\n",
    "from scipy import stats\n",
    "# import numpy.ma as ma\n",
    "#import nibabel\n",
    "# import os, sys, re, pickle, math, PIL\n",
    "from glob import glob\n",
    "\n",
    "import matplotlib.pyplot as plt\n",
    "import seaborn as sns\n",
    "\n",
    "# from scipy import stats\n",
    "# from mri_gan_tools import check_for_batch_folders, load_numpy_images"
   ]
  },
  {
   "cell_type": "code",
   "execution_count": 2,
   "metadata": {},
   "outputs": [
    {
     "data": {
      "text/plain": [
       "'2.7.0'"
      ]
     },
     "execution_count": 2,
     "metadata": {},
     "output_type": "execute_result"
    }
   ],
   "source": [
    "import tensorflow as tf\n",
    "from tensorflow.keras.applications.inception_v3 import InceptionV3\n",
    "tf.__version__"
   ]
  },
  {
   "cell_type": "code",
   "execution_count": 3,
   "metadata": {},
   "outputs": [],
   "source": [
    "# This code fixes the error \"The kernel appears to have died. It will restart automatically\"\n",
    "# that occurs when using a TF model's predict function\n",
    "# see: https://moonbooks.org/Articles/How-to-fix-the-error-The-kernel-appears-to-have-died-It-will-restart-automatically-with-Tensorflow-on-Mac-/\n",
    "import os\n",
    "os.environ['KMP_DUPLICATE_LIB_OK']='True'"
   ]
  },
  {
   "cell_type": "code",
   "execution_count": 4,
   "metadata": {},
   "outputs": [
    {
     "name": "stdout",
     "output_type": "stream",
     "text": [
      "/Users/matthiastreder\n"
     ]
    }
   ],
   "source": [
    "from pathlib import Path\n",
    "home = str(Path.home())\n",
    "print(home)\n",
    "\n",
    "basedir = os.path.join(home, 'git/MRI-GAN-QA/')\n",
    "datadir = basedir + 'experiment/'\n",
    "imagedir = basedir + 'experiment/Psytoolkit/'\n",
    "figdir = basedir + 'figures/'\n",
    "resultdir = basedir + 'results/'"
   ]
  },
  {
   "cell_type": "code",
   "execution_count": 5,
   "metadata": {},
   "outputs": [
    {
     "name": "stdout",
     "output_type": "stream",
     "text": [
      "5\n"
     ]
    }
   ],
   "source": [
    "# batch numbers for which we have images\n",
    "# batches = [2,3,4,5,6,7,8,9,10,11,12,13,15,19,24,30,37,46,57,72,90,\n",
    "#            112,140,175,219,275,344,430,538,673,843,\n",
    "#            1055,1320,1652,2068,2589,3240,4056,5076,6354,7954,9956,\n",
    "#            12462,15599,19525,24440,30593,38294,47934,60000]\n",
    "\n",
    "# alternative way: directly read the batches from the folder:\n",
    "input_dir = basedir + 'camcan_data/'\n",
    "iterations = [os.path.split(file)[1] for file in glob(input_dir + 'batch*')]\n",
    "\n",
    "print(len(iterations))"
   ]
  },
  {
   "cell_type": "code",
   "execution_count": 6,
   "metadata": {},
   "outputs": [],
   "source": [
    "# dictionary to map between condition number and batch number\n",
    "iterations = ['batch_344', 'batch_1055', 'batch_7954', 'batch_24440', 'batch_60000']\n",
    "iterations = [344, 1055, 7954, 24440, 60000]\n",
    "#, 'real']"
   ]
  },
  {
   "cell_type": "code",
   "execution_count": 7,
   "metadata": {},
   "outputs": [],
   "source": [
    "def bootstrap1(ims, fun, n_bootstrap = 100):\n",
    "    '''Applies function `fun` `n_bootstrap` times \n",
    "    on bootstrapped versions of ims. Returns \n",
    "    a list of results.\n",
    "    \n",
    "    Useful for getting bootstrapped error bars for metrics.\n",
    "    '''\n",
    "    bootstraps = []\n",
    "    n = ims.shape[0]\n",
    "    for _ in range(n_bootstrap): \n",
    "        ix = np.random.choice(n, replace=True, size=n)\n",
    "        bootstraps.append(fun(ims[ix,...]))\n",
    "    return bootstraps"
   ]
  },
  {
   "cell_type": "code",
   "execution_count": 8,
   "metadata": {},
   "outputs": [],
   "source": [
    "def bootstrap2(ims1, ims2, fun, n_bootstrap = 100):\n",
    "    '''Like bootstrap1 but assumes that two sets of images (e.g. target and reference image)\n",
    "       are used as input to `fun`.\n",
    "    '''\n",
    "    bootstraps = []\n",
    "    n1, n2 = ims1.shape[0], ims2.shape[0]\n",
    "    for _ in range(n_bootstrap): \n",
    "        ix1 = np.random.choice(n1, replace=True, size=n1)\n",
    "        ix2 = np.random.choice(n2, replace=True, size=n2)\n",
    "        bootstraps.append(fun(ims1[ix1,...], ims2[ix2,...]))\n",
    "    return bootstraps\n",
    "    "
   ]
  },
  {
   "cell_type": "code",
   "execution_count": 9,
   "metadata": {},
   "outputs": [],
   "source": [
    "def wilcoxon_ranksum(df, col, stat=None, appendix = '', do_print=False, do_remove=True):\n",
    "    '''Performs Wilcoxon ranksum tests on df[col] for all iterations\n",
    "    Args:\n",
    "        appendix: string added to the name of the metric\n",
    "        do_remove: if True and `col` is already present in stat, it is removed first\n",
    "    '''\n",
    "    if do_print: print(col)\n",
    "    if 'real' in list(df.iteration.unique()): \n",
    "        stat_iteration = iterations + ['real']\n",
    "    else:\n",
    "        stat_iteration = iterations\n",
    "\n",
    "    if (stat is not None) and (col in list(stat['metric'].unique()) and do_remove):\n",
    "        print(col, 'is already present, replacing')\n",
    "        stat = stat[stat.metric != col]\n",
    "        \n",
    "    # compare iteration\n",
    "    for ix in range(len(stat_iteration)-1):\n",
    "        df1 = df[df.iteration == stat_iteration[ix]]\n",
    "        df2 = df[df.iteration == stat_iteration[ix+1]]\n",
    "        s = stats.ranksums(df1[col], df2[col])\n",
    "        if do_print: print(f'iteration {stat_iteration[ix]} vs {stat_iteration[ix+1]}:', s)\n",
    "        if stat is not None:\n",
    "            stat = stat.append(pd.Series({'metric':col + appendix, 'iteration':stat_iteration[ix], \\\n",
    "                                   'iteration2':stat_iteration[ix+1],\\\n",
    "                                 'p':s.pvalue, 'z':s.statistic}, name = col), ignore_index=True)\n",
    "    return stat"
   ]
  },
  {
   "cell_type": "code",
   "execution_count": 10,
   "metadata": {},
   "outputs": [],
   "source": [
    "def ordinal_regression(target, predictors):\n",
    "    '''Performs ordinal regression using a Logit model'''\n",
    "    from statsmodels.miscmodels.ordinal_model import OrderedModel\n",
    "    fitted = OrderedModel(target, predictors, distr='probit').fit()\n",
    "    return fitted"
   ]
  },
  {
   "cell_type": "code",
   "execution_count": 11,
   "metadata": {},
   "outputs": [],
   "source": [
    "def convert_iteration_to_ordinal(df):\n",
    "    '''Converts the `iteration` column to ordered categorical type'''\n",
    "    categories = [344, 1055,  7954, 24440, 60000]\n",
    "    if 'real' in df['iteration'].unique(): categories.append('real')\n",
    "    cat_type = pd.api.types.CategoricalDtype(\\\n",
    "                                categories=categories,\\\n",
    "                                ordered=True)\n",
    "    df['iteration'] = df['iteration'].astype(cat_type)"
   ]
  },
  {
   "cell_type": "code",
   "execution_count": 12,
   "metadata": {},
   "outputs": [],
   "source": [
    "def linear_regression(y, x):\n",
    "    # regress y on log x\n",
    "    import statsmodels.api as sm\n",
    "    x = np.log(x.astype('str').astype('float'))\n",
    "    xi = np.stack((x, np.ones(x.shape)), axis=1) # add intercept\n",
    "    fit = sm.OLS(y, xi).fit()\n",
    "    print(fit.summary2())"
   ]
  },
  {
   "cell_type": "code",
   "execution_count": 13,
   "metadata": {},
   "outputs": [
    {
     "data": {
      "text/html": [
       "<div>\n",
       "<style scoped>\n",
       "    .dataframe tbody tr th:only-of-type {\n",
       "        vertical-align: middle;\n",
       "    }\n",
       "\n",
       "    .dataframe tbody tr th {\n",
       "        vertical-align: top;\n",
       "    }\n",
       "\n",
       "    .dataframe thead th {\n",
       "        text-align: right;\n",
       "    }\n",
       "</style>\n",
       "<table border=\"1\" class=\"dataframe\">\n",
       "  <thead>\n",
       "    <tr style=\"text-align: right;\">\n",
       "      <th></th>\n",
       "      <th>metric</th>\n",
       "      <th>iteration</th>\n",
       "      <th>iteration2</th>\n",
       "      <th>p</th>\n",
       "      <th>z</th>\n",
       "    </tr>\n",
       "  </thead>\n",
       "  <tbody>\n",
       "  </tbody>\n",
       "</table>\n",
       "</div>"
      ],
      "text/plain": [
       "Empty DataFrame\n",
       "Columns: [metric, iteration, iteration2, p, z]\n",
       "Index: []"
      ]
     },
     "execution_count": 13,
     "metadata": {},
     "output_type": "execute_result"
    }
   ],
   "source": [
    "# empty dataframe that will be filled with stats\n",
    "stat = pd.DataFrame({'metric':[], 'iteration':[], 'iteration2':[],'p':[], 'z':[]})\n",
    "stat"
   ]
  },
  {
   "cell_type": "code",
   "execution_count": 14,
   "metadata": {},
   "outputs": [],
   "source": [
    "n_bootstrap = 100"
   ]
  },
  {
   "cell_type": "markdown",
   "metadata": {},
   "source": [
    "<a id=\"preprocess\"></a>\n",
    "# Load and preprocess Psytoolkit images\n",
    "[back to top](#top)\n",
    "\n",
    "We can load either of three different sets of images:\n",
    "- `task = 'detection'` - images used in detection task\n",
    "- `task = 'rating'` - images used in rating task\n",
    "- `task = 'notask'` - simply the first 100 images for each iteration number"
   ]
  },
  {
   "cell_type": "code",
   "execution_count": 22,
   "metadata": {},
   "outputs": [],
   "source": [
    "task = 'detection'\n",
    "# task = 'rating'\n",
    "# task = 'notask'"
   ]
  },
  {
   "cell_type": "code",
   "execution_count": 23,
   "metadata": {},
   "outputs": [
    {
     "name": "stdout",
     "output_type": "stream",
     "text": [
      "(240, 4)\n"
     ]
    },
    {
     "data": {
      "text/html": [
       "<div>\n",
       "<style scoped>\n",
       "    .dataframe tbody tr th:only-of-type {\n",
       "        vertical-align: middle;\n",
       "    }\n",
       "\n",
       "    .dataframe tbody tr th {\n",
       "        vertical-align: top;\n",
       "    }\n",
       "\n",
       "    .dataframe thead th {\n",
       "        text-align: right;\n",
       "    }\n",
       "</style>\n",
       "<table border=\"1\" class=\"dataframe\">\n",
       "  <thead>\n",
       "    <tr style=\"text-align: right;\">\n",
       "      <th></th>\n",
       "      <th>index</th>\n",
       "      <th>image</th>\n",
       "      <th>button</th>\n",
       "      <th>iteration</th>\n",
       "    </tr>\n",
       "  </thead>\n",
       "  <tbody>\n",
       "    <tr>\n",
       "      <th>0</th>\n",
       "      <td>2</td>\n",
       "      <td>batch_344_im_103</td>\n",
       "      <td>2</td>\n",
       "      <td>344</td>\n",
       "    </tr>\n",
       "    <tr>\n",
       "      <th>30</th>\n",
       "      <td>19</td>\n",
       "      <td>batch_344_im_120</td>\n",
       "      <td>2</td>\n",
       "      <td>344</td>\n",
       "    </tr>\n",
       "    <tr>\n",
       "      <th>60</th>\n",
       "      <td>49</td>\n",
       "      <td>batch_1055_im_118</td>\n",
       "      <td>2</td>\n",
       "      <td>1055</td>\n",
       "    </tr>\n",
       "    <tr>\n",
       "      <th>90</th>\n",
       "      <td>90</td>\n",
       "      <td>batch_7954_im_127</td>\n",
       "      <td>2</td>\n",
       "      <td>7954</td>\n",
       "    </tr>\n",
       "    <tr>\n",
       "      <th>120</th>\n",
       "      <td>108</td>\n",
       "      <td>batch_24440_im_113</td>\n",
       "      <td>2</td>\n",
       "      <td>24440</td>\n",
       "    </tr>\n",
       "    <tr>\n",
       "      <th>150</th>\n",
       "      <td>150</td>\n",
       "      <td>batch_60000_im_123</td>\n",
       "      <td>2</td>\n",
       "      <td>60000</td>\n",
       "    </tr>\n",
       "    <tr>\n",
       "      <th>180</th>\n",
       "      <td>181</td>\n",
       "      <td>real_im_122</td>\n",
       "      <td>1</td>\n",
       "      <td>real</td>\n",
       "    </tr>\n",
       "    <tr>\n",
       "      <th>210</th>\n",
       "      <td>212</td>\n",
       "      <td>real_im_153</td>\n",
       "      <td>1</td>\n",
       "      <td>real</td>\n",
       "    </tr>\n",
       "  </tbody>\n",
       "</table>\n",
       "</div>"
      ],
      "text/plain": [
       "     index               image  button iteration\n",
       "0        2    batch_344_im_103       2       344\n",
       "30      19    batch_344_im_120       2       344\n",
       "60      49   batch_1055_im_118       2      1055\n",
       "90      90   batch_7954_im_127       2      7954\n",
       "120    108  batch_24440_im_113       2     24440\n",
       "150    150  batch_60000_im_123       2     60000\n",
       "180    181         real_im_122       1      real\n",
       "210    212         real_im_153       1      real"
      ]
     },
     "execution_count": 23,
     "metadata": {},
     "output_type": "execute_result"
    }
   ],
   "source": [
    "# load images associated with either detection or rating task. Alternatively, \n",
    "# simply load 100 images for notask\n",
    "n_max = 100 # max number of images\n",
    "\n",
    "if task == 'notask':\n",
    "    dfs = []\n",
    "    for iteration in ('real','344','1055', '7954', '24440', '60000'):\n",
    "        tmp = pd.DataFrame({'image':range(1,n_max+1)})\n",
    "        if iteration != 'real':\n",
    "            tmp['image'] = tmp['image'].map(lambda x: f'batch_{iteration}_im_{x}')\n",
    "        else:\n",
    "            tmp['image'] = tmp['image'].map(lambda x: f'{iteration}_im_{x}')\n",
    "        tmp['iteration'] = iteration\n",
    "        dfs.append(tmp)\n",
    "    df_images = pd.concat(dfs, axis=0).reset_index()\n",
    "else:\n",
    "    if task == 'detection':\n",
    "        df_images = pd.read_csv(datadir + 'Psytoolkit/main_experiment_table.txt', sep=' ', header=None, names=['image','button','batch']).sort_values(by='batch').reset_index()\n",
    "    elif task == 'rating':\n",
    "        df_images = pd.read_csv(datadir + 'Psytoolkit/rating_table.txt', sep=' ', header=None, names=['image','batch']).sort_values(by='batch').reset_index()\n",
    "    df_images['iteration'] = df_images.batch.astype('category')\n",
    "    df_images['iteration'] = df_images.iteration.cat.reorder_categories([1,2,3,4,5,0]).cat.rename_categories({0:'real', 1:'344', 2:'1055', 3:'7954', 4:'24440', 5:'60000'})\n",
    "    df_images = df_images.sort_values('iteration').reset_index(drop=True)\n",
    "    del df_images['batch']\n",
    "\n",
    "\n",
    "n_images = df_images.shape[0]\n",
    "\n",
    "print(df_images.shape)\n",
    "df_images.iloc[::30,:]"
   ]
  },
  {
   "cell_type": "code",
   "execution_count": 24,
   "metadata": {},
   "outputs": [],
   "source": [
    "# Load images\n",
    "import PIL, PIL.ImageOps\n",
    "\n",
    "images = np.zeros((n_images, 135, 355, 3))\n",
    "\n",
    "for index, row in df_images.iterrows():\n",
    "    if task != 'notask':\n",
    "        im = np.array(PIL.Image.open(imagedir + 'images/' + row['image'] + '.png'))[:,:,:3]\n",
    "    else:\n",
    "        subfolder = 'real' if row['iteration']=='real' else f'batch_{row[\"iteration\"]}'\n",
    "        im = np.array(PIL.Image.open(datadir + subfolder + '/' + row['image'] + '.png'))[:,:,:3]\n",
    "    im = im[75:210,45:400]  # cut away the empty area around the MRI\n",
    "    images[index, :, :, :] = im\n",
    "\n",
    "# for Inception Score and VGG features, images need to be padded to (299,299)\n",
    "images_tf = tf.image.resize_with_pad(images, target_height=299, target_width=299)\n",
    "\n",
    "# scale to the range [-1, 1]\n",
    "images_tf /= 127.5\n",
    "images_tf -= 1\n",
    "# del images"
   ]
  },
  {
   "cell_type": "code",
   "execution_count": 25,
   "metadata": {},
   "outputs": [
    {
     "name": "stdout",
     "output_type": "stream",
     "text": [
      "(299, 299, 3)\n"
     ]
    },
    {
     "data": {
      "text/plain": [
       "<matplotlib.image.AxesImage at 0x7ff62bf1f7c0>"
      ]
     },
     "execution_count": 25,
     "metadata": {},
     "output_type": "execute_result"
    },
    {
     "data": {
      "image/png": "[encoded data removed]",
      "text/plain": [
       "<Figure size 432x288 with 1 Axes>"
      ]
     },
     "metadata": {
      "needs_background": "light"
     },
     "output_type": "display_data"
    }
   ],
   "source": [
    "ix = 20\n",
    "print(images_tf[ix].shape)\n",
    "plt.imshow(images_tf[ix]*0.5+0.5)"
   ]
  },
  {
   "cell_type": "code",
   "execution_count": 19,
   "metadata": {},
   "outputs": [],
   "source": [
    "# create 2D mask so we can extract brain pixels\n",
    "av = images_tf[:,:,:,0].numpy().mean(axis=0)\n",
    "mask_2d = (av>-0.8)"
   ]
  },
  {
   "cell_type": "code",
   "execution_count": 20,
   "metadata": {},
   "outputs": [
    {
     "data": {
      "text/plain": [
       "<matplotlib.image.AxesImage at 0x7ff65a710490>"
      ]
     },
     "execution_count": 20,
     "metadata": {},
     "output_type": "execute_result"
    },
    {
     "data": {
      "image/png": "[encoded data removed]",
      "text/plain": [
       "<Figure size 432x288 with 1 Axes>"
      ]
     },
     "metadata": {
      "needs_background": "light"
     },
     "output_type": "display_data"
    }
   ],
   "source": [
    "plt.imshow(mask_2d)"
   ]
  },
  {
   "cell_type": "markdown",
   "metadata": {},
   "source": [
    "<a id=\"correlation\"></a>\n",
    "# Correlation\n",
    "[back to top](#top)\n",
    "\n",
    "Calculate within-iteration correlation and correlation between iteration and real data."
   ]
  },
  {
   "cell_type": "code",
   "execution_count": null,
   "metadata": {},
   "outputs": [],
   "source": [
    "images = images_tf.numpy()\n",
    "\n",
    "im=images[:,:,:,0].reshape((240, -1))\n",
    "im1=im[:100,:]\n",
    "im2=im[100:,:]\n",
    "im1.shape, im2.shape"
   ]
  },
  {
   "cell_type": "code",
   "execution_count": null,
   "metadata": {},
   "outputs": [],
   "source": [
    "plt.imshow(np.corrcoef(im1, im2))"
   ]
  },
  {
   "cell_type": "code",
   "execution_count": null,
   "metadata": {},
   "outputs": [],
   "source": [
    "C = np.zeros((n_images, mask_2d.sum()))\n",
    "C.shape\n",
    "\n",
    "# vectorize images\n",
    "for ix in range(n_images):\n",
    "    C[ix,:] = images[ix, :, :, 0][mask_2d]\n",
    "    \n",
    "# covariance matrix\n",
    "C = np.corrcoef(C, rowvar=True)\n",
    "\n",
    "# extract lower triangular part of the matrix\n",
    "mask = np.triu(np.ones_like(C, dtype=np.bool), -1)\n",
    "C[mask] = np.nan"
   ]
  },
  {
   "cell_type": "code",
   "execution_count": null,
   "metadata": {},
   "outputs": [],
   "source": [
    "plt.rcParams['figure.figsize']=(10,6)\n",
    "with sns.plotting_context(\"paper\", font_scale=2):  # notebook paper slides\n",
    "#     plt.Figure(figsize=(12,12))\n",
    "    sns.set_style(\"whitegrid\")\n",
    "    heatmap = sns.heatmap(C, cmap='coolwarm', robust=True, \\\n",
    "               cbar_kws={'orientation': 'vertical'})\n",
    "    ticks = [0, 32, 64, 96, 128, 160, 240]\n",
    "    heatmap.set_yticks(ticks)\n",
    "    heatmap.set_xticks(ticks)\n",
    "\n",
    "plt.savefig(figdir + 'gan_correlation_matrix.png', dpi=200, bbox_inches='tight')"
   ]
  },
  {
   "cell_type": "code",
   "execution_count": null,
   "metadata": {},
   "outputs": [],
   "source": [
    "# within-iteration correlations\n",
    "df_within = []\n",
    "for t in range(len(ticks)-1):\n",
    "    vals = C[ticks[t]:ticks[t+1], ticks[t]:ticks[t+1]]\n",
    "    vals = vals[~np.isnan(vals)]\n",
    "    tmp = pd.DataFrame({'correlation':vals})\n",
    "    tmp['iteration'] = t\n",
    "    df_within.append(tmp)\n",
    "\n",
    "df_within = pd.concat(df_within, axis=0)\n",
    "df_within['iteration'] = df_within.iteration.astype('category')\n",
    "df_within['iteration'] = df_within.iteration.cat.reorder_categories([1,2,3,4,5,0]).cat.rename_categories({0:'real', 1:344, 2:1055, 3:7954, 4:24440, 5:60000})"
   ]
  },
  {
   "cell_type": "code",
   "execution_count": null,
   "metadata": {},
   "outputs": [],
   "source": [
    "plt.rcParams['figure.figsize']=(3,6)\n",
    "with sns.plotting_context(\"paper\", font_scale=2):  # notebook paper slides\n",
    "#     plt.Figure(figsize=(12,12))\n",
    "    sns.set_style(\"whitegrid\")\n",
    "    ax = sns.barplot(y='iteration', x='correlation', palette=\"magma\", \\\n",
    "                     orient='h', data=df_within)\n",
    "    plt.xlim([0.7, 0.9])\n",
    "    plt.title('Within-iteration correlation')\n",
    "    sns.despine(ax=ax, offset=3)\n",
    "    plt.savefig(figdir + 'gan_within-iteration_correlation.png', dpi=200, bbox_inches='tight')\n",
    "\n",
    "# ranksum tests\n",
    "wilcoxon_ranksum(df_within, 'correlation')\n",
    "print('24440 vs 60000:', stats.ranksums(df_within[df_within.iteration == 24440].correlation, \\\n",
    "                        df_within[df_within.iteration == 60000].correlation))\n",
    "print('60000 vs real:', stats.ranksums(df_within[df_within.iteration == 60000].correlation, \\\n",
    "                        df_within[df_within.iteration == 'real'].correlation))\n",
    "print('MEAN:', df_within.groupby('iteration')['correlation'].mean())\n",
    "print('STD:', df_within.groupby('iteration')['correlation'].std())"
   ]
  },
  {
   "cell_type": "code",
   "execution_count": null,
   "metadata": {},
   "outputs": [],
   "source": [
    "stat = wilcoxon_ranksum(df_within, 'correlation', stat=stat, do_print=True)\n",
    "stat"
   ]
  },
  {
   "cell_type": "code",
   "execution_count": null,
   "metadata": {},
   "outputs": [],
   "source": [
    "# iteration vs real correlations\n",
    "df_between = []\n",
    "for t in range(1, len(ticks)-1):\n",
    "    vals = C[ticks[t]:ticks[t+1], 0:80]\n",
    "    vals = vals[~np.isnan(vals)]\n",
    "    tmp = pd.DataFrame({'correlation':vals})\n",
    "    tmp['iteration'] = t\n",
    "    df_between.append(tmp)\n",
    "\n",
    "df_between = pd.concat(df_between, axis=0)\n",
    "df_between['iteration'] = df_between.iteration.astype('category')\n",
    "df_between['iteration'] = df_between.iteration.cat.rename_categories({1:344, 2:1055, 3:7954, 4:24440, 5:60000})\n",
    "\n",
    "df_between.head()  "
   ]
  },
  {
   "cell_type": "code",
   "execution_count": null,
   "metadata": {},
   "outputs": [],
   "source": [
    "plt.rcParams['figure.figsize']=(7,3)\n",
    "with sns.plotting_context(\"paper\", font_scale=2):  # notebook paper slides\n",
    "    sns.set_style(\"whitegrid\")\n",
    "    ax = sns.barplot(x='iteration', y='correlation', palette=\"magma\", data=df_between)\n",
    "    plt.ylim([0.6, 0.9]); ax.set_yticks([0.6, 0.7, 0.8])\n",
    "    plt.title('Real-vs-iteration correlation')\n",
    "#     plt.ylim([0.75, 0.8])\n",
    "    sns.despine(ax=ax, offset=3)\n",
    "    plt.savefig(figdir + 'gan_real-vs-iteration_correlation.png', dpi=200, bbox_inches='tight')    \n",
    "\n",
    "    \n",
    "print('24440 vs 60000:', stats.ranksums(df_between[df_between.iteration == 24440].correlation, \\\n",
    "                        df_between[df_between.iteration == 60000].correlation))\n",
    "print('MEAN:', df_between.groupby('iteration')['correlation'].mean())\n",
    "print('STD:', df_between.groupby('iteration')['correlation'].std())"
   ]
  },
  {
   "cell_type": "markdown",
   "metadata": {},
   "source": [
    "----\n",
    "\n",
    "<a id=\"metrics\"></a>\n",
    "# Metrics"
   ]
  },
  {
   "cell_type": "markdown",
   "metadata": {},
   "source": [
    "----\n",
    "\n",
    "<a id=\"inception\"></a>\n",
    "# Inception score\n",
    "[back to top](#top)"
   ]
  },
  {
   "cell_type": "code",
   "execution_count": 21,
   "metadata": {},
   "outputs": [],
   "source": [
    "def calculate_inception_score(pred_softmax, do_average=True, do_exp=True, eps=1E-16):\n",
    "    '''\n",
    "    Args:\n",
    "        pred_softmax - softmax predictions\n",
    "    '''\n",
    "    p_yx = pred_softmax\n",
    "    \n",
    "    # calculate p(y)\n",
    "    p_y = np.expand_dims(p_yx.mean(axis=0), axis=0)\n",
    "    \n",
    "    # kl divergence for each image\n",
    "    kl_d = p_yx * (np.log(p_yx + eps) - np.log(p_y + eps))\n",
    "    \n",
    "    # sum over classes\n",
    "    sum_kl_d = kl_d.sum(axis=1)\n",
    "  \n",
    "    if do_average: sum_kl_d = sum_kl_d.mean()\n",
    "    \n",
    "    is_score = np.exp(sum_kl_d) if do_exp else sum_kl_d\n",
    "    return is_score"
   ]
  },
  {
   "cell_type": "code",
   "execution_count": 22,
   "metadata": {},
   "outputs": [],
   "source": [
    "# load inception model\n",
    "inception_model = tf.keras.applications.InceptionV3(\n",
    "    include_top=True, weights='imagenet', input_tensor=None,\n",
    "    input_shape=None, pooling=None, classes=1000,\n",
    "    classifier_activation='softmax'\n",
    ")"
   ]
  },
  {
   "cell_type": "code",
   "execution_count": 23,
   "metadata": {},
   "outputs": [
    {
     "data": {
      "text/plain": [
       "(240, 1000)"
      ]
     },
     "execution_count": 23,
     "metadata": {},
     "output_type": "execute_result"
    }
   ],
   "source": [
    "# calculate predictions for all images\n",
    "pred_softmax = inception_model.predict(images_tf, batch_size=16)\n",
    "pred_softmax.shape"
   ]
  },
  {
   "cell_type": "code",
   "execution_count": 26,
   "metadata": {},
   "outputs": [
    {
     "name": "stdout",
     "output_type": "stream",
     "text": [
      "processing iteration 344\n",
      "processing iteration 1055\n",
      "processing iteration 7954\n",
      "processing iteration 24440\n",
      "processing iteration 60000\n"
     ]
    },
    {
     "data": {
      "text/plain": [
       "IS            float32\n",
       "iteration    category\n",
       "dtype: object"
      ]
     },
     "execution_count": 26,
     "metadata": {},
     "output_type": "execute_result"
    }
   ],
   "source": [
    "real_ix = (df_images['iteration'] == 'real').to_numpy().nonzero()[0][[0,-1]]\n",
    "real_pred = pred_softmax[real_ix[0]:real_ix[1]+1,:]\n",
    "df_is = []\n",
    "\n",
    "for it in iterations:\n",
    "    print('processing iteration', it)\n",
    "    # find start and end index of images corresponding to this iteration\n",
    "    gan_ix = (df_images['iteration'] == str(it)).to_numpy().nonzero()[0][[0,-1]]\n",
    "    gan_pred = pred_softmax[gan_ix[0]:gan_ix[1]+1,:]\n",
    "    IS = calculate_inception_score(gan_pred, do_average=False)\n",
    "    tmp = pd.DataFrame({'IS':IS, 'iteration':it})\n",
    "#     IS = bootstrap1(gan_pred, calculate_inception_score, n_bootstrap=n_bootstrap)\n",
    "#     tmp = pd.DataFrame({'bootstrap':range(n_bootstrap), 'IS':IS, 'iteration':it})\n",
    "    df_is.append(tmp)\n",
    "\n",
    "# IS for real images\n",
    "df_is.append(pd.DataFrame({'IS':calculate_inception_score(real_pred,False),'iteration':'real'}))\n",
    "# df_is.append(pd.DataFrame({'bootstrap':range(n_bootstrap),'IS':bootstrap1(real_pred, calculate_inception_score, n_bootstrap=n_bootstrap),'iteration':'real'}))\n",
    "\n",
    "df_is = pd.concat(df_is, axis=0)\n",
    "df_is['iteration'] = df_is['iteration'].astype('category')\n",
    "df_is.dtypes"
   ]
  },
  {
   "cell_type": "code",
   "execution_count": 27,
   "metadata": {},
   "outputs": [
    {
     "data": {
      "text/html": [
       "<div>\n",
       "<style scoped>\n",
       "    .dataframe tbody tr th:only-of-type {\n",
       "        vertical-align: middle;\n",
       "    }\n",
       "\n",
       "    .dataframe tbody tr th {\n",
       "        vertical-align: top;\n",
       "    }\n",
       "\n",
       "    .dataframe thead th {\n",
       "        text-align: right;\n",
       "    }\n",
       "</style>\n",
       "<table border=\"1\" class=\"dataframe\">\n",
       "  <thead>\n",
       "    <tr style=\"text-align: right;\">\n",
       "      <th></th>\n",
       "      <th>IS</th>\n",
       "      <th>iteration</th>\n",
       "    </tr>\n",
       "  </thead>\n",
       "  <tbody>\n",
       "    <tr>\n",
       "      <th>0</th>\n",
       "      <td>2.762688</td>\n",
       "      <td>344</td>\n",
       "    </tr>\n",
       "    <tr>\n",
       "      <th>1</th>\n",
       "      <td>1.289785</td>\n",
       "      <td>344</td>\n",
       "    </tr>\n",
       "    <tr>\n",
       "      <th>2</th>\n",
       "      <td>1.221533</td>\n",
       "      <td>344</td>\n",
       "    </tr>\n",
       "    <tr>\n",
       "      <th>3</th>\n",
       "      <td>2.998529</td>\n",
       "      <td>344</td>\n",
       "    </tr>\n",
       "    <tr>\n",
       "      <th>4</th>\n",
       "      <td>2.235665</td>\n",
       "      <td>344</td>\n",
       "    </tr>\n",
       "    <tr>\n",
       "      <th>...</th>\n",
       "      <td>...</td>\n",
       "      <td>...</td>\n",
       "    </tr>\n",
       "    <tr>\n",
       "      <th>75</th>\n",
       "      <td>1.935833</td>\n",
       "      <td>real</td>\n",
       "    </tr>\n",
       "    <tr>\n",
       "      <th>76</th>\n",
       "      <td>1.170137</td>\n",
       "      <td>real</td>\n",
       "    </tr>\n",
       "    <tr>\n",
       "      <th>77</th>\n",
       "      <td>1.781902</td>\n",
       "      <td>real</td>\n",
       "    </tr>\n",
       "    <tr>\n",
       "      <th>78</th>\n",
       "      <td>1.154002</td>\n",
       "      <td>real</td>\n",
       "    </tr>\n",
       "    <tr>\n",
       "      <th>79</th>\n",
       "      <td>1.147212</td>\n",
       "      <td>real</td>\n",
       "    </tr>\n",
       "  </tbody>\n",
       "</table>\n",
       "<p>240 rows × 2 columns</p>\n",
       "</div>"
      ],
      "text/plain": [
       "          IS iteration\n",
       "0   2.762688       344\n",
       "1   1.289785       344\n",
       "2   1.221533       344\n",
       "3   2.998529       344\n",
       "4   2.235665       344\n",
       "..       ...       ...\n",
       "75  1.935833      real\n",
       "76  1.170137      real\n",
       "77  1.781902      real\n",
       "78  1.154002      real\n",
       "79  1.147212      real\n",
       "\n",
       "[240 rows x 2 columns]"
      ]
     },
     "execution_count": 27,
     "metadata": {},
     "output_type": "execute_result"
    }
   ],
   "source": [
    "df_is"
   ]
  },
  {
   "cell_type": "code",
   "execution_count": 32,
   "metadata": {
    "scrolled": true
   },
   "outputs": [
    {
     "data": {
      "image/png": "[encoded data removed]",
      "text/plain": [
       "<Figure size 432x288 with 1 Axes>"
      ]
     },
     "metadata": {},
     "output_type": "display_data"
    }
   ],
   "source": [
    "with sns.plotting_context(\"paper\", font_scale=2):  # notebook paper slides\n",
    "    sns.set_style(\"whitegrid\")\n",
    "    ax = sns.barplot(x='iteration', y='IS', palette=\"magma\", data=df_is)\n",
    "#     plt.ylabel('IS')\n",
    "    plt.title('Inception Score')\n",
    "    if task=='detection': plt.ylim([1.05, 1.6])\n",
    "    if task=='rating': plt.ylim([1.05, 1.3])\n",
    "    sns.despine(ax=ax, offset=3)\n",
    "    plt.savefig(figdir + f'{task}_metrics_IS.png', dpi=200, bbox_inches='tight')"
   ]
  },
  {
   "cell_type": "code",
   "execution_count": 33,
   "metadata": {
    "scrolled": true
   },
   "outputs": [
    {
     "name": "stdout",
     "output_type": "stream",
     "text": [
      "IS is already present, replacing\n"
     ]
    },
    {
     "data": {
      "text/html": [
       "<div>\n",
       "<style scoped>\n",
       "    .dataframe tbody tr th:only-of-type {\n",
       "        vertical-align: middle;\n",
       "    }\n",
       "\n",
       "    .dataframe tbody tr th {\n",
       "        vertical-align: top;\n",
       "    }\n",
       "\n",
       "    .dataframe thead th {\n",
       "        text-align: right;\n",
       "    }\n",
       "</style>\n",
       "<table border=\"1\" class=\"dataframe\">\n",
       "  <thead>\n",
       "    <tr style=\"text-align: right;\">\n",
       "      <th></th>\n",
       "      <th>metric</th>\n",
       "      <th>iteration</th>\n",
       "      <th>iteration2</th>\n",
       "      <th>p</th>\n",
       "      <th>z</th>\n",
       "    </tr>\n",
       "  </thead>\n",
       "  <tbody>\n",
       "    <tr>\n",
       "      <th>0</th>\n",
       "      <td>IS</td>\n",
       "      <td>344.0</td>\n",
       "      <td>1055</td>\n",
       "      <td>1.152955e-08</td>\n",
       "      <td>5.706540</td>\n",
       "    </tr>\n",
       "    <tr>\n",
       "      <th>1</th>\n",
       "      <td>IS</td>\n",
       "      <td>1055.0</td>\n",
       "      <td>7954</td>\n",
       "      <td>5.456961e-01</td>\n",
       "      <td>-0.604222</td>\n",
       "    </tr>\n",
       "    <tr>\n",
       "      <th>2</th>\n",
       "      <td>IS</td>\n",
       "      <td>7954.0</td>\n",
       "      <td>24440</td>\n",
       "      <td>8.719943e-01</td>\n",
       "      <td>0.161126</td>\n",
       "    </tr>\n",
       "    <tr>\n",
       "      <th>3</th>\n",
       "      <td>IS</td>\n",
       "      <td>24440.0</td>\n",
       "      <td>60000</td>\n",
       "      <td>6.969895e-01</td>\n",
       "      <td>0.389387</td>\n",
       "    </tr>\n",
       "    <tr>\n",
       "      <th>4</th>\n",
       "      <td>IS</td>\n",
       "      <td>60000.0</td>\n",
       "      <td>real</td>\n",
       "      <td>1.309466e-03</td>\n",
       "      <td>-3.213897</td>\n",
       "    </tr>\n",
       "  </tbody>\n",
       "</table>\n",
       "</div>"
      ],
      "text/plain": [
       "  metric  iteration iteration2             p         z\n",
       "0     IS      344.0       1055  1.152955e-08  5.706540\n",
       "1     IS     1055.0       7954  5.456961e-01 -0.604222\n",
       "2     IS     7954.0      24440  8.719943e-01  0.161126\n",
       "3     IS    24440.0      60000  6.969895e-01  0.389387\n",
       "4     IS    60000.0       real  1.309466e-03 -3.213897"
      ]
     },
     "execution_count": 33,
     "metadata": {},
     "output_type": "execute_result"
    }
   ],
   "source": [
    "stat = wilcoxon_ranksum(df_is, 'IS', stat, do_print=False)\n",
    "stat"
   ]
  },
  {
   "cell_type": "code",
   "execution_count": 34,
   "metadata": {},
   "outputs": [
    {
     "name": "stdout",
     "output_type": "stream",
     "text": [
      "iteration-metric rank correlation: SpearmanrResult(correlation=-0.3931699195302991, pvalue=2.705237294428082e-07)\n",
      "iteration 60000 vs real: RanksumsResult(statistic=-3.213897074060535, pvalue=0.0013094660324151069)\n"
     ]
    }
   ],
   "source": [
    "# rank correlation: iteration vs metric\n",
    "tmp = df_is[df_is.iteration != 'real']\n",
    "print('iteration-metric rank correlation:', stats.spearmanr(tmp['iteration'], tmp['IS']))\n",
    "print('iteration 60000 vs real:', stats.ranksums(df_is[df_is.iteration==60000].IS, df_is[df_is.iteration=='real'].IS))"
   ]
  },
  {
   "cell_type": "code",
   "execution_count": 31,
   "metadata": {},
   "outputs": [
    {
     "name": "stdout",
     "output_type": "stream",
     "text": [
      "                 Results: Ordinary least squares\n",
      "=================================================================\n",
      "Model:              OLS              Adj. R-squared:     0.143   \n",
      "Dependent Variable: IS               AIC:                101.4808\n",
      "Date:               2022-01-29 16:55 BIC:                107.6311\n",
      "No. Observations:   160              Log-Likelihood:     -48.740 \n",
      "Df Model:           1                F-statistic:        27.55   \n",
      "Df Residuals:       158              Prob (F-statistic): 4.87e-07\n",
      "R-squared:          0.148            Scale:              0.10904 \n",
      "-------------------------------------------------------------------\n",
      "           Coef.    Std.Err.      t      P>|t|     [0.025    0.975]\n",
      "-------------------------------------------------------------------\n",
      "x1        -0.0713     0.0136   -5.2486   0.0000   -0.0981   -0.0445\n",
      "const      1.8912     0.1194   15.8412   0.0000    1.6554    2.1270\n",
      "-----------------------------------------------------------------\n",
      "Omnibus:             145.661      Durbin-Watson:         1.655   \n",
      "Prob(Omnibus):       0.000        Jarque-Bera (JB):      2022.548\n",
      "Skew:                3.378        Prob(JB):              0.000   \n",
      "Kurtosis:            19.054       Condition No.:         41      \n",
      "=================================================================\n",
      "\n"
     ]
    }
   ],
   "source": [
    "tmp = df_is[df_is.iteration != 'real']\n",
    "linear_regression(tmp['IS'], tmp['iteration'])"
   ]
  },
  {
   "cell_type": "markdown",
   "metadata": {},
   "source": [
    "----\n",
    "\n",
    "<a id=\"modified_inception\"></a>\n",
    "# Modified Inception score\n",
    "[back to top](#top)"
   ]
  },
  {
   "cell_type": "code",
   "execution_count": 36,
   "metadata": {},
   "outputs": [],
   "source": [
    "def calculate_modified_inception_score(pred_softmax, do_exp=True, eps=1E-16):\n",
    "    p_yx = pred_softmax\n",
    "    \n",
    "    # predicted classes\n",
    "    class_labels = pred_softmax.argmax(axis=1)\n",
    "\n",
    "    # calculate modified score per class\n",
    "    kl_d = []\n",
    "#     print('classes:', np.unique(class_labels))\n",
    "    for c in np.unique(class_labels): # -- per class -- \n",
    "        p_yx_c = p_yx[class_labels == c,:]\n",
    "#         print('class c:', p_yx_c.shape)\n",
    "        kls = []\n",
    "        for ix1 in range(p_yx_c.shape[0]):\n",
    "            kl2 = []\n",
    "            for ix2 in range(p_yx_c.shape[0]):\n",
    "                if ix1==ix2: continue\n",
    "                kl = p_yx_c[ix1,:] * ( np.log(p_yx_c[ix1,:] + eps) - np.log(p_yx_c[ix2,:] + eps) )\n",
    "                kl2.append(kl.sum())\n",
    "            if len(kl2)>0: kls.append(sum(kl2)/len(kl2))\n",
    "    \n",
    "        # append within-class mean\n",
    "        if len(kls)>1: kl_d.append(sum(kls)/len(kls))\n",
    "\n",
    "#     print('kl_d:', len(kl_d))\n",
    "    kl_d = sum(kl_d)/len(kl_d)\n",
    "#     kl_d = sum(kl_d)\n",
    "    \n",
    "    mis_score = np.exp(kl_d) if do_exp else kl_d\n",
    "    return mis_score #, class_labels"
   ]
  },
  {
   "cell_type": "code",
   "execution_count": 37,
   "metadata": {},
   "outputs": [],
   "source": [
    "# load inception model\n",
    "inception_model = tf.keras.applications.InceptionV3(\n",
    "    include_top=True, weights='imagenet', input_tensor=None,\n",
    "    input_shape=None, pooling=None, classes=1000,\n",
    "    classifier_activation='softmax'\n",
    ")"
   ]
  },
  {
   "cell_type": "code",
   "execution_count": 38,
   "metadata": {},
   "outputs": [],
   "source": [
    "# calculate predictions for all images\n",
    "pred_softmax = inception_model.predict(images_tf, batch_size=16)"
   ]
  },
  {
   "cell_type": "code",
   "execution_count": 39,
   "metadata": {},
   "outputs": [
    {
     "name": "stdout",
     "output_type": "stream",
     "text": [
      "processing iteration 344\n",
      "processing iteration 1055\n",
      "processing iteration 7954\n",
      "processing iteration 24440\n",
      "processing iteration 60000\n",
      "processing iteration real\n"
     ]
    }
   ],
   "source": [
    "df_mis = []\n",
    "\n",
    "for it in iterations + ['real'] :\n",
    "    print('processing iteration', it)\n",
    "    # find start and end index of images corresponding to this iteration\n",
    "    im_ix = (df_images['iteration'] == str(it)).to_numpy().nonzero()[0][[0,-1]]\n",
    "    mis = bootstrap1(pred_softmax[im_ix[0]:im_ix[1]+1,:], calculate_modified_inception_score, n_bootstrap)\n",
    "    tmp = pd.DataFrame({'bootstrap':range(n_bootstrap), 'MIS':mis})\n",
    "    tmp['iteration'] = it\n",
    "    df_mis.append(tmp)\n",
    "    \n",
    "df_mis = pd.concat(df_mis, axis=0)"
   ]
  },
  {
   "cell_type": "code",
   "execution_count": 40,
   "metadata": {
    "scrolled": true
   },
   "outputs": [
    {
     "name": "stdout",
     "output_type": "stream",
     "text": [
      "iteration 60000 vs Real: RanksumsResult(statistic=-6.6606781063057605, pvalue=2.7256703133333784e-11)\n"
     ]
    },
    {
     "data": {
      "image/png": "[encoded data removed]",
      "text/plain": [
       "<Figure size 432x288 with 1 Axes>"
      ]
     },
     "metadata": {},
     "output_type": "display_data"
    }
   ],
   "source": [
    "with sns.plotting_context(\"paper\", font_scale=2):  # notebook paper slides\n",
    "    sns.set_style(\"whitegrid\")\n",
    "    ax = sns.barplot(x='iteration', y='MIS', palette=\"magma\", data=df_mis)\n",
    "    plt.title('Modified Inception Score')\n",
    "    if task=='detection': plt.ylim((1.05, 1.55))\n",
    "    if task=='rating': plt.ylim((1.05, 1.34))\n",
    "    sns.despine(ax=ax, offset=3)\n",
    "    plt.savefig(figdir + f'{task}_metrics_MIS.png', dpi=200, bbox_inches='tight')\n",
    "    \n",
    "print('iteration 60000 vs Real:', stats.ranksums(df_mis[df_mis.iteration == 60000]['MIS'],df_mis[df_mis.iteration == 'real']['MIS']))"
   ]
  },
  {
   "cell_type": "code",
   "execution_count": 41,
   "metadata": {},
   "outputs": [
    {
     "name": "stdout",
     "output_type": "stream",
     "text": [
      "iteration-metric rank correlation: SpearmanrResult(correlation=-0.2857188529954785, pvalue=7.562696373963313e-11)\n",
      "iteration 60000 vs real: RanksumsResult(statistic=-6.6606781063057605, pvalue=2.7256703133333784e-11)\n"
     ]
    }
   ],
   "source": [
    "# rank correlation: iteration vs metric\n",
    "tmp = df_mis[df_mis.iteration != 'real']\n",
    "print('iteration-metric rank correlation:', stats.spearmanr(tmp['iteration'], tmp['MIS']))\n",
    "print('iteration 60000 vs real:', stats.ranksums(df_mis[df_mis.iteration==60000].MIS, df_mis[df_mis.iteration=='real'].MIS))"
   ]
  },
  {
   "cell_type": "code",
   "execution_count": 42,
   "metadata": {},
   "outputs": [
    {
     "name": "stdout",
     "output_type": "stream",
     "text": [
      "                 Results: Ordinary least squares\n",
      "==================================================================\n",
      "Model:              OLS              Adj. R-squared:     0.188    \n",
      "Dependent Variable: MIS              AIC:                -648.0731\n",
      "Date:               2022-01-29 22:00 BIC:                -639.6439\n",
      "No. Observations:   500              Log-Likelihood:     326.04   \n",
      "Df Model:           1                F-statistic:        116.4    \n",
      "Df Residuals:       498              Prob (F-statistic): 1.54e-24 \n",
      "R-squared:          0.190            Scale:              0.015954 \n",
      "--------------------------------------------------------------------\n",
      "           Coef.    Std.Err.      t       P>|t|     [0.025    0.975]\n",
      "--------------------------------------------------------------------\n",
      "x1        -0.0317     0.0029   -10.7909   0.0000   -0.0375   -0.0259\n",
      "const      1.5412     0.0258    59.6591   0.0000    1.4904    1.5919\n",
      "------------------------------------------------------------------\n",
      "Omnibus:               47.449       Durbin-Watson:          0.844 \n",
      "Prob(Omnibus):         0.000        Jarque-Bera (JB):       60.139\n",
      "Skew:                  0.754        Prob(JB):               0.000 \n",
      "Kurtosis:              3.782        Condition No.:          41    \n",
      "==================================================================\n",
      "\n"
     ]
    }
   ],
   "source": [
    "tmp = df_mis[df_mis.iteration != 'real']\n",
    "linear_regression(tmp['MIS'], tmp['iteration'])"
   ]
  },
  {
   "cell_type": "markdown",
   "metadata": {},
   "source": [
    "---\n",
    "\n",
    "\n",
    "<a id=\"frechet\"></a>\n",
    "# Frechet Inception Distance\n",
    "[back to top](#top)\n",
    "\n",
    "based on https://github.com/bioinf-jku/TTUR/blob/master/fid.py\n"
   ]
  },
  {
   "cell_type": "code",
   "execution_count": 43,
   "metadata": {},
   "outputs": [],
   "source": [
    "# based on: https://machinelearningmastery.com/how-to-implement-the-frechet-inception-distance-fid-from-scratch/\n",
    "def calculate_fid(act1, act2):\n",
    "    # calculate mean and covariance statistics\n",
    "    mu1, sigma1 = act1.mean(axis=0), np.cov(act1, rowvar=False)\n",
    "    mu2, sigma2 = act2.mean(axis=0), np.cov(act2, rowvar=False)\n",
    "    \n",
    "    # calculate sum squared difference between means\n",
    "    ssdiff = np.sum((mu1 - mu2)**2.0)\n",
    "    \n",
    "    # calculate sqrt of product between cov\n",
    "    covmean = scipy.linalg.sqrtm(sigma1.dot(sigma2))\n",
    "    \n",
    "    # check and correct imaginary numbers from sqrt\n",
    "    if np.iscomplexobj(covmean):\n",
    "        covmean = covmean.real\n",
    "        \n",
    "    # calculate score\n",
    "    fid = ssdiff + np.trace(sigma1 + sigma2 - 2.0 * covmean)\n",
    "    return fid"
   ]
  },
  {
   "cell_type": "code",
   "execution_count": 44,
   "metadata": {},
   "outputs": [],
   "source": [
    "# load inception model without last layer\n",
    "inception_model = tf.keras.applications.InceptionV3(\n",
    "    include_top=False, weights='imagenet', input_tensor=None,\n",
    "    input_shape=None, pooling='avg', classes=1000\n",
    ")"
   ]
  },
  {
   "cell_type": "code",
   "execution_count": 45,
   "metadata": {},
   "outputs": [
    {
     "data": {
      "text/plain": [
       "(240, 2048)"
      ]
     },
     "execution_count": 45,
     "metadata": {},
     "output_type": "execute_result"
    }
   ],
   "source": [
    "# calculate predictions for all images\n",
    "pred = inception_model.predict(images_tf, batch_size=16)\n",
    "pred.shape"
   ]
  },
  {
   "cell_type": "code",
   "execution_count": 46,
   "metadata": {},
   "outputs": [
    {
     "name": "stdout",
     "output_type": "stream",
     "text": [
      "processing iteration 344\n",
      "processing iteration 1055\n",
      "processing iteration 7954\n",
      "processing iteration 24440\n",
      "processing iteration 60000\n"
     ]
    }
   ],
   "source": [
    "real_ix = (df_images['iteration'] == 'real').to_numpy().nonzero()[0][[0,-1]]\n",
    "act1 = pred[real_ix[0]:real_ix[1]+1,:]\n",
    "df_fid = []\n",
    "\n",
    "for it in iterations:\n",
    "    print('processing iteration', it)\n",
    "    # find start and end index of images corresponding to this iteration\n",
    "    gan_ix = (df_images['iteration'] == str(it)).to_numpy().nonzero()[0][[0,-1]]\n",
    "    act2 = pred[gan_ix[0]:gan_ix[1]+1,:]\n",
    "    fid = bootstrap2(act1, act2, calculate_fid, n_bootstrap)\n",
    "    tmp = pd.DataFrame({'bootstrap':range(n_bootstrap), 'FID':fid})\n",
    "    tmp['iteration'] = it\n",
    "    df_fid.append(tmp)\n",
    "    \n",
    "df_fid = pd.concat(df_fid, axis=0)"
   ]
  },
  {
   "cell_type": "code",
   "execution_count": 47,
   "metadata": {
    "scrolled": true
   },
   "outputs": [
    {
     "data": {
      "image/png": "[encoded data removed]",
      "text/plain": [
       "<Figure size 432x288 with 1 Axes>"
      ]
     },
     "metadata": {},
     "output_type": "display_data"
    }
   ],
   "source": [
    "with sns.plotting_context(\"paper\", font_scale=2):  # notebook paper slides\n",
    "    sns.set_style(\"whitegrid\")\n",
    "    ax = sns.barplot(x='iteration', y='FID', palette=\"magma\", data=df_fid)\n",
    "#     plt.ylim([20, 160]); ax.set_yticks(range(20, 160, 20))\n",
    "    plt.title('Frechet Inception Distance')\n",
    "    sns.despine(ax=ax, offset=3)\n",
    "    plt.savefig(figdir + f'{task}_metrics_FID.png', dpi=200, bbox_inches='tight')"
   ]
  },
  {
   "cell_type": "code",
   "execution_count": 48,
   "metadata": {},
   "outputs": [
    {
     "name": "stdout",
     "output_type": "stream",
     "text": [
      "iteration-metric rank correlation: SpearmanrResult(correlation=-0.6858095098048255, pvalue=9.824566713660232e-71)\n",
      "iteration 60000 vs 24440: RanksumsResult(statistic=12.216944435630522, pvalue=2.5239394239903128e-34)\n"
     ]
    }
   ],
   "source": [
    "# rank correlation: iteration vs metric\n",
    "tmp = df_fid[df_fid.iteration != 'real']\n",
    "print('iteration-metric rank correlation:', stats.spearmanr(tmp['iteration'], tmp['FID']))\n",
    "print('iteration 60000 vs 24440:', stats.ranksums(df_fid[df_fid.iteration==60000].FID, df_fid[df_fid.iteration==24440].FID))"
   ]
  },
  {
   "cell_type": "code",
   "execution_count": 49,
   "metadata": {},
   "outputs": [
    {
     "name": "stdout",
     "output_type": "stream",
     "text": [
      "                 Results: Ordinary least squares\n",
      "==================================================================\n",
      "Model:              OLS              Adj. R-squared:     0.724    \n",
      "Dependent Variable: FID              AIC:                4540.8703\n",
      "Date:               2022-01-29 23:13 BIC:                4549.2995\n",
      "No. Observations:   500              Log-Likelihood:     -2268.4  \n",
      "Df Model:           1                F-statistic:        1310.    \n",
      "Df Residuals:       498              Prob (F-statistic): 1.56e-141\n",
      "R-squared:          0.725            Scale:              512.79   \n",
      "-------------------------------------------------------------------\n",
      "            Coef.    Std.Err.     t      P>|t|    [0.025    0.975] \n",
      "-------------------------------------------------------------------\n",
      "x1         -19.0684    0.5268  -36.1934  0.0000  -20.1035  -18.0333\n",
      "const      247.2994    4.6313   53.3972  0.0000  238.2001  256.3988\n",
      "------------------------------------------------------------------\n",
      "Omnibus:             2611.699       Durbin-Watson:          0.050 \n",
      "Prob(Omnibus):       0.000          Jarque-Bera (JB):       70.690\n",
      "Skew:                0.311          Prob(JB):               0.000 \n",
      "Kurtosis:            1.266          Condition No.:          41    \n",
      "==================================================================\n",
      "\n"
     ]
    }
   ],
   "source": [
    "# linear regression\n",
    "tmp = df_fid[df_fid.iteration != 'real']\n",
    "linear_regression(tmp['FID'], tmp['iteration'])"
   ]
  },
  {
   "cell_type": "markdown",
   "metadata": {},
   "source": [
    "---\n",
    "\n",
    "\n",
    "<a id=\"mmd\"></a>\n",
    "# Maximum Mean Discrepancy (MMD)\n",
    "[back to top](#top)"
   ]
  },
  {
   "cell_type": "code",
   "execution_count": 50,
   "metadata": {},
   "outputs": [],
   "source": [
    "def calculate_mmd(im1, im2):\n",
    "    '''\n",
    "    im1, im2: (n_samples, n_features) matrices of images\n",
    "    '''\n",
    "    from sklearn.metrics.pairwise import rbf_kernel\n",
    "    n1 = im1.shape[0]\n",
    "    mmd = rbf_kernel(im1,im1).sum() + rbf_kernel(im2,im2).sum() - 2*rbf_kernel(im1,im2).sum()\n",
    "    \n",
    "    return mmd"
   ]
  },
  {
   "cell_type": "code",
   "execution_count": 51,
   "metadata": {},
   "outputs": [],
   "source": [
    "# load inception model without last layer\n",
    "inception_model = tf.keras.applications.InceptionV3(\n",
    "    include_top=False, weights='imagenet', input_tensor=None,\n",
    "    input_shape=None, pooling='avg', classes=1000\n",
    ")"
   ]
  },
  {
   "cell_type": "code",
   "execution_count": 52,
   "metadata": {},
   "outputs": [],
   "source": [
    "# calculate VGG predictions for all images\n",
    "pred = inception_model.predict(images_tf, batch_size=16)"
   ]
  },
  {
   "cell_type": "code",
   "execution_count": 53,
   "metadata": {},
   "outputs": [],
   "source": [
    "# alternatively, extract pixels directly using a brain mask\n",
    "# im_pixels = np.zeros((n_images, mask_2d.sum()))\n",
    "\n",
    "# for n in range(n_images):\n",
    "#     im_pixels[n, :] = images_tf.numpy()[n, :, :, 0][mask_2d]"
   ]
  },
  {
   "cell_type": "code",
   "execution_count": 54,
   "metadata": {},
   "outputs": [
    {
     "name": "stdout",
     "output_type": "stream",
     "text": [
      "processing iteration 344\n",
      "processing iteration 1055\n",
      "processing iteration 7954\n",
      "processing iteration 24440\n",
      "processing iteration 60000\n"
     ]
    }
   ],
   "source": [
    "real_ix = (df_images['iteration'] == 'real').to_numpy().nonzero()[0][[0,-1]]\n",
    "real_pred = pred[real_ix[0]:real_ix[1]+1,:]\n",
    "df_mmd = []\n",
    "\n",
    "for it in iterations:\n",
    "    print('processing iteration', it)\n",
    "    # find start and end index of images corresponding to this iteration\n",
    "    gan_ix = (df_images['iteration'] == str(it)).to_numpy().nonzero()[0][[0,-1]]\n",
    "    gan_pred = pred[gan_ix[0]:gan_ix[1]+1,:]\n",
    "#     gan_pixels = im_pixels[gan_ix[0]:gan_ix[1]+1,:]\n",
    "    mmd_pred = bootstrap2(real_pred, gan_pred, calculate_mmd, n_bootstrap=n_bootstrap)\n",
    "    tmp  = pd.DataFrame({'bootstrap':range(n_bootstrap), 'MMD':mmd_pred, 'iteration':it, 'features':'VGG'})\n",
    "    df_mmd.append(tmp)\n",
    "#     mmd_pixels = bootstrap2(im_pixels[real_ix[0]:real_ix[1]+1,:], gan_pixels, calculate_mmd, n_bootstrap=n_bootstrap)\n",
    "#     tmp2 = pd.DataFrame({'bootstrap':range(n_bootstrap), 'MMD':mmd_pixels, 'iteration':it, 'features':'pixels'})\n",
    "#     df_mmd.extend([tmp,tmp2])\n",
    "    \n",
    "df_mmd = pd.concat(df_mmd, axis=0)"
   ]
  },
  {
   "cell_type": "code",
   "execution_count": 55,
   "metadata": {
    "scrolled": true
   },
   "outputs": [
    {
     "data": {
      "image/png": "[encoded data removed]",
      "text/plain": [
       "<Figure size 432x288 with 1 Axes>"
      ]
     },
     "metadata": {},
     "output_type": "display_data"
    }
   ],
   "source": [
    "with sns.plotting_context(\"paper\", font_scale=2):  # notebook paper slides\n",
    "    sns.set_style(\"whitegrid\")\n",
    "    ax = sns.barplot(x='iteration', y='MMD', palette=\"magma\", data=df_mmd)\n",
    "#     ax = sns.barplot(x='iteration', y='MMD', palette=\"magma\", hue='features', data=df_mmd)\n",
    "    plt.title('Maximum Mean Discrepancy')\n",
    "    sns.despine(ax=ax, offset=3)\n",
    "#     ax.set_yticks([2200, 2300, 2400, 2500, 2600])\n",
    "    if task=='detection': plt.ylim([2220, 2530])\n",
    "    plt.savefig(figdir + f'{task}_metrics_MMD.png', dpi=200, bbox_inches='tight')\n",
    "\n",
    "# print('VGG features:')\n",
    "# df = df_mmd[df_mmd.features == 'VGG']\n",
    "# print('iteration 344 vs 1055:', stats.ranksums(df[df.iteration == 344]['MMD'],df[df.iteration == 1055]['MMD']))    \n",
    "# print('iteration 7954 vs 24440:', stats.ranksums(df[df.iteration == 7954]['MMD'],df[df.iteration == 24440]['MMD']))    \n",
    "# print('iteration 24440 vs 60000:', stats.ranksums(df[df.iteration == 24440]['MMD'],df[df.iteration == 60000]['MMD']))    \n",
    "\n",
    "# print('pixels features:')\n",
    "# df = df_mmd[df_mmd.features == 'pixels']\n",
    "# print('Batch 344 vs 1055:', stats.ranksums(df[df.batch == 344]['MMD'],df[df.batch == 1055]['MMD']))    \n",
    "# print('Batch 7954 vs 24440:', stats.ranksums(df[df.batch == 7954]['MMD'],df[df.batch == 24440]['MMD']))    \n",
    "# print('Batch 24440 vs 60000:', stats.ranksums(df[df.batch == 24440]['MMD'],df[df.batch == 60000]['MMD']))    "
   ]
  },
  {
   "cell_type": "code",
   "execution_count": 56,
   "metadata": {},
   "outputs": [],
   "source": [
    "# stat = wilcoxon_ranksum(df_mmd[df_mmd.features=='VGG'], 'MMD', stat, appendix='_VGG', do_print=False)\n",
    "# stat = wilcoxon_ranksum(df_mmd[df_mmd.features=='pixels'], 'MMD', stat, appendix='_pixels', do_print=False, do_remove=False)\n",
    "# stat.tail(10)"
   ]
  },
  {
   "cell_type": "code",
   "execution_count": 57,
   "metadata": {},
   "outputs": [
    {
     "name": "stdout",
     "output_type": "stream",
     "text": [
      "iteration 60000 vs 24440: RanksumsResult(statistic=12.216944435630522, pvalue=2.5239394239903128e-34)\n",
      "iteration-metric rank correlation: SpearmanrResult(correlation=-0.6962541716675313, pvalue=9.947928761667542e-74)\n"
     ]
    }
   ],
   "source": [
    "# rank correlation: batch vs metric\n",
    "# rank correlation: iteration vs metric\n",
    "print('iteration 60000 vs 24440:', stats.ranksums(df_mmd[df_mmd.iteration==60000].MMD, df_mmd[df_mmd.iteration==24440].MMD))\n",
    "print('iteration-metric rank correlation:', stats.spearmanr(df_mmd['iteration'], df_mmd['MMD']))"
   ]
  },
  {
   "cell_type": "code",
   "execution_count": 58,
   "metadata": {},
   "outputs": [
    {
     "name": "stdout",
     "output_type": "stream",
     "text": [
      "                 Results: Ordinary least squares\n",
      "==================================================================\n",
      "Model:              OLS              Adj. R-squared:     0.740    \n",
      "Dependent Variable: MMD              AIC:                5288.3801\n",
      "Date:               2022-01-29 23:14 BIC:                5296.8093\n",
      "No. Observations:   500              Log-Likelihood:     -2642.2  \n",
      "Df Model:           1                F-statistic:        1423.    \n",
      "Df Residuals:       498              Prob (F-statistic): 4.29e-148\n",
      "R-squared:          0.741            Scale:              2286.8   \n",
      "-------------------------------------------------------------------\n",
      "          Coef.    Std.Err.     t      P>|t|     [0.025     0.975] \n",
      "-------------------------------------------------------------------\n",
      "x1       -41.9681    1.1126  -37.7220  0.0000   -44.1539   -39.7822\n",
      "const   2701.7689    9.7801  276.2513  0.0000  2682.5535  2720.9843\n",
      "------------------------------------------------------------------\n",
      "Omnibus:             2820.598       Durbin-Watson:          0.084 \n",
      "Prob(Omnibus):       0.000          Jarque-Bera (JB):       67.092\n",
      "Skew:                0.319          Prob(JB):               0.000 \n",
      "Kurtosis:            1.323          Condition No.:          41    \n",
      "==================================================================\n",
      "\n"
     ]
    }
   ],
   "source": [
    "# linear regression\n",
    "tmp = df_mmd[df_mmd.iteration != 'real']\n",
    "linear_regression(tmp['MMD'], tmp['iteration'])"
   ]
  },
  {
   "cell_type": "markdown",
   "metadata": {},
   "source": [
    "---\n",
    "\n",
    "<a id=\"vmaf\"></a>\n",
    "# VMAF\n",
    "[back to top](#top)\n",
    "\n",
    "For VMAF, images need to be converted. We pad the images to 480 x 360 (360p) and save them as `.yuv` format."
   ]
  },
  {
   "cell_type": "code",
   "execution_count": null,
   "metadata": {},
   "outputs": [],
   "source": [
    "# Load images\n",
    "images = np.zeros((n_images, 135, 355, 3))\n",
    "\n",
    "for index, row in df_images.iterrows():\n",
    "    im = np.array(PIL.Image.open(imagedir + row['image'] + '.png'))[:,:,:3]\n",
    "    im = im[75:210,45:400]  # cut away the empty area around the MRI\n",
    "    images[index, :, :, :] = im\n",
    "    \n",
    "im_h, im_w = im.shape[:2]\n",
    "print('Image:', im_w, 'x', im_h)"
   ]
  },
  {
   "cell_type": "code",
   "execution_count": null,
   "metadata": {},
   "outputs": [],
   "source": [
    "# Pad images\n",
    "w, h = 480, 360 # 360p\n",
    "images_tf = tf.image.pad_to_bounding_box(images, offset_width=(w - im_w)//2, \\\n",
    "                             offset_height=(h - im_h)//2, \n",
    "                            target_height=h, target_width=w)"
   ]
  },
  {
   "cell_type": "code",
   "execution_count": null,
   "metadata": {},
   "outputs": [],
   "source": [
    "# Save padded images in 360p folder\n",
    "for index, row in df_images.iterrows():\n",
    "    filename = imagedir + 'images_vmaf_360p/' + row['image'] + '.png'\n",
    "    tf.keras.preprocessing.image.save_img(filename, images_tf[index,:,:,:])"
   ]
  },
  {
   "cell_type": "code",
   "execution_count": null,
   "metadata": {},
   "outputs": [],
   "source": [
    "# -- Requires the FFMEG command line tool --\n",
    "# Convert PNG to YUV (yuv420p = 8-bit encoding)\n",
    "# https://sh-tsang.medium.com/tutorial-converting-png-to-yuv-using-ffmpeg-or-opencv-c-api-a65f387609ad\n",
    "# In the BASH run this:\n",
    "# for f in `ls *png`; do echo \"$f -> ${f%.png}.yuv\"; ffmpeg -i $f -pix_fmt yuv420p ../images_vmaf_yuv/${f%.png}.yuv; done"
   ]
  },
  {
   "cell_type": "code",
   "execution_count": null,
   "metadata": {},
   "outputs": [],
   "source": [
    "# -- Requires the VMAF command line tool --\n",
    "# https://github.com/Netflix/vmaf/blob/master/libvmaf/tools/README.md\n",
    "# We run a double loop in the bash, looping across all combinations of real and generated images\n",
    "# The first loop is for real images, the second loop for generated ones\n",
    "# Each time the VMAF and other metrics (psnr, ssim, ms-ssim) are stored in a csv file\n",
    "# In the BASH run this:\n"
   ]
  },
  {
   "cell_type": "code",
   "execution_count": 59,
   "metadata": {},
   "outputs": [
    {
     "name": "stdout",
     "output_type": "stream",
     "text": [
      "2560 csv files found in iteration 344\n",
      "2560 csv files found in iteration 1055\n",
      "2560 csv files found in iteration 7954\n",
      "2560 csv files found in iteration 24440\n",
      "2560 csv files found in iteration 60000\n"
     ]
    }
   ],
   "source": [
    "# -- LOADING RESULTS --\n",
    "# load VMAF from CSV files and store in single dataframe\n",
    "df_vmaf = []\n",
    "for it in iterations:\n",
    "    if task == 'detection':\n",
    "        files = glob(imagedir + f'images_vmaf_yuv/real*_batch_{it}_im*.csv')\n",
    "    elif task == 'rating':\n",
    "        files = glob(imagedir + f'images_vmaf_yuv_rating/real*_batch_{it}_im*.csv')\n",
    "    print(f'{len(files)} csv files found in iteration {it}')\n",
    "    for file in files:\n",
    "        df = pd.read_csv(file)\n",
    "        df = df[['psnr_y', 'float_ssim', 'float_ms_ssim', 'vmaf']]\n",
    "        df['iteration'] = it\n",
    "        df_vmaf.append(df)\n",
    "\n",
    "df_vmaf = pd.concat(df_vmaf, axis=0)"
   ]
  },
  {
   "cell_type": "code",
   "execution_count": 60,
   "metadata": {},
   "outputs": [],
   "source": [
    "df_vmaf = df_vmaf.rename(columns={'psnr_y':'PSNR', 'float_ssim':'SSIM','float_ms_ssim':'MS-SSIM', \n",
    "                       'vmaf':'VMAF'})"
   ]
  },
  {
   "cell_type": "code",
   "execution_count": 61,
   "metadata": {},
   "outputs": [
    {
     "data": {
      "image/png": "[encoded data removed]",
      "text/plain": [
       "<Figure size 432x288 with 1 Axes>"
      ]
     },
     "metadata": {},
     "output_type": "display_data"
    }
   ],
   "source": [
    "metric = 'PSNR'\n",
    "metric = 'MS-SSIM'\n",
    "metric = 'SSIM'\n",
    "metric = 'VMAF'\n",
    "with sns.plotting_context(\"paper\", font_scale=2):  # notebook paper slides\n",
    "    sns.set_style(\"whitegrid\")\n",
    "    ax = sns.barplot(x='iteration', y=metric, palette=\"magma\", data=df_vmaf)\n",
    "#     plt.ylim([2200, 2600]); ax.set_yticks([2200, 2300, 2400, 2500, 2600])\n",
    "    plt.title(metric)\n",
    "#     ax.add_line(Line2D([3.1,3.1,3.9,3.9], [30,35,35,30], color='k'))\n",
    "#     yl = plt.ylim()\n",
    "#     plt.ylim((yl[0], yl[1]+5))\n",
    "    if metric == 'PSNR': plt.ylim((22.1, 25.55))\n",
    "    elif metric == 'MS-SSIM': plt.ylim((0.925, 0.967))\n",
    "    elif metric == 'SSIM': plt.ylim((0.9, 0.949))\n",
    "    elif metric == 'VMAF': plt.ylim((6, 33.5))\n",
    "    sns.despine(ax=ax, offset=3)\n",
    "    plt.savefig(figdir + f'{task}_metrics_{metric}.png', dpi=200, bbox_inches='tight')"
   ]
  },
  {
   "cell_type": "code",
   "execution_count": 62,
   "metadata": {},
   "outputs": [
    {
     "name": "stdout",
     "output_type": "stream",
     "text": [
      "--- PSNR ---\n",
      "                  Results: Ordinary least squares\n",
      "===================================================================\n",
      "Model:              OLS              Adj. R-squared:     0.230     \n",
      "Dependent Variable: PSNR             AIC:                37682.0201\n",
      "Date:               2022-01-29 23:15 BIC:                37696.9345\n",
      "No. Observations:   12800            Log-Likelihood:     -18839.   \n",
      "Df Model:           1                F-statistic:        3827.     \n",
      "Df Residuals:       12798            Prob (F-statistic): 0.00      \n",
      "R-squared:          0.230            Scale:              1.1117    \n",
      "---------------------------------------------------------------------\n",
      "            Coef.    Std.Err.      t       P>|t|     [0.025    0.975]\n",
      "---------------------------------------------------------------------\n",
      "x1          0.2999     0.0048    61.8624   0.0000    0.2904    0.3094\n",
      "const      21.9812     0.0426   515.7609   0.0000   21.8977   22.0648\n",
      "-------------------------------------------------------------------\n",
      "Omnibus:              703.250       Durbin-Watson:          1.493  \n",
      "Prob(Omnibus):        0.000         Jarque-Bera (JB):       834.101\n",
      "Skew:                 -0.585        Prob(JB):               0.000  \n",
      "Kurtosis:             3.441         Condition No.:          41     \n",
      "===================================================================\n",
      "\n",
      "--- MS-SSIM ---\n",
      "                  Results: Ordinary least squares\n",
      "====================================================================\n",
      "Model:              OLS              Adj. R-squared:     0.339      \n",
      "Dependent Variable: MS-SSIM          AIC:                -74658.8050\n",
      "Date:               2022-01-29 23:15 BIC:                -74643.8906\n",
      "No. Observations:   12800            Log-Likelihood:     37331.     \n",
      "Df Model:           1                F-statistic:        6567.      \n",
      "Df Residuals:       12798            Prob (F-statistic): 0.00       \n",
      "R-squared:          0.339            Scale:              0.00017153 \n",
      "-----------------------------------------------------------------------\n",
      "          Coef.     Std.Err.        t        P>|t|     [0.025    0.975]\n",
      "-----------------------------------------------------------------------\n",
      "x1        0.0049      0.0001      81.0401    0.0000    0.0048    0.0050\n",
      "const     0.9128      0.0005    1724.2363    0.0000    0.9118    0.9138\n",
      "--------------------------------------------------------------------\n",
      "Omnibus:             1659.204       Durbin-Watson:          1.031   \n",
      "Prob(Omnibus):       0.000          Jarque-Bera (JB):       3158.070\n",
      "Skew:                -0.832         Prob(JB):               0.000   \n",
      "Kurtosis:            4.776          Condition No.:          41      \n",
      "====================================================================\n",
      "\n",
      "--- SSIM ---\n",
      "                  Results: Ordinary least squares\n",
      "====================================================================\n",
      "Model:              OLS              Adj. R-squared:     0.605      \n",
      "Dependent Variable: SSIM             AIC:                -80593.2903\n",
      "Date:               2022-01-29 23:15 BIC:                -80578.3759\n",
      "No. Observations:   12800            Log-Likelihood:     40299.     \n",
      "Df Model:           1                F-statistic:        1.964e+04  \n",
      "Df Residuals:       12798            Prob (F-statistic): 0.00       \n",
      "R-squared:          0.605            Scale:              0.00010789 \n",
      "-----------------------------------------------------------------------\n",
      "          Coef.     Std.Err.        t        P>|t|     [0.025    0.975]\n",
      "-----------------------------------------------------------------------\n",
      "x1        0.0067      0.0000     140.1354    0.0000    0.0066    0.0068\n",
      "const     0.8771      0.0004    2089.0616    0.0000    0.8763    0.8779\n",
      "--------------------------------------------------------------------\n",
      "Omnibus:              1349.715       Durbin-Watson:          0.318  \n",
      "Prob(Omnibus):        0.000          Jarque-Bera (JB):       382.663\n",
      "Skew:                 -0.024         Prob(JB):               0.000  \n",
      "Kurtosis:             2.154          Condition No.:          41     \n",
      "====================================================================\n",
      "\n",
      "--- VMAF ---\n",
      "                  Results: Ordinary least squares\n",
      "===================================================================\n",
      "Model:              OLS              Adj. R-squared:     0.487     \n",
      "Dependent Variable: VMAF             AIC:                88899.8635\n",
      "Date:               2022-01-29 23:15 BIC:                88914.7779\n",
      "No. Observations:   12800            Log-Likelihood:     -44448.   \n",
      "Df Model:           1                F-statistic:        1.215e+04 \n",
      "Df Residuals:       12798            Prob (F-statistic): 0.00      \n",
      "R-squared:          0.487            Scale:              60.780    \n",
      "---------------------------------------------------------------------\n",
      "            Coef.    Std.Err.      t       P>|t|     [0.025    0.975]\n",
      "---------------------------------------------------------------------\n",
      "x1          3.9516     0.0358   110.2290   0.0000    3.8813    4.0219\n",
      "const      -6.5746     0.3151   -20.8627   0.0000   -7.1923   -5.9569\n",
      "-------------------------------------------------------------------\n",
      "Omnibus:             1224.180       Durbin-Watson:          0.575  \n",
      "Prob(Omnibus):       0.000          Jarque-Bera (JB):       382.516\n",
      "Skew:                0.103          Prob(JB):               0.000  \n",
      "Kurtosis:            2.178          Condition No.:          41     \n",
      "===================================================================\n",
      "\n"
     ]
    }
   ],
   "source": [
    "# linear regression\n",
    "for m in ('PSNR', 'MS-SSIM', 'SSIM', 'VMAF'):\n",
    "    print('---', m, '---')\n",
    "    linear_regression(df_vmaf[m], df_vmaf['iteration'])"
   ]
  },
  {
   "cell_type": "code",
   "execution_count": 63,
   "metadata": {},
   "outputs": [
    {
     "name": "stdout",
     "output_type": "stream",
     "text": [
      "--- PSNR ---\n",
      "iteration 60000 vs 24440: RanksumsResult(statistic=0.9859164932247665, pvalue=0.32417409267108743)\n",
      "--- MS-SSIM ---\n",
      "iteration 60000 vs 24440: RanksumsResult(statistic=1.2135644120182525, pvalue=0.22491410373989362)\n",
      "--- SSIM ---\n",
      "iteration 60000 vs 24440: RanksumsResult(statistic=-3.337361224315767, pvalue=0.0008457794702643375)\n",
      "--- VMAF ---\n",
      "iteration 60000 vs 24440: RanksumsResult(statistic=6.880908419769018, pvalue=5.947207720459102e-12)\n"
     ]
    }
   ],
   "source": [
    "# Wilcoxon rank-sum\n",
    "for m in ('PSNR', 'MS-SSIM', 'SSIM', 'VMAF'):\n",
    "    print('---', m, '---')\n",
    "    print('iteration 60000 vs 24440:', stats.ranksums(df_vmaf[df_vmaf.iteration==60000][m], df_vmaf[df_vmaf.iteration==24440][m]))"
   ]
  },
  {
   "cell_type": "markdown",
   "metadata": {},
   "source": [
    "---\n",
    "\n",
    "<a id=\"niqe\"></a>\n",
    "# NIQE/BRISQUE\n",
    "[back to top](#top)\n",
    "\n",
    "Load results created with Matlab script `analyze_2D_image_NIQE_BRISQUE.m`"
   ]
  },
  {
   "cell_type": "code",
   "execution_count": 64,
   "metadata": {},
   "outputs": [
    {
     "data": {
      "text/html": [
       "<div>\n",
       "<style scoped>\n",
       "    .dataframe tbody tr th:only-of-type {\n",
       "        vertical-align: middle;\n",
       "    }\n",
       "\n",
       "    .dataframe tbody tr th {\n",
       "        vertical-align: top;\n",
       "    }\n",
       "\n",
       "    .dataframe thead th {\n",
       "        text-align: right;\n",
       "    }\n",
       "</style>\n",
       "<table border=\"1\" class=\"dataframe\">\n",
       "  <thead>\n",
       "    <tr style=\"text-align: right;\">\n",
       "      <th></th>\n",
       "      <th>image</th>\n",
       "      <th>batch</th>\n",
       "      <th>niqe</th>\n",
       "      <th>brisque</th>\n",
       "      <th>niqe-mri</th>\n",
       "      <th>brisque-mri</th>\n",
       "      <th>iteration</th>\n",
       "    </tr>\n",
       "  </thead>\n",
       "  <tbody>\n",
       "    <tr>\n",
       "      <th>0</th>\n",
       "      <td>batch_344_im_201</td>\n",
       "      <td>1</td>\n",
       "      <td>17.043516</td>\n",
       "      <td>38.901735</td>\n",
       "      <td>19.627273</td>\n",
       "      <td>3.617705</td>\n",
       "      <td>344</td>\n",
       "    </tr>\n",
       "    <tr>\n",
       "      <th>1</th>\n",
       "      <td>batch_344_im_202</td>\n",
       "      <td>1</td>\n",
       "      <td>17.188457</td>\n",
       "      <td>36.958013</td>\n",
       "      <td>18.486816</td>\n",
       "      <td>3.815763</td>\n",
       "      <td>344</td>\n",
       "    </tr>\n",
       "    <tr>\n",
       "      <th>2</th>\n",
       "      <td>batch_344_im_203</td>\n",
       "      <td>1</td>\n",
       "      <td>14.409123</td>\n",
       "      <td>39.830189</td>\n",
       "      <td>17.892989</td>\n",
       "      <td>4.055648</td>\n",
       "      <td>344</td>\n",
       "    </tr>\n",
       "    <tr>\n",
       "      <th>3</th>\n",
       "      <td>batch_344_im_204</td>\n",
       "      <td>1</td>\n",
       "      <td>17.471897</td>\n",
       "      <td>37.539808</td>\n",
       "      <td>20.224067</td>\n",
       "      <td>3.469986</td>\n",
       "      <td>344</td>\n",
       "    </tr>\n",
       "    <tr>\n",
       "      <th>4</th>\n",
       "      <td>batch_344_im_205</td>\n",
       "      <td>1</td>\n",
       "      <td>16.490783</td>\n",
       "      <td>37.615966</td>\n",
       "      <td>20.083859</td>\n",
       "      <td>3.616220</td>\n",
       "      <td>344</td>\n",
       "    </tr>\n",
       "  </tbody>\n",
       "</table>\n",
       "</div>"
      ],
      "text/plain": [
       "              image  batch       niqe    brisque   niqe-mri  brisque-mri  \\\n",
       "0  batch_344_im_201      1  17.043516  38.901735  19.627273     3.617705   \n",
       "1  batch_344_im_202      1  17.188457  36.958013  18.486816     3.815763   \n",
       "2  batch_344_im_203      1  14.409123  39.830189  17.892989     4.055648   \n",
       "3  batch_344_im_204      1  17.471897  37.539808  20.224067     3.469986   \n",
       "4  batch_344_im_205      1  16.490783  37.615966  20.083859     3.616220   \n",
       "\n",
       "  iteration  \n",
       "0       344  \n",
       "1       344  \n",
       "2       344  \n",
       "3       344  \n",
       "4       344  "
      ]
     },
     "execution_count": 64,
     "metadata": {},
     "output_type": "execute_result"
    }
   ],
   "source": [
    "nb_detection = pd.read_csv(resultdir + 'analyze_2D_image_NIQE_BRISQUE_detection.csv')\n",
    "nb_rating = pd.read_csv(resultdir + 'analyze_2D_image_NIQE_BRISQUE_rating.csv')\n",
    "\n",
    "nb_detection['iteration'] = nb_detection.batch.astype('category')\n",
    "nb_detection['iteration'] = nb_detection.iteration.cat.reorder_categories([1,2,3,4,5,0]).cat.rename_categories({0:'real', 1:'344', 2:'1055', 3:'7954', 4:'24440', 5:'60000'})\n",
    "nb_rating['iteration'] = nb_rating.batch.astype('category')\n",
    "nb_rating['iteration'] = nb_rating.iteration.cat.reorder_categories([1,2,3,4,5,0]).cat.rename_categories({0:'real', 1:'344', 2:'1055', 3:'7954', 4:'24440', 5:'60000'})\n",
    "\n",
    "nb_rating.head()"
   ]
  },
  {
   "cell_type": "code",
   "execution_count": 65,
   "metadata": {},
   "outputs": [
    {
     "data": {
      "image/png": "[encoded data removed]",
      "text/plain": [
       "<Figure size 432x288 with 1 Axes>"
      ]
     },
     "metadata": {},
     "output_type": "display_data"
    }
   ],
   "source": [
    "m = 'niqe'\n",
    "# m = 'brisque'\n",
    "# m = 'niqe-mri'\n",
    "m = 'brisque-mri'\n",
    "with sns.plotting_context(\"paper\", font_scale=2):  # notebook paper slides\n",
    "    sns.set_style(\"whitegrid\")\n",
    "    if task == 'detection':\n",
    "        ax = sns.barplot(x='iteration', y=m, palette=\"magma\", data=nb_detection)\n",
    "    else:\n",
    "        ax = sns.barplot(x='iteration', y=m, palette=\"magma\", data=nb_rating)\n",
    "    plt.title(m.upper())\n",
    "    sns.despine(ax=ax, offset=3)\n",
    "#     ax.set_yticks([2200, 2300, 2400, 2500, 2600])\n",
    "    if task=='detection':\n",
    "        if m=='niqe': plt.ylim([12, 17.1]) # nique - detection\n",
    "        if m=='brisque': plt.ylim([1.81, 2.22]) # brisque - detection\n",
    "        if m=='niqe-mri': plt.ylim([12.1, 19.8]) # nique-mri - detection\n",
    "        if m=='brisque-mri': plt.ylim([1.1, 3.7]) # brisque-mri - detection\n",
    "    elif task=='rating':\n",
    "        if m=='niqe': plt.ylim([12, 17.2]) # nique - detection\n",
    "        if m=='brisque': plt.ylim([1.81, 2.19]) # brisque - detection\n",
    "        if m=='niqe-mri': plt.ylim([12.1, 19.99]) # nique-mri - detection\n",
    "        if m=='brisque-mri': \n",
    "            plt.ylim([1.3, 3.99]) # brisque-mri - detection\n",
    "            plt.title('BRISQUE-MRI (cross-validated)')\n",
    "    if 'brisque' in m: plt.ylabel('MOS')\n",
    "    plt.savefig(figdir + f'{task}_metrics_{m}.png', dpi=200, bbox_inches='tight')\n"
   ]
  },
  {
   "cell_type": "code",
   "execution_count": 66,
   "metadata": {},
   "outputs": [
    {
     "name": "stdout",
     "output_type": "stream",
     "text": [
      "--- niqe ---\n",
      "                 Results: Ordinary least squares\n",
      "=================================================================\n",
      "Model:              OLS              Adj. R-squared:     0.782   \n",
      "Dependent Variable: niqe             AIC:                414.2216\n",
      "Date:               2022-01-29 23:15 BIC:                420.3719\n",
      "No. Observations:   160              Log-Likelihood:     -205.11 \n",
      "Df Model:           1                F-statistic:        571.9   \n",
      "Df Residuals:       158              Prob (F-statistic): 2.23e-54\n",
      "R-squared:          0.784            Scale:              0.76996 \n",
      "-------------------------------------------------------------------\n",
      "          Coef.    Std.Err.      t       P>|t|     [0.025    0.975]\n",
      "-------------------------------------------------------------------\n",
      "x1       -0.8631     0.0361   -23.9149   0.0000   -0.9343   -0.7918\n",
      "const    21.7751     0.3172    68.6382   0.0000   21.1485   22.4016\n",
      "-----------------------------------------------------------------\n",
      "Omnibus:               4.316        Durbin-Watson:          1.512\n",
      "Prob(Omnibus):         0.116        Jarque-Bera (JB):       4.039\n",
      "Skew:                  -0.387       Prob(JB):               0.133\n",
      "Kurtosis:              3.084        Condition No.:          41   \n",
      "=================================================================\n",
      "\n",
      "--- niqe-mri ---\n",
      "                 Results: Ordinary least squares\n",
      "=================================================================\n",
      "Model:              OLS              Adj. R-squared:     0.514   \n",
      "Dependent Variable: niqe-mri         AIC:                581.7316\n",
      "Date:               2022-01-29 23:15 BIC:                587.8819\n",
      "No. Observations:   160              Log-Likelihood:     -288.87 \n",
      "Df Model:           1                F-statistic:        169.1   \n",
      "Df Residuals:       158              Prob (F-statistic): 9.38e-27\n",
      "R-squared:          0.517            Scale:              2.1936  \n",
      "-------------------------------------------------------------------\n",
      "          Coef.    Std.Err.      t       P>|t|     [0.025    0.975]\n",
      "-------------------------------------------------------------------\n",
      "x1       -0.7922     0.0609   -13.0056   0.0000   -0.9125   -0.6719\n",
      "const    23.5768     0.5355    44.0302   0.0000   22.5192   24.6344\n",
      "-----------------------------------------------------------------\n",
      "Omnibus:               3.609        Durbin-Watson:          0.862\n",
      "Prob(Omnibus):         0.165        Jarque-Bera (JB):       2.374\n",
      "Skew:                  -0.089       Prob(JB):               0.305\n",
      "Kurtosis:              2.431        Condition No.:          41   \n",
      "=================================================================\n",
      "\n",
      "--- brisque ---\n",
      "                 Results: Ordinary least squares\n",
      "=================================================================\n",
      "Model:              OLS              Adj. R-squared:     0.480   \n",
      "Dependent Variable: brisque          AIC:                589.0920\n",
      "Date:               2022-01-29 23:15 BIC:                595.2424\n",
      "No. Observations:   160              Log-Likelihood:     -292.55 \n",
      "Df Model:           1                F-statistic:        147.6   \n",
      "Df Residuals:       158              Prob (F-statistic): 2.12e-24\n",
      "R-squared:          0.483            Scale:              2.2968  \n",
      "-------------------------------------------------------------------\n",
      "           Coef.    Std.Err.      t      P>|t|     [0.025    0.975]\n",
      "-------------------------------------------------------------------\n",
      "x1         0.7572     0.0623   12.1481   0.0000    0.6341    0.8803\n",
      "const     35.6372     0.5479   65.0401   0.0000   34.5550   36.7194\n",
      "-----------------------------------------------------------------\n",
      "Omnibus:               5.844        Durbin-Watson:          0.536\n",
      "Prob(Omnibus):         0.054        Jarque-Bera (JB):       5.421\n",
      "Skew:                  -0.388       Prob(JB):               0.067\n",
      "Kurtosis:              2.540        Condition No.:          41   \n",
      "=================================================================\n",
      "\n",
      "--- brisque-mri ---\n",
      "                 Results: Ordinary least squares\n",
      "=================================================================\n",
      "Model:              OLS              Adj. R-squared:     0.776   \n",
      "Dependent Variable: brisque-mri      AIC:                89.4460 \n",
      "Date:               2022-01-29 23:15 BIC:                95.5963 \n",
      "No. Observations:   160              Log-Likelihood:     -42.723 \n",
      "Df Model:           1                F-statistic:        551.6   \n",
      "Df Residuals:       158              Prob (F-statistic): 2.10e-53\n",
      "R-squared:          0.777            Scale:              0.10114 \n",
      "-------------------------------------------------------------------\n",
      "          Coef.    Std.Err.      t       P>|t|     [0.025    0.975]\n",
      "-------------------------------------------------------------------\n",
      "x1       -0.3072     0.0131   -23.4851   0.0000   -0.3330   -0.2813\n",
      "const     5.5766     0.1150    48.5013   0.0000    5.3495    5.8037\n",
      "-----------------------------------------------------------------\n",
      "Omnibus:              9.959        Durbin-Watson:          1.617 \n",
      "Prob(Omnibus):        0.007        Jarque-Bera (JB):       10.052\n",
      "Skew:                 -0.596       Prob(JB):               0.007 \n",
      "Kurtosis:             3.299        Condition No.:          41    \n",
      "=================================================================\n",
      "\n"
     ]
    }
   ],
   "source": [
    "df = nb_rating[nb_rating.iteration!='real'] if task == 'rating' else nb_detection[nb_detection.iteration!='real']\n",
    "\n",
    "# linear regression\n",
    "for m in ('niqe', 'niqe-mri', 'brisque', 'brisque-mri'):\n",
    "    print('---', m, '---')\n",
    "    linear_regression(df[m], df['iteration'])"
   ]
  },
  {
   "cell_type": "code",
   "execution_count": 67,
   "metadata": {},
   "outputs": [
    {
     "name": "stdout",
     "output_type": "stream",
     "text": [
      "--- niqe ---\n",
      "iteration 60000 vs real: RanksumsResult(statistic=-0.9081352453758225, pvalue=0.36380677107860326)\n",
      "--- niqe-mri ---\n",
      "iteration 60000 vs real: RanksumsResult(statistic=7.9091495129185105, pvalue=2.5915322182045156e-15)\n",
      "--- brisque ---\n",
      "iteration 60000 vs real: RanksumsResult(statistic=4.901354054829794, pvalue=9.517834452185139e-07)\n",
      "--- brisque-mri ---\n",
      "iteration 60000 vs real: RanksumsResult(statistic=3.8772866504698236, pvalue=0.00010562788291158421)\n"
     ]
    }
   ],
   "source": [
    "df = nb_rating if task == 'rating' else nb_detection\n",
    "\n",
    "# Wilcoxon rank-sum\n",
    "for m in ('niqe', 'niqe-mri', 'brisque', 'brisque-mri'):\n",
    "    print('---', m, '---')    \n",
    "    print('iteration 60000 vs real:', stats.ranksums(df[df.iteration=='60000'][m], df[df.iteration=='real'][m]))"
   ]
  },
  {
   "cell_type": "markdown",
   "metadata": {},
   "source": [
    "---\n",
    "\n",
    "<a id=\"load_save\"></a>\n",
    "# Load/save metrics\n",
    "[back to top](#top)"
   ]
  },
  {
   "cell_type": "code",
   "execution_count": null,
   "metadata": {},
   "outputs": [],
   "source": [
    "# Load data\n",
    "with open(resultdir + f'analyze_gan_2D_all_metrics_{task}.pickle', 'rb') as f:\n",
    "    (df_is, df_mis, df_fid, df_mmd, df_vmaf, stat) = pickle.load(f)"
   ]
  },
  {
   "cell_type": "code",
   "execution_count": 68,
   "metadata": {},
   "outputs": [],
   "source": [
    "# Save data\n",
    "with open(resultdir + f'analyze_gan_2D_all_metrics_{task}.pickle', 'wb') as f:\n",
    "    pickle.dump((df_is, df_mis, df_fid, df_mmd, df_vmaf, stat), f, protocol=pickle.HIGHEST_PROTOCOL)"
   ]
  },
  {
   "cell_type": "markdown",
   "metadata": {},
   "source": [
    "<a id=\"deepqa\"></a>\n",
    "# Deep QA model\n",
    "[back to top](#top)"
   ]
  },
  {
   "cell_type": "code",
   "execution_count": null,
   "metadata": {},
   "outputs": [],
   "source": [
    "def clean_RT_data(df, RT_col, low_RT, high_RT, n_timeouts = None):\n",
    "    '''Cleans RT data by removing too short RTs and removing participants with\n",
    "    too many timeouts'''\n",
    "    # time outs\n",
    "    if n_timeouts is not None:\n",
    "        timeout = df.groupby('participant')['timeout'].sum()\n",
    "        timeout = timeout[timeout > n_timeouts]\n",
    "        if timeout.shape[0] > 0:\n",
    "            print(f'{timeout.shape[0]} participants have >{n_timeouts} timeouts, removing them')\n",
    "            for ix in timeout.index:\n",
    "                df = df[df['participant'] != ix]\n",
    "\n",
    "    # check lower RT bound\n",
    "    df_low = df[df[RT_col] <= low_RT]\n",
    "    if df_low.shape[0] > 0:\n",
    "        print(f'Removing {df_low.shape[0]} trials with RT <= {low_RT}')\n",
    "        df = df[df[RT_col] > low_RT]\n",
    "\n",
    "    # check high RT bound\n",
    "    df_high = df[df[RT_col] >= high_RT]\n",
    "    if df_high.shape[0] > 0:\n",
    "        print(f'Removing {df_high.shape[0]} trials with RT >= {high_RT}')\n",
    "        df = df[df[RT_col] < high_RT]\n",
    "\n",
    "    return df"
   ]
  },
  {
   "cell_type": "code",
   "execution_count": null,
   "metadata": {},
   "outputs": [],
   "source": [
    "# Empirical distribution \n",
    "with open(resultdir + f'psytoolkit_all_participants26.pickle', 'rb') as f:\n",
    "    df_rating = pickle.load(f)\n",
    "\n",
    "# select only rating task\n",
    "df_rating = df_rating[df_rating.task == 'RATING_TASK']\n",
    "\n",
    "# clean RTs like in analyze_toolkit_data\n",
    "df_rating = clean_RT_data(df_rating, 'rate_RT', low_RT=150, high_RT=10000)\n",
    "\n",
    "# dummy code rating\n",
    "df_rating = pd.concat((df_rating, pd.get_dummies(df_rating.rate, prefix='rate')), axis=1)\n",
    "df_rating['batch'] = df_rating['batch'].replace({344:0, 1055:1, 7954:2, 24440:3, 60000:4, 'real':5}).astype('int')\n",
    "\n",
    "# calculate empirical posterior pobabilities for each of the 30 images by averaging each rate across participants\n",
    "p_yx = df_rating.groupby('tablerow').apply(lambda x:\n",
    "                pd.Series({'batch':np.unique(x.batch)[0], 'rate':x.rate.mean(),\n",
    "                          'rate_1':x['rate_1'].mean(),'rate_2':x['rate_2'].mean(),'rate_3':x['rate_3'].mean(),\n",
    "                          'rate_4':x['rate_4'].mean(),'rate_5':x['rate_5'].mean()})).reset_index().copy()\n",
    "print(p_yx.shape)\n",
    "p_yx.batch = p_yx.batch.astype('int')\n",
    "p_yx.groupby('batch').mean().loc[:,'rate_1':]"
   ]
  },
  {
   "cell_type": "code",
   "execution_count": null,
   "metadata": {},
   "outputs": [],
   "source": [
    "p_yx.groupby('batch').mean().loc[:,'rate_1':].plot(kind='bar')\n",
    "plt.title('Empirical distribution of rate')"
   ]
  },
  {
   "cell_type": "code",
   "execution_count": null,
   "metadata": {},
   "outputs": [],
   "source": [
    "pretrained = 'none'\n",
    "# pretrained = 'densenet201'\n",
    "# pretrained = 'resnet101'\n",
    "pretrained = 'inceptionv3'\n",
    "\n",
    "detection_task = 'multiclass'\n",
    "\n",
    "with open(resultdir + f'results_DeepQA_{pretrained}_{detection_task}_rating_hist.pickle', 'rb') as f:\n",
    "    rating_hist, bayes_accuracy = pickle.load(f)\n",
    "\n",
    "print('Bayes accuracy:', bayes_accuracy)\n",
    "sh = rating_hist.shape"
   ]
  },
  {
   "cell_type": "code",
   "execution_count": null,
   "metadata": {},
   "outputs": [],
   "source": [
    "# RATING HIST: to convert numpy array to Pandas dataframe, define the dimensions and create multi-index\n",
    "iterables=[range(sh[0]), range(sh[1]), range(sh[2]), ('loss','train acc','test acc')]\n",
    "index = pd.MultiIndex.from_product(iterables, names=['run','fold','epoch','metric'])\n",
    "\n",
    "rating_hist = pd.DataFrame(rating_hist.reshape(-1,1), index, columns=['value']).reset_index()\n",
    "print(rating_hist.shape)\n",
    "rating_hist.head()"
   ]
  },
  {
   "cell_type": "code",
   "execution_count": null,
   "metadata": {},
   "outputs": [],
   "source": [
    "detection_hist = pd.read_csv(resultdir + f'results_DeepQA_{pretrained}_{detection_task}_detection_hist.csv')\n",
    "rating_pred = pd.read_csv(resultdir + f'results_DeepQA_{pretrained}_{detection_task}_rating_pred.csv')\n",
    "\n",
    "# convert batch to category and rename values\n",
    "rating_pred['batch'] = rating_pred['batch'].astype('category').cat.rename_categories({5:'real', 0:344, 1:1055, 2:7954, 3:24440, 4:60000})"
   ]
  },
  {
   "cell_type": "code",
   "execution_count": null,
   "metadata": {},
   "outputs": [],
   "source": [
    "with sns.plotting_context(\"paper\", font_scale=2):  # notebook paper slides\n",
    "    sns.set_style(\"whitegrid\")\n",
    "\n",
    "    # Loss\n",
    "    ax = sns.lineplot(x='index', y='loss', palette=\"magma\", data=detection_hist)\n",
    "    ax = sns.lineplot(x='index', y='val_loss', palette=\"magma\", data=detection_hist)\n",
    "    plt.title(f'DeepQA detection loss ({pretrained})')\n",
    "    sns.despine(ax=ax, offset=3)\n",
    "#     plt.show()\n",
    "\n",
    "#     # Accuracy\n",
    "#     plt.Figure()\n",
    "#     sns.lineplot(x='epoch', y='value', hue='metric', palette=\"magma\", \\\n",
    "#                      data=df_rating_hist[df_rating_hist.metric != 'loss'])\n",
    "#     plt.title('DeepQA detection accuracy')\n",
    "#     sns.despine(ax=ax, offset=3)\n",
    "#     plt.show()\n",
    "\n",
    "    #     plt.savefig(figdir + 'metrics_FID.png', dpi=200, bbox_inches='tight')"
   ]
  },
  {
   "cell_type": "code",
   "execution_count": null,
   "metadata": {},
   "outputs": [],
   "source": [
    "with sns.plotting_context(\"paper\", font_scale=2):  # notebook paper slides\n",
    "    sns.set_style(\"whitegrid\")\n",
    "\n",
    "    # Loss\n",
    "    ax = sns.lineplot(x='index', y='accuracy', palette=\"magma\", data=detection_hist)\n",
    "    ax = sns.lineplot(x='index', y='val_accuracy', palette=\"magma\", data=detection_hist)\n",
    "    plt.legend(['train', 'test'])\n",
    "    plt.title(f'DeepQA detection accuracy ({pretrained.capitalize()})')\n",
    "    sns.despine(ax=ax, offset=3)\n",
    "    plt.ylim((0.5,1.0))\n",
    "    #     plt.savefig(figdir + 'metrics_FID.png', dpi=200, bbox_inches='tight')"
   ]
  },
  {
   "cell_type": "code",
   "execution_count": null,
   "metadata": {},
   "outputs": [],
   "source": [
    "with sns.plotting_context(\"paper\", font_scale=2):  # notebook paper slides\n",
    "    sns.set_style(\"whitegrid\")\n",
    "\n",
    "    # Loss\n",
    "    ax = sns.lineplot(x='epoch', y='value', \\\n",
    "                     data=rating_hist[rating_hist.metric == 'loss'])\n",
    "    plt.title(f'DeepQA rating loss ({pretrained.capitalize()})')\n",
    "    sns.despine(ax=ax, offset=3)\n",
    "    #     plt.savefig(figdir + 'metrics_FID.png', dpi=200, bbox_inches='tight')"
   ]
  },
  {
   "cell_type": "code",
   "execution_count": null,
   "metadata": {},
   "outputs": [],
   "source": [
    "with sns.plotting_context(\"paper\", font_scale=2):  # notebook paper slides\n",
    "    sns.set_style(\"whitegrid\")\n",
    "    ax = sns.lineplot(x='epoch', y='value', hue='metric', palette=\"magma\", \\\n",
    "                     data=rating_hist[rating_hist.metric != 'loss'])\n",
    "#     plt.ylim([0.15, 0.45]); # ax.set_yticks(range(20, 160, 20))\n",
    "    plt.title(f'DeepQA on rating data ({pretrained.capitalize()})')\n",
    "    sns.despine(ax=ax, offset=3)\n",
    "#     plt.savefig(figdir + 'metrics_FID.png', dpi=200, bbox_inches='tight')"
   ]
  },
  {
   "cell_type": "code",
   "execution_count": null,
   "metadata": {},
   "outputs": [],
   "source": [
    "rating_pred.groupby('batch').mean()"
   ]
  },
  {
   "cell_type": "code",
   "execution_count": null,
   "metadata": {},
   "outputs": [],
   "source": [
    "# average across images within each batch / run\n",
    "rating_pred = rating_pred.groupby(['batch','run']).mean().reset_index()"
   ]
  },
  {
   "cell_type": "code",
   "execution_count": null,
   "metadata": {},
   "outputs": [],
   "source": [
    "with sns.plotting_context(\"paper\", font_scale=2):  # notebook paper slides\n",
    "    sns.set_style(\"whitegrid\")\n",
    "    ax = sns.barplot(x='batch', y='pred', palette=\"magma\", data=rating_pred)\n",
    "#     plt.ylim([2200, 2600]); ax.set_yticks([2200, 2300, 2400, 2500, 2600])\n",
    "    plt.title(f'Deep QA model ({pretrained.capitalize()})')\n",
    "#     ax.add_line(Line2D([3.1,3.1,3.9,3.9], [30,35,35,30], color='k'))\n",
    "    yl = plt.ylim()\n",
    "#     plt.ylim((yl[0], yl[1]+5))\n",
    "#     plt.ylim((0.8, 0.97))\n",
    "    sns.despine(ax=ax, offset=3)\n",
    "    plt.savefig(figdir + f'Deep_QA_MOS_{pretrained}.png', dpi=200, bbox_inches='tight')\n",
    "\n",
    "df = rating_pred[['batch', 'pred']]\n",
    "print('Batch 344 vs 1055:', stats.ranksums(df[df.batch == 344].iloc[:,1],df[df.batch == 1055].iloc[:,1]))    \n",
    "print('Batch 7954 vs 24440:', stats.ranksums(df[df.batch == 7954].iloc[:,1],df[df.batch == 24440].iloc[:,1]))    \n",
    "print('Batch 24440 vs 60000:', stats.ranksums(df[df.batch == 24440].iloc[:,1],df[df.batch == 60000].iloc[:,1]))    \n",
    "print('Batch 60000 vs real:', stats.ranksums(df[df.batch == 60000].iloc[:,1],df[df.batch == 'real'].iloc[:,1]))    \n"
   ]
  },
  {
   "cell_type": "markdown",
   "metadata": {},
   "source": [
    "<a id=\"pca\"></a>\n",
    "# PCA\n",
    "[back to top](#top)"
   ]
  },
  {
   "cell_type": "code",
   "execution_count": 90,
   "metadata": {},
   "outputs": [],
   "source": [
    "from sklearn.decomposition import PCA\n",
    "keys = np.array(df_images.iteration.unique())"
   ]
  },
  {
   "cell_type": "code",
   "execution_count": 91,
   "metadata": {},
   "outputs": [],
   "source": [
    "# Load images\n",
    "import PIL, PIL.ImageOps\n",
    "\n",
    "images = {}\n",
    "for key in keys:    \n",
    "    tmp = df_images[df_images.iteration == key]\n",
    "    ims = np.zeros((tmp.shape[0], 135, 355, 3))\n",
    "    \n",
    "    for index, row in tmp.reset_index().iterrows():\n",
    "\n",
    "        if task != 'notask':\n",
    "            im = np.array(PIL.Image.open(imagedir + 'images/' + row['image'] + '.png'))[:,:,:3]\n",
    "        else:\n",
    "            subfolder = 'real' if row['iteration']=='real' else f'batch_{row[\"iteration\"]}'\n",
    "            im = np.array(PIL.Image.open(datadir + subfolder + '/' + row['image'] + '.png'))[:,:,:3]\n",
    "        im = im[75:210,45:400]  # cut away the empty area around the MRI\n",
    "        ims[index, :, :, :] = im\n",
    "        \n",
    "    images[key] = ims[...,0]/255.\n"
   ]
  },
  {
   "cell_type": "code",
   "execution_count": 92,
   "metadata": {},
   "outputs": [],
   "source": [
    "total_variance = []\n",
    "pc1 = []  # relative variance explained by PC1\n",
    "pc2 = []  # relative variance explained by PC2\n",
    "pc3 = []  # relative variance explained by PC3\n",
    "for key in keys:\n",
    "    im = images[key].reshape((images[key].shape[0],-1))\n",
    "    pca = PCA().fit(im)\n",
    "    total_variance.append(sum(pca.explained_variance_))\n",
    "    pc1.append(pca.explained_variance_ratio_[0])\n",
    "    pc2.append(pca.explained_variance_ratio_[1])\n",
    "    pc3.append(pca.explained_variance_ratio_[2])"
   ]
  },
  {
   "cell_type": "code",
   "execution_count": 93,
   "metadata": {},
   "outputs": [],
   "source": [
    "df_pca = pd.DataFrame({'iteration':keys, 'total_variance':total_variance, 'pc1':pc1, 'pc2':pc2, 'pc3':pc3})\n",
    "df_pca['pc123'] = df_pca.pc1 + df_pca.pc2 + df_pca.pc3"
   ]
  },
  {
   "cell_type": "code",
   "execution_count": 94,
   "metadata": {},
   "outputs": [
    {
     "data": {
      "image/png": "[encoded data removed]",
      "text/plain": [
       "<Figure size 432x288 with 1 Axes>"
      ]
     },
     "metadata": {},
     "output_type": "display_data"
    }
   ],
   "source": [
    "with sns.plotting_context(\"paper\", font_scale=2):  # notebook paper slides\n",
    "    sns.set_style(\"whitegrid\")\n",
    "    ax = sns.barplot(x='iteration', y='total_variance', palette=\"magma\", data=df_pca)\n",
    "    ax.tick_params(axis='x', rotation=45)\n",
    "    plt.title('Total variance (detection task)')\n",
    "    sns.despine(ax=ax, offset=3)\n",
    "    plt.savefig(figdir + f'{task}_PCA_pca_total_variance.png', dpi=200, bbox_inches='tight')"
   ]
  },
  {
   "cell_type": "code",
   "execution_count": 95,
   "metadata": {},
   "outputs": [
    {
     "data": {
      "image/png": "[encoded data removed]",
      "text/plain": [
       "<Figure size 432x288 with 1 Axes>"
      ]
     },
     "metadata": {},
     "output_type": "display_data"
    }
   ],
   "source": [
    "with sns.plotting_context(\"paper\", font_scale=2):  # notebook paper slides\n",
    "    sns.set_style(\"whitegrid\")\n",
    "\n",
    "    ax = sns.barplot(x='iteration', y='pc1', palette=\"magma\", data=df_pca)\n",
    "    plt.title(f'Variance explained by PC1 (detection task)')\n",
    "    sns.despine(ax=ax, offset=3)\n",
    "    plt.savefig(figdir + f'{task}_PCA_pc1.png', dpi=200, bbox_inches='tight')"
   ]
  },
  {
   "cell_type": "code",
   "execution_count": 96,
   "metadata": {},
   "outputs": [
    {
     "data": {
      "image/png": "[encoded data removed]",
      "text/plain": [
       "<Figure size 432x288 with 1 Axes>"
      ]
     },
     "metadata": {},
     "output_type": "display_data"
    }
   ],
   "source": [
    "with sns.plotting_context(\"paper\", font_scale=2):  # notebook paper slides\n",
    "    sns.set_style(\"whitegrid\")\n",
    "#     plt.figure(figsize=(11,4))\n",
    "    ax = sns.barplot(x='iteration', y='pc123', palette=\"magma\", data=df_pca)\n",
    "    plt.ylabel('sum(pc1, pc2, pc3)')\n",
    "    plt.title(f'Variance explained by PCs 1+2+3 (detection_task)')\n",
    "    sns.despine(ax=ax, offset=3)\n",
    "    plt.savefig(figdir + f'detection_PCA_pc123.png', dpi=200, bbox_inches='tight')"
   ]
  },
  {
   "cell_type": "markdown",
   "metadata": {},
   "source": [
    "### Plot eigenvalue spectrum"
   ]
  },
  {
   "cell_type": "code",
   "execution_count": 97,
   "metadata": {},
   "outputs": [],
   "source": [
    "dfs = []\n",
    "for key in keys:\n",
    "    im = images[key].reshape((images[key].shape[0],-1))\n",
    "    pca = PCA().fit(im)\n",
    "    dfs.append(pd.DataFrame({'iteration':key, 'EV_number':range(len(pca.explained_variance_ratio_)), 'EV':pca.explained_variance_ratio_}))\n",
    "\n",
    "df_ev = pd.concat(dfs, axis=0).reset_index()"
   ]
  },
  {
   "cell_type": "code",
   "execution_count": 98,
   "metadata": {},
   "outputs": [
    {
     "data": {
      "image/png": "[encoded data removed]",
      "text/plain": [
       "<Figure size 720x288 with 1 Axes>"
      ]
     },
     "metadata": {},
     "output_type": "display_data"
    }
   ],
   "source": [
    "with sns.plotting_context(\"paper\", font_scale=2):  # notebook paper slides\n",
    "    sns.set_style(\"whitegrid\")\n",
    "    plt.figure(figsize=(10,4))\n",
    "    plt.title(f'Eigenvalue spectrum ({task} task)')\n",
    "    ax = sns.lineplot(x='EV_number', y='EV', hue='iteration',style='iteration', palette=\"magma\", \n",
    "                      linewidth=3,\n",
    "                      data=df_ev)\n",
    "    sns.despine(ax=ax, offset=3)\n",
    "    plt.ylim(0,0.1)\n",
    "    plt.savefig(figdir + f'{task}_PCA_normalized_EV_spectrum.png', dpi=200, bbox_inches='tight')"
   ]
  },
  {
   "cell_type": "code",
   "execution_count": null,
   "metadata": {},
   "outputs": [],
   "source": []
  }
 ],
 "metadata": {
  "kernelspec": {
   "display_name": "Python 3 (ipykernel)",
   "language": "python",
   "name": "python3"
  },
  "language_info": {
   "codemirror_mode": {
    "name": "ipython",
    "version": 3
   },
   "file_extension": ".py",
   "mimetype": "text/x-python",
   "name": "python",
   "nbconvert_exporter": "python",
   "pygments_lexer": "ipython3",
   "version": "3.8.12"
  }
 },
 "nbformat": 4,
 "nbformat_minor": 2
}
