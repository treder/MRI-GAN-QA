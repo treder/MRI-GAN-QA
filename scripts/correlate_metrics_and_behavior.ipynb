{
 "cells": [
  {
   "cell_type": "markdown",
   "metadata": {},
   "source": [
    "<a id=\"top\"></a>\n",
    "\n",
    "# Correlate metrics and behavior\n",
    "\n",
    "Calculate correlation between image quality metrics and behavior (detection performance or rating).\n",
    "\n",
    "\n",
    "- [Load data](#load)\n",
    "- [Calculate correlations (include real)](#correlation_incl_real)\n",
    "- [Calculate correlations (exclude real)](#correlation_excl_real)\n"
   ]
  },
  {
   "cell_type": "code",
   "execution_count": 1,
   "metadata": {
    "scrolled": true
   },
   "outputs": [],
   "source": [
    "import os\n",
    "import pandas as pd\n",
    "import numpy as np\n",
    "import scipy, pickle\n",
    "from scipy import stats"
   ]
  },
  {
   "cell_type": "code",
   "execution_count": 2,
   "metadata": {},
   "outputs": [
    {
     "name": "stdout",
     "output_type": "stream",
     "text": [
      "/Users/matthiastreder\n"
     ]
    }
   ],
   "source": [
    "from pathlib import Path\n",
    "home = str(Path.home())\n",
    "print(home)\n",
    "\n",
    "basedir = os.path.join(home, 'git/MRI-GAN-QA/')\n",
    "datadir = basedir + 'experiment/'\n",
    "imagedir = basedir + 'experiment/Psytoolkit/'\n",
    "figdir = basedir + 'figures/'\n",
    "resultdir = basedir + 'results/'"
   ]
  },
  {
   "cell_type": "code",
   "execution_count": 3,
   "metadata": {},
   "outputs": [],
   "source": [
    "def clean_RT_data(df, RT_col, low_RT, high_RT, n_timeouts = None):\n",
    "    '''Cleans RT data by removing too short RTs and removing participants with\n",
    "    too many timeouts'''\n",
    "    # time outs\n",
    "    if n_timeouts is not None:\n",
    "        timeout = df.groupby('participant')['timeout'].sum()\n",
    "        timeout = timeout[timeout > n_timeouts]\n",
    "        if timeout.shape[0] > 0:\n",
    "            print(f'{timeout.shape[0]} participants have >{n_timeouts} timeouts, removing them')\n",
    "            for ix in timeout.index:\n",
    "                df = df[df['participant'] != ix] \n",
    "            \n",
    "    # check lower RT bound\n",
    "    df_low = df[df[RT_col] <= low_RT]\n",
    "    if df_low.shape[0] > 0:\n",
    "        print(f'Removing {df_low.shape[0]} trials with RT <= {low_RT}')\n",
    "        df = df[df[RT_col] > low_RT]\n",
    "    \n",
    "    # check high RT bound\n",
    "    df_high = df[df[RT_col] >= high_RT]\n",
    "    if df_high.shape[0] > 0:\n",
    "        print(f'Removing {df_high.shape[0]} trials with RT >= {high_RT}')\n",
    "        df = df[df[RT_col] < high_RT]\n",
    "\n",
    "    return df"
   ]
  },
  {
   "cell_type": "code",
   "execution_count": 4,
   "metadata": {},
   "outputs": [],
   "source": [
    "def trim_mean_upper(x, prop=0.1):\n",
    "    '''Calculates trimmed mean but trims only upper tail'''\n",
    "    return x[x <= x.quantile(1-prop)].mean()"
   ]
  },
  {
   "cell_type": "code",
   "execution_count": 20,
   "metadata": {},
   "outputs": [
    {
     "name": "stdout",
     "output_type": "stream",
     "text": [
      "processing detection task\n"
     ]
    }
   ],
   "source": [
    "task = 'detection'\n",
    "# task = 'rating'\n",
    "\n",
    "print('processing', task, 'task')"
   ]
  },
  {
   "cell_type": "markdown",
   "metadata": {},
   "source": [
    "---\n",
    "\n",
    "<a id=\"load\"></a>\n",
    "# Load data\n",
    "[back to top](#top)"
   ]
  },
  {
   "cell_type": "code",
   "execution_count": 21,
   "metadata": {},
   "outputs": [],
   "source": [
    "# Load metrics\n",
    "with open(resultdir + f'analyze_gan_2D_all_metrics_{task}.pickle', 'rb') as f:\n",
    "    (df_is, df_mis, df_fid, df_mmd, df_vmaf, stat) = pickle.load(f)"
   ]
  },
  {
   "cell_type": "code",
   "execution_count": 22,
   "metadata": {},
   "outputs": [
    {
     "data": {
      "text/html": [
       "<div>\n",
       "<style scoped>\n",
       "    .dataframe tbody tr th:only-of-type {\n",
       "        vertical-align: middle;\n",
       "    }\n",
       "\n",
       "    .dataframe tbody tr th {\n",
       "        vertical-align: top;\n",
       "    }\n",
       "\n",
       "    .dataframe thead th {\n",
       "        text-align: right;\n",
       "    }\n",
       "</style>\n",
       "<table border=\"1\" class=\"dataframe\">\n",
       "  <thead>\n",
       "    <tr style=\"text-align: right;\">\n",
       "      <th></th>\n",
       "      <th>image</th>\n",
       "      <th>button</th>\n",
       "      <th>batch</th>\n",
       "      <th>niqe</th>\n",
       "      <th>brisque</th>\n",
       "      <th>niqe-mri</th>\n",
       "      <th>brisque-mri</th>\n",
       "      <th>iteration</th>\n",
       "    </tr>\n",
       "  </thead>\n",
       "  <tbody>\n",
       "    <tr>\n",
       "      <th>0</th>\n",
       "      <td>batch_344_im_101</td>\n",
       "      <td>2</td>\n",
       "      <td>1</td>\n",
       "      <td>17.858787</td>\n",
       "      <td>39.121691</td>\n",
       "      <td>18.306365</td>\n",
       "      <td>3.591137</td>\n",
       "      <td>344</td>\n",
       "    </tr>\n",
       "    <tr>\n",
       "      <th>1</th>\n",
       "      <td>batch_344_im_102</td>\n",
       "      <td>2</td>\n",
       "      <td>1</td>\n",
       "      <td>16.137112</td>\n",
       "      <td>40.706215</td>\n",
       "      <td>18.580572</td>\n",
       "      <td>3.066754</td>\n",
       "      <td>344</td>\n",
       "    </tr>\n",
       "    <tr>\n",
       "      <th>2</th>\n",
       "      <td>batch_344_im_103</td>\n",
       "      <td>2</td>\n",
       "      <td>1</td>\n",
       "      <td>15.194134</td>\n",
       "      <td>37.045835</td>\n",
       "      <td>17.003539</td>\n",
       "      <td>3.764313</td>\n",
       "      <td>344</td>\n",
       "    </tr>\n",
       "    <tr>\n",
       "      <th>3</th>\n",
       "      <td>batch_344_im_104</td>\n",
       "      <td>2</td>\n",
       "      <td>1</td>\n",
       "      <td>16.908035</td>\n",
       "      <td>38.088221</td>\n",
       "      <td>18.924624</td>\n",
       "      <td>3.858712</td>\n",
       "      <td>344</td>\n",
       "    </tr>\n",
       "    <tr>\n",
       "      <th>4</th>\n",
       "      <td>batch_344_im_105</td>\n",
       "      <td>2</td>\n",
       "      <td>1</td>\n",
       "      <td>17.156788</td>\n",
       "      <td>38.954275</td>\n",
       "      <td>20.316853</td>\n",
       "      <td>3.476280</td>\n",
       "      <td>344</td>\n",
       "    </tr>\n",
       "  </tbody>\n",
       "</table>\n",
       "</div>"
      ],
      "text/plain": [
       "              image  button  batch       niqe    brisque   niqe-mri  \\\n",
       "0  batch_344_im_101       2      1  17.858787  39.121691  18.306365   \n",
       "1  batch_344_im_102       2      1  16.137112  40.706215  18.580572   \n",
       "2  batch_344_im_103       2      1  15.194134  37.045835  17.003539   \n",
       "3  batch_344_im_104       2      1  16.908035  38.088221  18.924624   \n",
       "4  batch_344_im_105       2      1  17.156788  38.954275  20.316853   \n",
       "\n",
       "   brisque-mri iteration  \n",
       "0     3.591137       344  \n",
       "1     3.066754       344  \n",
       "2     3.764313       344  \n",
       "3     3.858712       344  \n",
       "4     3.476280       344  "
      ]
     },
     "execution_count": 22,
     "metadata": {},
     "output_type": "execute_result"
    }
   ],
   "source": [
    "# Load NIQE/BRISQUE\n",
    "if task == 'detection':\n",
    "    nb = pd.read_csv(resultdir + 'analyze_2D_image_NIQE_BRISQUE_detection.csv')\n",
    "else:\n",
    "    nb = pd.read_csv(resultdir + 'analyze_2D_image_NIQE_BRISQUE_rating.csv')\n",
    "\n",
    "nb['iteration'] = nb.batch.astype('category')\n",
    "nb['iteration'] = nb.iteration.cat.reorder_categories([1,2,3,4,5,0]).cat.rename_categories({0:'real', 1:'344', 2:'1055', 3:'7954', 4:'24440', 5:'60000'})\n",
    "\n",
    "nb.head()"
   ]
  },
  {
   "cell_type": "code",
   "execution_count": 23,
   "metadata": {},
   "outputs": [
    {
     "name": "stderr",
     "output_type": "stream",
     "text": [
      "/var/folders/60/5mt6_9q52xgcr_b3bq5y3cfr0000gn/T/ipykernel_97548/1931588895.py:12: SettingWithCopyWarning: \n",
      "A value is trying to be set on a copy of a slice from a DataFrame\n",
      "\n",
      "See the caveats in the documentation: https://pandas.pydata.org/pandas-docs/stable/user_guide/indexing.html#returning-a-view-versus-a-copy\n",
      "  behavior.batch[behavior.batch=='real'] = -1\n"
     ]
    }
   ],
   "source": [
    "# Load behavioral data\n",
    "with open(resultdir + f'psytoolkit_all_participants26.pickle', 'rb') as f:\n",
    "    behavior = pickle.load(f)\n",
    "    \n",
    "if task == 'detection':\n",
    "    behavior = behavior[behavior['blockname'] == 'MAIN_EXPERIMENT_BLOCK']\n",
    "else:\n",
    "    behavior = behavior[behavior['blockname'] == 'RATING_BLOCK']\n",
    "    \n",
    "# 'REAL' is recoded as -1 (so we can calculate mean later on)\n",
    "behavior.batch = behavior.batch.astype('object')\n",
    "behavior.batch[behavior.batch=='real'] = -1\n",
    "behavior.batch = behavior.batch.astype('int')\n"
   ]
  },
  {
   "cell_type": "code",
   "execution_count": 24,
   "metadata": {},
   "outputs": [
    {
     "name": "stdout",
     "output_type": "stream",
     "text": [
      "1 participants have >30 timeouts, removing them\n",
      "Removing 16 trials with RT >= 20000\n"
     ]
    },
    {
     "data": {
      "text/plain": [
       "(5984, 20)"
      ]
     },
     "execution_count": 24,
     "metadata": {},
     "output_type": "execute_result"
    }
   ],
   "source": [
    "# clean RTs\n",
    "if task == 'detection':\n",
    "    behavior = clean_RT_data(behavior, 'RT', low_RT=150, high_RT=20000, n_timeouts=30)\n",
    "else:\n",
    "    behavior = clean_RT_data(behavior, 'rate_RT', low_RT=150, high_RT=10000)\n",
    "\n",
    "behavior.shape"
   ]
  },
  {
   "cell_type": "code",
   "execution_count": 25,
   "metadata": {
    "scrolled": true
   },
   "outputs": [
    {
     "name": "stdout",
     "output_type": "stream",
     "text": [
      "   tablerow      real     correct  experience  batch\n",
      "0         1  0.000000  100.000000    3.200000  344.0\n",
      "1         2  0.000000  100.000000    3.200000  344.0\n",
      "2         3  4.166667   91.666667    3.208333  344.0\n",
      "3         4  4.000000   96.000000    3.200000  344.0\n",
      "4         5  4.000000   96.000000    3.200000  344.0\n"
     ]
    },
    {
     "name": "stderr",
     "output_type": "stream",
     "text": [
      "/var/folders/60/5mt6_9q52xgcr_b3bq5y3cfr0000gn/T/ipykernel_97548/3151099267.py:12: SettingWithCopyWarning: \n",
      "A value is trying to be set on a copy of a slice from a DataFrame\n",
      "\n",
      "See the caveats in the documentation: https://pandas.pydata.org/pandas-docs/stable/user_guide/indexing.html#returning-a-view-versus-a-copy\n",
      "  behavior.batch[behavior.batch==-1] = 'real'\n"
     ]
    }
   ],
   "source": [
    "# average across participants\n",
    "if task == 'detection':\n",
    "    behavior = behavior.groupby(['tablerow'])[['real', 'correct', 'experience','batch']].mean().reset_index()\n",
    "#     button_av = behavior.groupby(['participant','batch'])[['real', 'correct', 'experience']].mean().reset_index()\n",
    "    behavior['real'] *= 100\n",
    "    behavior['correct'] *= 100\n",
    "    print(behavior.head(5))\n",
    "else:\n",
    "    behavior = behavior.groupby(['tablerow'])[['rate', 'experience','batch']].mean().reset_index()\n",
    "\n",
    "behavior.batch = behavior.batch.astype('int').astype('object')\n",
    "behavior.batch[behavior.batch==-1] = 'real'"
   ]
  },
  {
   "cell_type": "code",
   "execution_count": 26,
   "metadata": {},
   "outputs": [
    {
     "data": {
      "text/html": [
       "<div>\n",
       "<style scoped>\n",
       "    .dataframe tbody tr th:only-of-type {\n",
       "        vertical-align: middle;\n",
       "    }\n",
       "\n",
       "    .dataframe tbody tr th {\n",
       "        vertical-align: top;\n",
       "    }\n",
       "\n",
       "    .dataframe thead th {\n",
       "        text-align: right;\n",
       "    }\n",
       "</style>\n",
       "<table border=\"1\" class=\"dataframe\">\n",
       "  <thead>\n",
       "    <tr style=\"text-align: right;\">\n",
       "      <th></th>\n",
       "      <th>tablerow</th>\n",
       "      <th>real</th>\n",
       "      <th>correct</th>\n",
       "      <th>experience</th>\n",
       "      <th>batch</th>\n",
       "    </tr>\n",
       "  </thead>\n",
       "  <tbody>\n",
       "    <tr>\n",
       "      <th>0</th>\n",
       "      <td>1</td>\n",
       "      <td>0.000000</td>\n",
       "      <td>100.000000</td>\n",
       "      <td>3.200000</td>\n",
       "      <td>344</td>\n",
       "    </tr>\n",
       "    <tr>\n",
       "      <th>1</th>\n",
       "      <td>2</td>\n",
       "      <td>0.000000</td>\n",
       "      <td>100.000000</td>\n",
       "      <td>3.200000</td>\n",
       "      <td>344</td>\n",
       "    </tr>\n",
       "    <tr>\n",
       "      <th>2</th>\n",
       "      <td>3</td>\n",
       "      <td>4.166667</td>\n",
       "      <td>91.666667</td>\n",
       "      <td>3.208333</td>\n",
       "      <td>344</td>\n",
       "    </tr>\n",
       "    <tr>\n",
       "      <th>3</th>\n",
       "      <td>4</td>\n",
       "      <td>4.000000</td>\n",
       "      <td>96.000000</td>\n",
       "      <td>3.200000</td>\n",
       "      <td>344</td>\n",
       "    </tr>\n",
       "    <tr>\n",
       "      <th>4</th>\n",
       "      <td>5</td>\n",
       "      <td>4.000000</td>\n",
       "      <td>96.000000</td>\n",
       "      <td>3.200000</td>\n",
       "      <td>344</td>\n",
       "    </tr>\n",
       "  </tbody>\n",
       "</table>\n",
       "</div>"
      ],
      "text/plain": [
       "   tablerow      real     correct  experience batch\n",
       "0         1  0.000000  100.000000    3.200000   344\n",
       "1         2  0.000000  100.000000    3.200000   344\n",
       "2         3  4.166667   91.666667    3.208333   344\n",
       "3         4  4.000000   96.000000    3.200000   344\n",
       "4         5  4.000000   96.000000    3.200000   344"
      ]
     },
     "execution_count": 26,
     "metadata": {},
     "output_type": "execute_result"
    }
   ],
   "source": [
    "behavior.head()"
   ]
  },
  {
   "cell_type": "markdown",
   "metadata": {},
   "source": [
    "---\n",
    "\n",
    "<a id=\"correlation_excl_real\"></a>\n",
    "# Calculate correlations (excluding `real`)\n",
    "[back to top](#top)\n"
   ]
  },
  {
   "cell_type": "code",
   "execution_count": 27,
   "metadata": {},
   "outputs": [
    {
     "name": "stdout",
     "output_type": "stream",
     "text": [
      "160\n"
     ]
    }
   ],
   "source": [
    "behavior_ex = behavior[behavior.batch != 'real']\n",
    "n = behavior_ex.shape[0]\n",
    "print(n)"
   ]
  },
  {
   "cell_type": "code",
   "execution_count": 28,
   "metadata": {},
   "outputs": [],
   "source": [
    "mis_av = df_mis.groupby('iteration')['MIS'].mean()\n",
    "fid_av = df_fid.groupby('iteration')['FID'].mean()\n",
    "mmd_av = df_mmd.groupby('iteration')['MMD'].mean()"
   ]
  },
  {
   "cell_type": "code",
   "execution_count": 29,
   "metadata": {},
   "outputs": [
    {
     "name": "stdout",
     "output_type": "stream",
     "text": [
      "32\n",
      "32\n",
      "32\n",
      "32\n",
      "32\n"
     ]
    }
   ],
   "source": [
    "# MIS, FID, and MMD have no values per-image, but only averages per iteration.\n",
    "# So we fill up a vector \n",
    "mis_val = np.zeros((behavior_ex.shape[0],))\n",
    "fid_val = np.zeros((behavior_ex.shape[0],))\n",
    "mmd_val = np.zeros((behavior_ex.shape[0],))\n",
    "\n",
    "for it in (344, 1055, 7954, 24440, 60000):\n",
    "    print(sum(behavior.batch == it))\n",
    "    mis_val[behavior_ex.batch == it] = mis_av[it]\n",
    "    fid_val[behavior_ex.batch == it] = fid_av[it]\n",
    "    mmd_val[behavior_ex.batch == it] = mmd_av[it]"
   ]
  },
  {
   "cell_type": "code",
   "execution_count": 30,
   "metadata": {},
   "outputs": [
    {
     "name": "stdout",
     "output_type": "stream",
     "text": [
      "IS: SpearmanrResult(correlation=-0.2557241071130985, pvalue=0.0010994342495376304)\n",
      "MIS: SpearmanrResult(correlation=0.1109438090138115, pvalue=0.1625180169333629)\n",
      "FID: SpearmanrResult(correlation=-0.60237698308851, pvalue=3.5651129764241114e-17)\n",
      "MMD: SpearmanrResult(correlation=-0.60237698308851, pvalue=3.5651129764241114e-17)\n",
      "NIQE: SpearmanrResult(correlation=-0.7060186822145289, pvalue=1.8810304731231436e-25)\n",
      "NIQE-MRI: SpearmanrResult(correlation=-0.5363324816837106, pvalue=2.683282311377366e-13)\n",
      "BRISQUE: SpearmanrResult(correlation=0.4649300265637616, pvalue=5.877070362695938e-10)\n",
      "BRISQUE-MRI: SpearmanrResult(correlation=-0.859937587481293, pvalue=5.2033647796747766e-48)\n"
     ]
    }
   ],
   "source": [
    "target = behavior_ex.real if task=='detection' else behavior_ex.rate\n",
    "\n",
    "print('IS:', stats.spearmanr(df_is.IS[:n], target))\n",
    "print('MIS:', stats.spearmanr(mis_val, target))\n",
    "print('FID:', stats.spearmanr(fid_val, target))\n",
    "print('MMD:', stats.spearmanr(mmd_val, target))\n",
    "print('NIQE:', stats.spearmanr(nb['niqe'][:n], target))\n",
    "print('NIQE-MRI:', stats.spearmanr(nb['niqe-mri'][:n], target))\n",
    "print('BRISQUE:', stats.spearmanr(nb['brisque'][:n], target))\n",
    "print('BRISQUE-MRI:', stats.spearmanr(nb['brisque-mri'][:n], target))"
   ]
  },
  {
   "cell_type": "markdown",
   "metadata": {},
   "source": [
    "---\n",
    "\n",
    "<a id=\"correlation_incl_real\"></a>\n",
    "# Calculate correlations (including `real`)\n",
    "[back to top](#top)\n"
   ]
  },
  {
   "cell_type": "code",
   "execution_count": 31,
   "metadata": {},
   "outputs": [],
   "source": [
    "mis_av = df_mis.groupby('iteration')['MIS'].mean()"
   ]
  },
  {
   "cell_type": "code",
   "execution_count": 32,
   "metadata": {},
   "outputs": [],
   "source": [
    "# MIS, FID, and MMD have no values per-image, but only averages per iteration.\n",
    "# So we fill up a vector \n",
    "mis_val = np.zeros((behavior.shape[0],))\n",
    "\n",
    "for it in (344, 1055, 7954, 24440, 60000, 'real'):\n",
    "    mis_val[behavior.batch == it] = mis_av[it]"
   ]
  },
  {
   "cell_type": "code",
   "execution_count": 33,
   "metadata": {},
   "outputs": [
    {
     "name": "stdout",
     "output_type": "stream",
     "text": [
      "IS: SpearmanrResult(correlation=0.007990392367803863, pvalue=0.9019944003871532)\n",
      "MIS: SpearmanrResult(correlation=0.3439971066800105, pvalue=4.521177803825465e-08)\n",
      "NIQE: SpearmanrResult(correlation=-0.5188688895953197, pvalue=6.076029935991954e-18)\n",
      "NIQE-MRI: SpearmanrResult(correlation=-0.761025303379701, pvalue=1.2603042770588866e-46)\n",
      "BRISQUE: SpearmanrResult(correlation=-0.013092691108690668, pvalue=0.840088095866526)\n",
      "BRISQUE-MRI: SpearmanrResult(correlation=-0.8585113137801569, pvalue=5.563524264506524e-71)\n"
     ]
    }
   ],
   "source": [
    "target = behavior.real if task=='detection' else behavior.rate\n",
    "\n",
    "print('IS:', stats.spearmanr(df_is.IS, target))\n",
    "print('MIS:', stats.spearmanr(mis_val, target))\n",
    "print('NIQE:', stats.spearmanr(nb['niqe'], target))\n",
    "print('NIQE-MRI:', stats.spearmanr(nb['niqe-mri'], target))\n",
    "print('BRISQUE:', stats.spearmanr(nb['brisque'], target))\n",
    "print('BRISQUE-MRI:', stats.spearmanr(nb['brisque-mri'], target))"
   ]
  },
  {
   "cell_type": "code",
   "execution_count": null,
   "metadata": {},
   "outputs": [],
   "source": []
  }
 ],
 "metadata": {
  "kernelspec": {
   "display_name": "Python 3 (ipykernel)",
   "language": "python",
   "name": "python3"
  },
  "language_info": {
   "codemirror_mode": {
    "name": "ipython",
    "version": 3
   },
   "file_extension": ".py",
   "mimetype": "text/x-python",
   "name": "python",
   "nbconvert_exporter": "python",
   "pygments_lexer": "ipython3",
   "version": "3.8.12"
  }
 },
 "nbformat": 4,
 "nbformat_minor": 2
}
